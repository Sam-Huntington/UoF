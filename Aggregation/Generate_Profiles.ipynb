{
 "cells": [
  {
   "cell_type": "code",
   "execution_count": 241,
   "metadata": {
    "collapsed": false
   },
   "outputs": [
    {
     "name": "stderr",
     "output_type": "stream",
     "text": [
      "Warning: requiring \"Statsbase\" did not define a corresponding module.\n"
     ]
    }
   ],
   "source": [
    "using Gadfly \n",
    "using DataFrames\n",
    "using Statsbase"
   ]
  },
  {
   "cell_type": "code",
   "execution_count": 259,
   "metadata": {
    "collapsed": false
   },
   "outputs": [
    {
     "data": {
      "text/plain": [
       "rand_bldg_loads (generic function with 1 method)"
      ]
     },
     "execution_count": 259,
     "metadata": {},
     "output_type": "execute_result"
    }
   ],
   "source": [
    "#non-controllable loads\n",
    "function rand_bldg_loads(n)\n",
    "    profiles = readtable(\"stock_res_profiles.csv\", header = false)\n",
    "    df = DataFrames.DataFrame()\n",
    "    for i in 1:n\n",
    "        a = profiles[rand(1:5)]*((randn()/4)+1)\n",
    "        df = hcat(df,a)\n",
    "    end\n",
    "    return df\n",
    "    #writetable(\"profiles.csv\",header=false,df)\n",
    "end"
   ]
  },
  {
   "cell_type": "code",
   "execution_count": 2,
   "metadata": {
    "collapsed": false
   },
   "outputs": [
    {
     "data": {
      "text/plain": [
       "fBuild_Sched (generic function with 1 method)"
      ]
     },
     "execution_count": 2,
     "metadata": {},
     "output_type": "execute_result"
    }
   ],
   "source": [
    "#scheduled loads\n",
    "function fBuild_Sched(st, fw, nc)\n",
    "    df = DataFrame()\n",
    "    for i in 0:(nc-1)\n",
    "        a = [st,st+fw].+i*sample([36,48,48,60])\n",
    "        df = hcat(df,a)\n",
    "    end\n",
    "    return df\n",
    "end"
   ]
  },
  {
   "cell_type": "code",
   "execution_count": 299,
   "metadata": {
    "collapsed": false
   },
   "outputs": [
    {
     "data": {
      "text/plain": [
       "rand_tech_parameters (generic function with 1 method)"
      ]
     },
     "execution_count": 299,
     "metadata": {},
     "output_type": "execute_result"
    }
   ],
   "source": [
    "function rand_tech_parameters(n)\n",
    "    \n",
    "    PV = randn(n)+5\n",
    "    B1 = fill(0,n) #pBattNominalE\n",
    "    B2 = fill(1,n) #pBattDischargeCapacity\n",
    "    B3 = fill(1,n) #pBattChargeCapacity\n",
    "    B4 = fill(1,n) #pBatt_DischargeEff\n",
    "    B5 = fill(1,n) #pBattChargeEff\n",
    "    B6 = fill(1,n) #pBattCDeg\n",
    "    B7 = fill(1,n) #pBattInitialSOC\n",
    "    B8 = fill(1,n) #pBattSOCMax\n",
    "    B9 = fill(1,n) #pBattSOCMin\n",
    "    \n",
    "    H1 = fill(1,n) #pDeadband_HVAC\n",
    "    H2 = (randn(n)/4)+2 #pCapacitance_HVAC\n",
    "    H3 = (randn(n)/4)+4 #pResistance_HVAC\n",
    "    H4 = (randn(n)/4)+2.5 #pCOP_HVAC\n",
    "    H5 = (randn(n)/4)+5 #pMaxPower_HVAC\n",
    "    \n",
    "    W1 = fill(4,n) #pDeadband_WH\n",
    "    W2 = rand(2:6,n)/10 #pCapacitance_WH\n",
    "    W3 = rand(100:140,n) #pResistance_WH\n",
    "    W4 = fill(1,n) #pCOP_WH\n",
    "    W5 = (randn(n)/4)+4 #pMaxPower_WH\n",
    "    \n",
    "    SL1 = sample([7,8,9,17,18,19],n) #pLoadTime\n",
    "    SL2 = sample([4,5,6,7,8],n) #pFlexWindow\n",
    "    SL3 = fill(3,n) #pNumCycles\n",
    "    SL4 = fill(1,n) #pMaxLoad\n",
    "    SL5 = fill(1,n) #pTotal_SL_kWh\n",
    "    \n",
    "    df = hcat(PV,B1,B2,B3,B4,B5,B6,B7,B8,B9,H1,H2,H3,H4,H5,W1,W2,W3,W4,W5,SL1,SL2,SL3,SL4,SL5)\n",
    "    df = convert(DataFrames.DataFrame, df)\n",
    "    rename!(df, {:x1=>:PV_Cap,:x2=>:pBattNominalE,:x3=>:pBattDischargeCapacity,:x4=>:pBattChargeCapacity,:x5=>:pBatt_DischargeEff,\n",
    "                :x6=>:pBattChargeEff,\n",
    "                :x7=>:pBattCDeg,:x8=>:pBattInitialSOC,:x9=>:pBattSOCMax,:x10=>:pBattSOCMin,:x11=>:pDeadband_HVAC,\n",
    "                :x12=>:pCapacitance_HVAC,:x13=>:pResistance_HVAC,:x14=>:pCOP_HVAC,:x15=>:pMaxPower_HVAC,:x16=>:pDeadband_WH,\n",
    "                :x17=>:pCapacitance_WH,:x18=>:pResistance_WH,:x19=>:pCOP_WH,:x20=>:pMaxPower_WH,:x21=>:pLoadTime,\n",
    "                :x22=>:pFlexWindow, :x23=>:pNumCycles,:x24=>:pMaxLoad,:x25=>:pTotal_SL_kWh,})\n",
    "\n",
    "    return df\n",
    "end"
   ]
  },
  {
   "cell_type": "code",
   "execution_count": 232,
   "metadata": {
    "collapsed": false
   },
   "outputs": [
    {
     "data": {
      "text/html": [
       "<table class=\"data-frame\"><tr><th></th><th>PV_Cap</th><th>pBattNominalE</th><th>pBattDischargeCapacity</th><th>pBattChargeCapacity</th><th>pBatt_DischargeEff</th><th>pBattChargeEff</th><th>pBattCDeg</th><th>pBattInitialSOC</th><th>pBattSOCMax</th><th>pBattSOCMin</th><th>pDeadband_HVAC</th><th>pCapacitance_HVAC</th><th>pResistance_HVAC</th><th>pCOP_HVAC</th><th>pMaxPower_HVAC</th><th>pDeadband_WH</th><th>pCapacitance_WH</th><th>pResistance_WH</th><th>pCOP_WH</th><th>pMaxPower_WH</th><th>pLoadTime</th><th>pFlexWindow</th><th>pNumCycles</th><th>pMaxLoad</th><th>pTotal_SL_kWh</th></tr><tr><th>1</th><td>5.9854136544486725</td><td>0.0</td><td>1.0</td><td>1.0</td><td>1.0</td><td>1.0</td><td>1.0</td><td>1.0</td><td>1.0</td><td>1.0</td><td>1.0</td><td>2.1367902832246926</td><td>4.117746699103326</td><td>2.765115002487954</td><td>4.935368129285896</td><td>4.0</td><td>0.5</td><td>137.0</td><td>1.0</td><td>3.8300854405066</td><td>7.0</td><td>5.0</td><td>3.0</td><td>1.0</td><td>1.0</td></tr><tr><th>2</th><td>4.636099682561218</td><td>0.0</td><td>1.0</td><td>1.0</td><td>1.0</td><td>1.0</td><td>1.0</td><td>1.0</td><td>1.0</td><td>1.0</td><td>1.0</td><td>2.360027197329123</td><td>4.441986337178566</td><td>2.8592990868499544</td><td>4.92724546509504</td><td>4.0</td><td>0.4</td><td>135.0</td><td>1.0</td><td>3.800400532367278</td><td>8.0</td><td>7.0</td><td>3.0</td><td>1.0</td><td>1.0</td></tr><tr><th>3</th><td>4.617586800654658</td><td>0.0</td><td>1.0</td><td>1.0</td><td>1.0</td><td>1.0</td><td>1.0</td><td>1.0</td><td>1.0</td><td>1.0</td><td>1.0</td><td>2.006874216159963</td><td>3.7532480252493023</td><td>2.6540466859736207</td><td>4.63432533899021</td><td>4.0</td><td>0.3</td><td>140.0</td><td>1.0</td><td>4.019032437147287</td><td>8.0</td><td>7.0</td><td>3.0</td><td>1.0</td><td>1.0</td></tr></table>"
      ],
      "text/plain": [
       "3x25 DataFrame\n",
       "| Row | PV_Cap  | pBattNominalE | pBattDischargeCapacity | pBattChargeCapacity |\n",
       "|-----|---------|---------------|------------------------|---------------------|\n",
       "| 1   | 5.98541 | 0.0           | 1.0                    | 1.0                 |\n",
       "| 2   | 4.6361  | 0.0           | 1.0                    | 1.0                 |\n",
       "| 3   | 4.61759 | 0.0           | 1.0                    | 1.0                 |\n",
       "\n",
       "| Row | pBatt_DischargeEff | pBattChargeEff | pBattCDeg | pBattInitialSOC |\n",
       "|-----|--------------------|----------------|-----------|-----------------|\n",
       "| 1   | 1.0                | 1.0            | 1.0       | 1.0             |\n",
       "| 2   | 1.0                | 1.0            | 1.0       | 1.0             |\n",
       "| 3   | 1.0                | 1.0            | 1.0       | 1.0             |\n",
       "\n",
       "| Row | pBattSOCMax | pBattSOCMin | pDeadband_HVAC | pCapacitance_HVAC |\n",
       "|-----|-------------|-------------|----------------|-------------------|\n",
       "| 1   | 1.0         | 1.0         | 1.0            | 2.13679           |\n",
       "| 2   | 1.0         | 1.0         | 1.0            | 2.36003           |\n",
       "| 3   | 1.0         | 1.0         | 1.0            | 2.00687           |\n",
       "\n",
       "| Row | pResistance_HVAC | pCOP_HVAC | pMaxPower_HVAC | pDeadband_WH |\n",
       "|-----|------------------|-----------|----------------|--------------|\n",
       "| 1   | 4.11775          | 2.76512   | 4.93537        | 4.0          |\n",
       "| 2   | 4.44199          | 2.8593    | 4.92725        | 4.0          |\n",
       "| 3   | 3.75325          | 2.65405   | 4.63433        | 4.0          |\n",
       "\n",
       "| Row | pCapacitance_WH | pResistance_WH | pCOP_WH | pMaxPower_WH | pLoadTime |\n",
       "|-----|-----------------|----------------|---------|--------------|-----------|\n",
       "| 1   | 0.5             | 137.0          | 1.0     | 3.83009      | 7.0       |\n",
       "| 2   | 0.4             | 135.0          | 1.0     | 3.8004       | 8.0       |\n",
       "| 3   | 0.3             | 140.0          | 1.0     | 4.01903      | 8.0       |\n",
       "\n",
       "| Row | pFlexWindow | pNumCycles | pMaxLoad | pTotal_SL_kWh |\n",
       "|-----|-------------|------------|----------|---------------|\n",
       "| 1   | 5.0         | 3.0        | 1.0      | 1.0           |\n",
       "| 2   | 7.0         | 3.0        | 1.0      | 1.0           |\n",
       "| 3   | 7.0         | 3.0        | 1.0      | 1.0           |"
      ]
     },
     "execution_count": 232,
     "metadata": {},
     "output_type": "execute_result"
    }
   ],
   "source": [
    "df = rand_tech_parameters(3)\n",
    "df"
   ]
  },
  {
   "cell_type": "code",
   "execution_count": 251,
   "metadata": {
    "collapsed": true
   },
   "outputs": [],
   "source": [
    "# need function that builds random set of input data\n",
    "# output = 2 dataframes, which get passed to dr_dre\n",
    "# running it 1000 times creates 2000 dataframes which can be stored in dfs and looped over"
   ]
  },
  {
   "cell_type": "code",
   "execution_count": 258,
   "metadata": {
    "collapsed": false
   },
   "outputs": [
    {
     "ename": "LoadError",
     "evalue": "unrecognized keyword argument \"numberbin\"\nwhile loading In[258], in expression starting on line 1",
     "output_type": "error",
     "traceback": [
      "unrecognized keyword argument \"numberbin\"\nwhile loading In[258], in expression starting on line 1",
      ""
     ]
    }
   ],
   "source": [
    "plot(x=randn(100),Geom.histogram(numberbin=100))"
   ]
  },
  {
   "cell_type": "code",
   "execution_count": 301,
   "metadata": {
    "collapsed": false
   },
   "outputs": [
    {
     "data": {
      "text/plain": [
       "168-element DataArray{Float64,1}:\n",
       " 0.680327\n",
       " 0.620238\n",
       " 0.603752\n",
       " 0.601422\n",
       " 0.668199\n",
       " 0.938872\n",
       " 1.30829 \n",
       " 1.28728 \n",
       " 1.09491 \n",
       " 1.09206 \n",
       " 1.11387 \n",
       " 1.08964 \n",
       " 1.05778 \n",
       " ⋮       \n",
       " 1.05778 \n",
       " 1.05583 \n",
       " 1.05583 \n",
       " 1.10862 \n",
       " 1.16405 \n",
       " 1.22225 \n",
       " 1.28337 \n",
       " 1.28337 \n",
       " 1.2192  \n",
       " 1.15824 \n",
       " 1.10033 \n",
       " 1.04531 "
      ]
     },
     "execution_count": 301,
     "metadata": {},
     "output_type": "execute_result"
    }
   ],
   "source": [
    "df = rand_bldg_loads(3)\n",
    "temp = df[2]\n",
    "loads = temp[1:168]\n",
    "\n",
    "#df = rand_tech_parameters(3)\n",
    "#temp = df[2,:]\n",
    "#temp[:PV_Cap]"
   ]
  },
  {
   "cell_type": "code",
   "execution_count": 307,
   "metadata": {
    "collapsed": false
   },
   "outputs": [
    {
     "data": {
      "text/plain": [
       "\"outputs1.csv\""
      ]
     },
     "execution_count": 307,
     "metadata": {},
     "output_type": "execute_result"
    }
   ],
   "source": [
    "\"outputs\"*string(1)*\".csv\""
   ]
  },
  {
   "cell_type": "code",
   "execution_count": null,
   "metadata": {
    "collapsed": true
   },
   "outputs": [],
   "source": []
  }
 ],
 "metadata": {
  "kernelspec": {
   "display_name": "Julia 0.3.11",
   "language": "julia",
   "name": "julia-0.3"
  },
  "language_info": {
   "file_extension": ".jl",
   "mimetype": "application/julia",
   "name": "julia",
   "version": "0.3.11"
  }
 },
 "nbformat": 4,
 "nbformat_minor": 0
}
