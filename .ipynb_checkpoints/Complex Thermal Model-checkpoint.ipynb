{
 "cells": [
  {
   "cell_type": "code",
   "execution_count": 2,
   "metadata": {
    "collapsed": false
   },
   "outputs": [
    {
     "name": "stderr",
     "output_type": "stream",
     "text": [
      "Warning: New definition \n",
      "    .+(AbstractArray{S<:Union(GenericNormExpr{2,Float64,Variable},GenericAffExpr{CoefType,VarType},GenericNorm{P,Float64,Variable},GenericQuadExpr{Float64,Variable},AbstractJuMPScalar),N},AbstractArray{T<:Number,N}) at C:\\Users\\huntington\\.julia\\v0.3\\JuMP\\src\\operators.jl:565\n",
      "is ambiguous with: \n",
      "    .+(Union(PooledDataArray{T,R<:Integer,N},DataArray{T,N}),AbstractArray{T,N}...) at C:\\Users\\huntington\\.julia\\v0.3\\DataArrays\\src\\broadcast.jl:284.\n",
      "To fix, define \n",
      "    .+(Union(DataArray{S<:Union(GenericNormExpr{2,Float64,Variable},GenericAffExpr{CoefType,VarType},GenericNorm{P,Float64,Variable},GenericQuadExpr{Float64,Variable},AbstractJuMPScalar),N},PooledDataArray{S<:Union(GenericNormExpr{2,Float64,Variable},GenericAffExpr{CoefType,VarType},GenericNorm{P,Float64,Variable},GenericQuadExpr{Float64,Variable},AbstractJuMPScalar),R<:Integer,N}),AbstractArray{T<:Number,N})\n",
      "before the new definition.\n",
      "Warning: New definition \n",
      "    .+(AbstractArray{S<:Union(GenericNormExpr{2,Float64,Variable},GenericAffExpr{CoefType,VarType},GenericNorm{P,Float64,Variable},GenericQuadExpr{Float64,Variable},AbstractJuMPScalar),N},AbstractArray{T<:Number,N}) at C:\\Users\\huntington\\.julia\\v0.3\\JuMP\\src\\operators.jl:565\n",
      "is ambiguous with: \n",
      "    .+(AbstractArray{T,N},Union(PooledDataArray{T,R<:Integer,N},DataArray{T,N}),AbstractArray{T,N}...) at C:\\Users\\huntington\\.julia\\v0.3\\DataArrays\\src\\broadcast.jl:284.\n",
      "To fix, define \n",
      "    .+(AbstractArray{S<:Union(GenericNormExpr{2,Float64,Variable},GenericAffExpr{CoefType,VarType},GenericNorm{P,Float64,Variable},GenericQuadExpr{Float64,Variable},AbstractJuMPScalar),N},Union(PooledDataArray{T<:Number,R<:Integer,N},DataArray{T<:Number,N}))\n",
      "before the new definition.\n",
      "Warning: New definition \n",
      "    .+(AbstractArray{S<:Union(GenericNormExpr{2,Float64,Variable},GenericAffExpr{CoefType,VarType},GenericNorm{P,Float64,Variable},GenericQuadExpr{Float64,Variable},AbstractJuMPScalar),N},AbstractArray{T<:Union(GenericNormExpr{2,Float64,Variable},GenericAffExpr{CoefType,VarType},GenericNorm{P,Float64,Variable},GenericQuadExpr{Float64,Variable},AbstractJuMPScalar),N}) at C:\\Users\\huntington\\.julia\\v0.3\\JuMP\\src\\operators.jl:576\n",
      "is ambiguous with: \n",
      "    .+(Union(PooledDataArray{T,R<:Integer,N},DataArray{T,N}),AbstractArray{T,N}...) at C:\\Users\\huntington\\.julia\\v0.3\\DataArrays\\src\\broadcast.jl:284.\n",
      "To fix, define \n",
      "    .+(Union(DataArray{S<:Union(GenericNormExpr{2,Float64,Variable},GenericAffExpr{CoefType,VarType},GenericNorm{P,Float64,Variable},GenericQuadExpr{Float64,Variable},AbstractJuMPScalar),N},PooledDataArray{S<:Union(GenericNormExpr{2,Float64,Variable},GenericAffExpr{CoefType,VarType},GenericNorm{P,Float64,Variable},GenericQuadExpr{Float64,Variable},AbstractJuMPScalar),R<:Integer,N}),AbstractArray{T<:Union(GenericNormExpr{2,Float64,Variable},GenericAffExpr{CoefType,VarType},GenericNorm{P,Float64,Variable},GenericQuadExpr{Float64,Variable},AbstractJuMPScalar),N})\n",
      "before the new definition.\n",
      "Warning: New definition \n",
      "    .+(AbstractArray{S<:Union(GenericNormExpr{2,Float64,Variable},GenericAffExpr{CoefType,VarType},GenericNorm{P,Float64,Variable},GenericQuadExpr{Float64,Variable},AbstractJuMPScalar),N},AbstractArray{T<:Union(GenericNormExpr{2,Float64,Variable},GenericAffExpr{CoefType,VarType},GenericNorm{P,Float64,Variable},GenericQuadExpr{Float64,Variable},AbstractJuMPScalar),N}) at C:\\Users\\huntington\\.julia\\v0.3\\JuMP\\src\\operators.jl:576\n",
      "is ambiguous with: \n",
      "    .+(AbstractArray{T,N},Union(PooledDataArray{T,R<:Integer,N},DataArray{T,N}),AbstractArray{T,N}...) at C:\\Users\\huntington\\.julia\\v0.3\\DataArrays\\src\\broadcast.jl:284.\n",
      "To fix, define \n",
      "    .+(AbstractArray{S<:Union(GenericNormExpr{2,Float64,Variable},GenericAffExpr{CoefType,VarType},GenericNorm{P,Float64,Variable},GenericQuadExpr{Float64,Variable},AbstractJuMPScalar),N},Union(PooledDataArray{T<:Union(GenericNormExpr{2,Float64,Variable},GenericAffExpr{CoefType,VarType},GenericNorm{P,Float64,Variable},GenericQuadExpr{Float64,Variable},AbstractJuMPScalar),R<:Integer,N},DataArray{T<:Union(GenericNormExpr{2,Float64,Variable},GenericAffExpr{CoefType,VarType},GenericNorm{P,Float64,Variable},GenericQuadExpr{Float64,Variable},AbstractJuMPScalar),N}))\n",
      "before the new definition.\n",
      "Warning: New definition \n",
      "    .+(AbstractArray{S<:Number,N},AbstractArray{T<:Union(GenericNormExpr{2,Float64,Variable},GenericAffExpr{CoefType,VarType},GenericNorm{P,Float64,Variable},GenericQuadExpr{Float64,Variable},AbstractJuMPScalar),N}) at C:\\Users\\huntington\\.julia\\v0.3\\JuMP\\src\\operators.jl:584\n",
      "is ambiguous with: \n",
      "    .+(Union(PooledDataArray{T,R<:Integer,N},DataArray{T,N}),AbstractArray{T,N}...) at C:\\Users\\huntington\\.julia\\v0.3\\DataArrays\\src\\broadcast.jl:284.\n",
      "To fix, define \n",
      "    .+(Union(DataArray{S<:Number,N},PooledDataArray{S<:Number,R<:Integer,N}),AbstractArray{T<:Union(GenericNormExpr{2,Float64,Variable},GenericAffExpr{CoefType,VarType},GenericNorm{P,Float64,Variable},GenericQuadExpr{Float64,Variable},AbstractJuMPScalar),N})\n",
      "before the new definition.\n",
      "Warning: New definition \n",
      "    .+(AbstractArray{S<:Number,N},AbstractArray{T<:Union(GenericNormExpr{2,Float64,Variable},GenericAffExpr{CoefType,VarType},GenericNorm{P,Float64,Variable},GenericQuadExpr{Float64,Variable},AbstractJuMPScalar),N}) at C:\\Users\\huntington\\.julia\\v0.3\\JuMP\\src\\operators.jl:584\n",
      "is ambiguous with: \n",
      "    .+(AbstractArray{T,N},Union(PooledDataArray{T,R<:Integer,N},DataArray{T,N}),AbstractArray{T,N}...) at C:\\Users\\huntington\\.julia\\v0.3\\DataArrays\\src\\broadcast.jl:284.\n",
      "To fix, define \n",
      "    .+(AbstractArray{S<:Number,N},Union(PooledDataArray{T<:Union(GenericNormExpr{2,Float64,Variable},GenericAffExpr{CoefType,VarType},GenericNorm{P,Float64,Variable},GenericQuadExpr{Float64,Variable},AbstractJuMPScalar),R<:Integer,N},DataArray{T<:Union(GenericNormExpr{2,Float64,Variable},GenericAffExpr{CoefType,VarType},GenericNorm{P,Float64,Variable},GenericQuadExpr{Float64,Variable},AbstractJuMPScalar),N}))\n",
      "before the new definition.\n",
      "Warning: New definition \n",
      "    .-(AbstractArray{S<:Union(GenericNormExpr{2,Float64,Variable},GenericAffExpr{CoefType,VarType},GenericNorm{P,Float64,Variable},GenericQuadExpr{Float64,Variable},AbstractJuMPScalar),N},AbstractArray{T<:Number,N}) at C:\\Users\\huntington\\.julia\\v0.3\\JuMP\\src\\operators.jl:565\n",
      "is ambiguous with: \n",
      "    .-(Union(PooledDataArray{T,R<:Integer,N},DataArray{T,N}),AbstractArray{T,N}) at C:\\Users\\huntington\\.julia\\v0.3\\DataArrays\\src\\broadcast.jl:271.\n",
      "To fix, define \n",
      "    .-(Union(DataArray{S<:Union(GenericNormExpr{2,Float64,Variable},GenericAffExpr{CoefType,VarType},GenericNorm{P,Float64,Variable},GenericQuadExpr{Float64,Variable},AbstractJuMPScalar),N},PooledDataArray{S<:Union(GenericNormExpr{2,Float64,Variable},GenericAffExpr{CoefType,VarType},GenericNorm{P,Float64,Variable},GenericQuadExpr{Float64,Variable},AbstractJuMPScalar),R<:Integer,N}),AbstractArray{T<:Number,N})\n",
      "before the new definition.\n",
      "Warning: New definition \n",
      "    .-(AbstractArray{S<:Union(GenericNormExpr{2,Float64,Variable},GenericAffExpr{CoefType,VarType},GenericNorm{P,Float64,Variable},GenericQuadExpr{Float64,Variable},AbstractJuMPScalar),N},AbstractArray{T<:Number,N}) at C:\\Users\\huntington\\.julia\\v0.3\\JuMP\\src\\operators.jl:565\n",
      "is ambiguous with: \n",
      "    .-(AbstractArray{T,N},Union(PooledDataArray{T,R<:Integer,N},DataArray{T,N})) at C:\\Users\\huntington\\.julia\\v0.3\\DataArrays\\src\\broadcast.jl:272.\n",
      "To fix, define \n",
      "    .-(AbstractArray{S<:Union(GenericNormExpr{2,Float64,Variable},GenericAffExpr{CoefType,VarType},GenericNorm{P,Float64,Variable},GenericQuadExpr{Float64,Variable},AbstractJuMPScalar),N},Union(PooledDataArray{T<:Number,R<:Integer,N},DataArray{T<:Number,N}))\n",
      "before the new definition.\n",
      "Warning: New definition \n",
      "    .-(AbstractArray{S<:Union(GenericNormExpr{2,Float64,Variable},GenericAffExpr{CoefType,VarType},GenericNorm{P,Float64,Variable},GenericQuadExpr{Float64,Variable},AbstractJuMPScalar),N},AbstractArray{T<:Union(GenericNormExpr{2,Float64,Variable},GenericAffExpr{CoefType,VarType},GenericNorm{P,Float64,Variable},GenericQuadExpr{Float64,Variable},AbstractJuMPScalar),N}) at C:\\Users\\huntington\\.julia\\v0.3\\JuMP\\src\\operators.jl:576\n",
      "is ambiguous with: \n",
      "    .-(Union(PooledDataArray{T,R<:Integer,N},DataArray{T,N}),AbstractArray{T,N}) at C:\\Users\\huntington\\.julia\\v0.3\\DataArrays\\src\\broadcast.jl:271.\n",
      "To fix, define \n",
      "    .-(Union(DataArray{S<:Union(GenericNormExpr{2,Float64,Variable},GenericAffExpr{CoefType,VarType},GenericNorm{P,Float64,Variable},GenericQuadExpr{Float64,Variable},AbstractJuMPScalar),N},PooledDataArray{S<:Union(GenericNormExpr{2,Float64,Variable},GenericAffExpr{CoefType,VarType},GenericNorm{P,Float64,Variable},GenericQuadExpr{Float64,Variable},AbstractJuMPScalar),R<:Integer,N}),AbstractArray{T<:Union(GenericNormExpr{2,Float64,Variable},GenericAffExpr{CoefType,VarType},GenericNorm{P,Float64,Variable},GenericQuadExpr{Float64,Variable},AbstractJuMPScalar),N})\n",
      "before the new definition.\n",
      "Warning: New definition \n",
      "    .-(AbstractArray{S<:Union(GenericNormExpr{2,Float64,Variable},GenericAffExpr{CoefType,VarType},GenericNorm{P,Float64,Variable},GenericQuadExpr{Float64,Variable},AbstractJuMPScalar),N},AbstractArray{T<:Union(GenericNormExpr{2,Float64,Variable},GenericAffExpr{CoefType,VarType},GenericNorm{P,Float64,Variable},GenericQuadExpr{Float64,Variable},AbstractJuMPScalar),N}) at C:\\Users\\huntington\\.julia\\v0.3\\JuMP\\src\\operators.jl:576\n",
      "is ambiguous with: \n",
      "    .-(AbstractArray{T,N},Union(PooledDataArray{T,R<:Integer,N},DataArray{T,N})) at C:\\Users\\huntington\\.julia\\v0.3\\DataArrays\\src\\broadcast.jl:272.\n",
      "To fix, define \n",
      "    .-(AbstractArray{S<:Union(GenericNormExpr{2,Float64,Variable},GenericAffExpr{CoefType,VarType},GenericNorm{P,Float64,Variable},GenericQuadExpr{Float64,Variable},AbstractJuMPScalar),N},Union(PooledDataArray{T<:Union(GenericNormExpr{2,Float64,Variable},GenericAffExpr{CoefType,VarType},GenericNorm{P,Float64,Variable},GenericQuadExpr{Float64,Variable},AbstractJuMPScalar),R<:Integer,N},DataArray{T<:Union(GenericNormExpr{2,Float64,Variable},GenericAffExpr{CoefType,VarType},GenericNorm{P,Float64,Variable},GenericQuadExpr{Float64,Variable},AbstractJuMPScalar),N}))\n",
      "before the new definition.\n",
      "Warning: New definition \n",
      "    .-(AbstractArray{S<:Number,N},AbstractArray{T<:Union(GenericNormExpr{2,Float64,Variable},GenericAffExpr{CoefType,VarType},GenericNorm{P,Float64,Variable},GenericQuadExpr{Float64,Variable},AbstractJuMPScalar),N}) at C:\\Users\\huntington\\.julia\\v0.3\\JuMP\\src\\operators.jl:584\n",
      "is ambiguous with: \n",
      "    .-(Union(PooledDataArray{T,R<:Integer,N},DataArray{T,N}),AbstractArray{T,N}) at C:\\Users\\huntington\\.julia\\v0.3\\DataArrays\\src\\broadcast.jl:271.\n",
      "To fix, define \n",
      "    .-(Union(DataArray{S<:Number,N},PooledDataArray{S<:Number,R<:Integer,N}),AbstractArray{T<:Union(GenericNormExpr{2,Float64,Variable},GenericAffExpr{CoefType,VarType},GenericNorm{P,Float64,Variable},GenericQuadExpr{Float64,Variable},AbstractJuMPScalar),N})\n",
      "before the new definition.\n",
      "Warning: New definition \n",
      "    .-(AbstractArray{S<:Number,N},AbstractArray{T<:Union(GenericNormExpr{2,Float64,Variable},GenericAffExpr{CoefType,VarType},GenericNorm{P,Float64,Variable},GenericQuadExpr{Float64,Variable},AbstractJuMPScalar),N}) at C:\\Users\\huntington\\.julia\\v0.3\\JuMP\\src\\operators.jl:584\n",
      "is ambiguous with: \n",
      "    .-(AbstractArray{T,N},Union(PooledDataArray{T,R<:Integer,N},DataArray{T,N})) at C:\\Users\\huntington\\.julia\\v0.3\\DataArrays\\src\\broadcast.jl:272.\n",
      "To fix, define \n",
      "    .-(AbstractArray{S<:Number,N},Union(PooledDataArray{T<:Union(GenericNormExpr{2,Float64,Variable},GenericAffExpr{CoefType,VarType},GenericNorm{P,Float64,Variable},GenericQuadExpr{Float64,Variable},AbstractJuMPScalar),R<:Integer,N},DataArray{T<:Union(GenericNormExpr{2,Float64,Variable},GenericAffExpr{CoefType,VarType},GenericNorm{P,Float64,Variable},GenericQuadExpr{Float64,Variable},AbstractJuMPScalar),N}))\n",
      "before the new definition.\n",
      "Warning: New definition \n",
      "    .*(AbstractArray{S<:Union(GenericNormExpr{2,Float64,Variable},GenericAffExpr{CoefType,VarType},GenericNorm{P,Float64,Variable},GenericQuadExpr{Float64,Variable},AbstractJuMPScalar),N},AbstractArray{T<:Number,N}) at C:\\Users\\huntington\\.julia\\v0.3\\JuMP\\src\\operators.jl:565\n",
      "is ambiguous with: \n",
      "    .*(Union(PooledDataArray{T,R<:Integer,N},DataArray{T,N}),AbstractArray{T,N}...) at C:\\Users\\huntington\\.julia\\v0.3\\DataArrays\\src\\broadcast.jl:282.\n",
      "To fix, define \n",
      "    .*(Union(DataArray{S<:Union(GenericNormExpr{2,Float64,Variable},GenericAffExpr{CoefType,VarType},GenericNorm{P,Float64,Variable},GenericQuadExpr{Float64,Variable},AbstractJuMPScalar),N},PooledDataArray{S<:Union(GenericNormExpr{2,Float64,Variable},GenericAffExpr{CoefType,VarType},GenericNorm{P,Float64,Variable},GenericQuadExpr{Float64,Variable},AbstractJuMPScalar),R<:Integer,N}),AbstractArray{T<:Number,N})\n",
      "before the new definition.\n",
      "Warning: New definition \n",
      "    .*(AbstractArray{S<:Union(GenericNormExpr{2,Float64,Variable},GenericAffExpr{CoefType,VarType},GenericNorm{P,Float64,Variable},GenericQuadExpr{Float64,Variable},AbstractJuMPScalar),N},AbstractArray{T<:Number,N}) at C:\\Users\\huntington\\.julia\\v0.3\\JuMP\\src\\operators.jl:565\n",
      "is ambiguous with: \n",
      "    .*(AbstractArray{T,N},Union(PooledDataArray{T,R<:Integer,N},DataArray{T,N}),AbstractArray{T,N}...) at C:\\Users\\huntington\\.julia\\v0.3\\DataArrays\\src\\broadcast.jl:282.\n",
      "To fix, define \n",
      "    .*(AbstractArray{S<:Union(GenericNormExpr{2,Float64,Variable},GenericAffExpr{CoefType,VarType},GenericNorm{P,Float64,Variable},GenericQuadExpr{Float64,Variable},AbstractJuMPScalar),N},Union(PooledDataArray{T<:Number,R<:Integer,N},DataArray{T<:Number,N}))\n",
      "before the new definition.\n",
      "Warning: New definition \n",
      "    .*(AbstractArray{S<:Union(GenericNormExpr{2,Float64,Variable},GenericAffExpr{CoefType,VarType},GenericNorm{P,Float64,Variable},GenericQuadExpr{Float64,Variable},AbstractJuMPScalar),N},AbstractArray{T<:Union(GenericNormExpr{2,Float64,Variable},GenericAffExpr{CoefType,VarType},GenericNorm{P,Float64,Variable},GenericQuadExpr{Float64,Variable},AbstractJuMPScalar),N}) at C:\\Users\\huntington\\.julia\\v0.3\\JuMP\\src\\operators.jl:576\n",
      "is ambiguous with: \n",
      "    .*(Union(PooledDataArray{T,R<:Integer,N},DataArray{T,N}),AbstractArray{T,N}...) at C:\\Users\\huntington\\.julia\\v0.3\\DataArrays\\src\\broadcast.jl:282.\n",
      "To fix, define \n",
      "    .*(Union(DataArray{S<:Union(GenericNormExpr{2,Float64,Variable},GenericAffExpr{CoefType,VarType},GenericNorm{P,Float64,Variable},GenericQuadExpr{Float64,Variable},AbstractJuMPScalar),N},PooledDataArray{S<:Union(GenericNormExpr{2,Float64,Variable},GenericAffExpr{CoefType,VarType},GenericNorm{P,Float64,Variable},GenericQuadExpr{Float64,Variable},AbstractJuMPScalar),R<:Integer,N}),AbstractArray{T<:Union(GenericNormExpr{2,Float64,Variable},GenericAffExpr{CoefType,VarType},GenericNorm{P,Float64,Variable},GenericQuadExpr{Float64,Variable},AbstractJuMPScalar),N})\n",
      "before the new definition.\n",
      "Warning: New definition \n",
      "    .*(AbstractArray{S<:Union(GenericNormExpr{2,Float64,Variable},GenericAffExpr{CoefType,VarType},GenericNorm{P,Float64,Variable},GenericQuadExpr{Float64,Variable},AbstractJuMPScalar),N},AbstractArray{T<:Union(GenericNormExpr{2,Float64,Variable},GenericAffExpr{CoefType,VarType},GenericNorm{P,Float64,Variable},GenericQuadExpr{Float64,Variable},AbstractJuMPScalar),N}) at C:\\Users\\huntington\\.julia\\v0.3\\JuMP\\src\\operators.jl:576\n",
      "is ambiguous with: \n",
      "    .*(AbstractArray{T,N},Union(PooledDataArray{T,R<:Integer,N},DataArray{T,N}),AbstractArray{T,N}...) at C:\\Users\\huntington\\.julia\\v0.3\\DataArrays\\src\\broadcast.jl:282.\n",
      "To fix, define \n",
      "    .*(AbstractArray{S<:Union(GenericNormExpr{2,Float64,Variable},GenericAffExpr{CoefType,VarType},GenericNorm{P,Float64,Variable},GenericQuadExpr{Float64,Variable},AbstractJuMPScalar),N},Union(PooledDataArray{T<:Union(GenericNormExpr{2,Float64,Variable},GenericAffExpr{CoefType,VarType},GenericNorm{P,Float64,Variable},GenericQuadExpr{Float64,Variable},AbstractJuMPScalar),R<:Integer,N},DataArray{T<:Union(GenericNormExpr{2,Float64,Variable},GenericAffExpr{CoefType,VarType},GenericNorm{P,Float64,Variable},GenericQuadExpr{Float64,Variable},AbstractJuMPScalar),N}))\n",
      "before the new definition.\n",
      "Warning: New definition \n",
      "    .*(AbstractArray{S<:Number,N},AbstractArray{T<:Union(GenericNormExpr{2,Float64,Variable},GenericAffExpr{CoefType,VarType},GenericNorm{P,Float64,Variable},GenericQuadExpr{Float64,Variable},AbstractJuMPScalar),N}) at C:\\Users\\huntington\\.julia\\v0.3\\JuMP\\src\\operators.jl:584\n",
      "is ambiguous with: \n",
      "    .*(Union(PooledDataArray{T,R<:Integer,N},DataArray{T,N}),AbstractArray{T,N}...) at C:\\Users\\huntington\\.julia\\v0.3\\DataArrays\\src\\broadcast.jl:282.\n",
      "To fix, define \n",
      "    .*(Union(DataArray{S<:Number,N},PooledDataArray{S<:Number,R<:Integer,N}),AbstractArray{T<:Union(GenericNormExpr{2,Float64,Variable},GenericAffExpr{CoefType,VarType},GenericNorm{P,Float64,Variable},GenericQuadExpr{Float64,Variable},AbstractJuMPScalar),N})\n",
      "before the new definition.\n",
      "Warning: New definition \n",
      "    .*(AbstractArray{S<:Number,N},AbstractArray{T<:Union(GenericNormExpr{2,Float64,Variable},GenericAffExpr{CoefType,VarType},GenericNorm{P,Float64,Variable},GenericQuadExpr{Float64,Variable},AbstractJuMPScalar),N}) at C:\\Users\\huntington\\.julia\\v0.3\\JuMP\\src\\operators.jl:584\n",
      "is ambiguous with: \n",
      "    .*(AbstractArray{T,N},Union(PooledDataArray{T,R<:Integer,N},DataArray{T,N}),AbstractArray{T,N}...) at C:\\Users\\huntington\\.julia\\v0.3\\DataArrays\\src\\broadcast.jl:282.\n",
      "To fix, define \n",
      "    .*(AbstractArray{S<:Number,N},Union(PooledDataArray{T<:Union(GenericNormExpr{2,Float64,Variable},GenericAffExpr{CoefType,VarType},GenericNorm{P,Float64,Variable},GenericQuadExpr{Float64,Variable},AbstractJuMPScalar),R<:Integer,N},DataArray{T<:Union(GenericNormExpr{2,Float64,Variable},GenericAffExpr{CoefType,VarType},GenericNorm{P,Float64,Variable},GenericQuadExpr{Float64,Variable},AbstractJuMPScalar),N}))\n",
      "before the new definition.\n",
      "Warning: New definition \n",
      "    ./(AbstractArray{S<:Union(GenericNormExpr{2,Float64,Variable},GenericAffExpr{CoefType,VarType},GenericNorm{P,Float64,Variable},GenericQuadExpr{Float64,Variable},AbstractJuMPScalar),N},AbstractArray{T<:Number,N}) at C:\\Users\\huntington\\.julia\\v0.3\\JuMP\\src\\operators.jl:565\n",
      "is ambiguous with: \n",
      "    ./(Union(PooledDataArray{T,R<:Integer,N},DataArray{T,N}),AbstractArray{T,N}) at C:\\Users\\huntington\\.julia\\v0.3\\DataArrays\\src\\broadcast.jl:271.\n",
      "To fix, define \n",
      "    ./(Union(DataArray{S<:Union(GenericNormExpr{2,Float64,Variable},GenericAffExpr{CoefType,VarType},GenericNorm{P,Float64,Variable},GenericQuadExpr{Float64,Variable},AbstractJuMPScalar),N},PooledDataArray{S<:Union(GenericNormExpr{2,Float64,Variable},GenericAffExpr{CoefType,VarType},GenericNorm{P,Float64,Variable},GenericQuadExpr{Float64,Variable},AbstractJuMPScalar),R<:Integer,N}),AbstractArray{T<:Number,N})\n",
      "before the new definition.\n",
      "Warning: New definition \n",
      "    ./(AbstractArray{S<:Union(GenericNormExpr{2,Float64,Variable},GenericAffExpr{CoefType,VarType},GenericNorm{P,Float64,Variable},GenericQuadExpr{Float64,Variable},AbstractJuMPScalar),N},AbstractArray{T<:Number,N}) at C:\\Users\\huntington\\.julia\\v0.3\\JuMP\\src\\operators.jl:565\n",
      "is ambiguous with: \n",
      "    ./(AbstractArray{T,N},Union(PooledDataArray{T,R<:Integer,N},DataArray{T,N})) at C:\\Users\\huntington\\.julia\\v0.3\\DataArrays\\src\\broadcast.jl:272.\n",
      "To fix, define \n",
      "    ./(AbstractArray{S<:Union(GenericNormExpr{2,Float64,Variable},GenericAffExpr{CoefType,VarType},GenericNorm{P,Float64,Variable},GenericQuadExpr{Float64,Variable},AbstractJuMPScalar),N},Union(PooledDataArray{T<:Number,R<:Integer,N},DataArray{T<:Number,N}))\n",
      "before the new definition.\n"
     ]
    }
   ],
   "source": [
    "using DataFrames\n",
    "using JuMP, Gurobi\n",
    "using Gadfly"
   ]
  },
  {
   "cell_type": "code",
   "execution_count": 7,
   "metadata": {
    "collapsed": false
   },
   "outputs": [
    {
     "data": {
      "text/plain": [
       "6"
      ]
     },
     "execution_count": 7,
     "metadata": {},
     "output_type": "execute_result"
    }
   ],
   "source": [
    "m = Model(solver=GurobiSolver())\n",
    "\n",
    "\n",
    "iGenLoad = readtable(\"BatteryModel_GenLoad.csv\",header=true)\n",
    "iPrices = readtable(\"BatteryModel_Prices.csv\",header=true)\n",
    "#iParameters = readtable(\"BatteryModel_Parameters.csv\",header=true)\n",
    "#iScheduledLoadsData = readtable(\"SchedulableLoads_Parameters.csv\", header=true) \n",
    "iThermalParameters = readtable(\"ComplexThermal_Coeff.csv\", header=true) \n",
    "iThermalFactors = readtable(\"ComplexThermal_Factors.csv\", header=true) \n",
    "\n",
    "T = length(iPrices[:Hour]) \n",
    "pHours = iPrices[:Hour][1:T]\n",
    "\n",
    "pBuyEnergy = iPrices[:pBuy_Energy][1:T]\n",
    "pSellEnergy = iPrices[:pSell_Energy][1:T]\n",
    "pNonControllableLoad = iGenLoad[:pNonControllableLoad][1:T]\n",
    "\n",
    "pCf = iThermalParameters[:value]\n",
    "pTz = iThermalFactors[:Tz][1:T]\n",
    "pTx = iThermalFactors[:Tx][1:T]\n",
    "pQrad = iThermalFactors[:Qrad][1:T]\n",
    "pQconv = iThermalFactors[:Qconv][1:T]\n",
    "pQwind = iThermalFactors[:Qwindow_solar][1:T]\n",
    "pQsurf = iThermalFactors[:Qsurface_solar][1:T]\n",
    "pTground = iThermalFactors[:Tground][1:T]\n",
    "\n",
    "n=2 #thermal model order\n",
    "k=6 #number of exogenous variables"
   ]
  },
  {
   "cell_type": "code",
   "execution_count": 10,
   "metadata": {
    "collapsed": false
   },
   "outputs": [
    {
     "data": {
      "text/plain": [
       "22.26435626"
      ]
     },
     "execution_count": 10,
     "metadata": {},
     "output_type": "execute_result"
    }
   ],
   "source": [
    "pCf; pTz[1]"
   ]
  },
  {
   "cell_type": "code",
   "execution_count": null,
   "metadata": {
    "collapsed": true
   },
   "outputs": [],
   "source": [
    "##Noras Thermal Model:\n",
    "\n",
    "#cCV= [((n+1)*k)+n] #constant coefficients - load from first tab in nora's spreadsheet\n",
    "#cBTM = [T+n, k+1] #weather and build input data\n",
    "\n",
    "@defVar(m, vTempInt[t=1:T])\n",
    "\n",
    "# determine temp for t = 1 to n, from lag variables\n",
    "for t=1:n \n",
    "    @addConstraint(m, vTempInt[t] == \n",
    "        pCf[1]*pTz[t]+pCf[2]*pTz[t+1]                                       #past zonal temps\n",
    "        +pCf[3]*pTx[t]+pCf[4]*pTx[t+1]+pCf[5]*pTx[t+2]                      #current and past ambient temps\n",
    "        +pCf[6]*pQrad[t]+pCf[7]*pQrad[t+1]+pCf[8]*pQrad[t+2]                #current and past Q radiative\n",
    "        +pCf[9]*pQconv[t]+pCf[10]*pQconv[t+1]+pCf[11]*pQconv[t+2]           #current and past Q convective\n",
    "        +pCf[12]*pQwind[t]+pCf[13]*pQwind[t+1]+pCf[14]*pQwind[t+2]          #current and past Q window solar\n",
    "        +pCf[15]*pQsurf[t]+pCf[16]*pQsurf[t+1]+pCf[17]*pQsurf[t+2]          #current and past Q surface solar\n",
    "        +pCf[18]*pTground[t]+pCf[19]*pTground[t+1]+pCf[20]*pTground[t+2])   #current and past ground temp\n",
    "end\n",
    "\n",
    "\n",
    "# determine temp for t > 1 from existing temp and lag variables\n",
    "for t = (n+1):T\n",
    "   \n",
    "    @addConstraint(m, vTempInt[t] == \n",
    "    pCf[1]*vTempInt[t-1]+cCV[2]*vTempInt[1,t-2]                         #past zonal temps\n",
    "    +cCV[3]*cBTM[2,t]+cCV[4]*cBTM[2,t-1]+cCV[5]*cBTM[2,t-2]     #current and past ambient temps\n",
    "    #UPDATE column numbers\n",
    "    +cCV[3]*cBTM[2,t]+cCV[4]*cBTM[2,t-1]+cCV[5]*cBTM[2,t-2]     #current and past Q radiative\n",
    "    +cCV[3]*(cBTM[2,t]+Q_cool[t])+cCV[4]*(cBTM[2,t-1]+Q_cool[t-1])+cCV[5]*(cBTM[2,t-2]+Q_cool[t-2])     #current and past Q convective\n",
    "    +cCV[3]*cBTM[2,t]+cCV[4]*cBTM[2,t-1]+cCV[5]*cBTM[2,t-2]     #current and past Q window solar\n",
    "    +cCV[3]*cBTM[2,t]+cCV[4]*cBTM[2,t-1]+cCV[5]*cBTM[2,t-2]     #current and past Q surface solar\n",
    "    +cCV[3]*cBTM[2,t]+cCV[4]*cBTM[2,t-1]+cCV[5]*cBTM[2,t-2])     #current and past ground temps\n",
    "    \n",
    "    ##\n",
    "    Q_cool[t]==vP_hvac[t]*COP  ##all Qs in watts, all temps in deg C\n",
    "end\n",
    "\n"
   ]
  },
  {
   "cell_type": "code",
   "execution_count": null,
   "metadata": {
    "collapsed": true
   },
   "outputs": [],
   "source": []
  },
  {
   "cell_type": "code",
   "execution_count": null,
   "metadata": {
    "collapsed": true
   },
   "outputs": [],
   "source": []
  }
 ],
 "metadata": {
  "kernelspec": {
   "display_name": "Julia 0.3.11",
   "language": "julia",
   "name": "julia-0.3"
  },
  "language_info": {
   "file_extension": ".jl",
   "mimetype": "application/julia",
   "name": "julia",
   "version": "0.3.11"
  }
 },
 "nbformat": 4,
 "nbformat_minor": 0
}
