{
 "cells": [
  {
   "cell_type": "markdown",
   "metadata": {
    "collapsed": false
   },
   "source": [
    "##Packages"
   ]
  },
  {
   "cell_type": "code",
   "execution_count": 1,
   "metadata": {
    "collapsed": false
   },
   "outputs": [],
   "source": [
    "using DataFrames\n",
    "using JuMP, Gurobi\n",
    "using Gadfly"
   ]
  },
  {
   "cell_type": "markdown",
   "metadata": {},
   "source": [
    "To Do:\n",
    "- fix battery code\n",
    "- piecewise linear battery\n",
    "- piecewise linear COP of hp\n",
    "- water heater\n",
    "- network charge\n",
    "    - input system peak (coincident hour)\n",
    "    - charged based on coincidence with system peak\n",
    "    - $/kW for power purchased at 7pm july 15 (i.e. system peak)\n",
    "    - corresponds to local peak - possibly also regional and system peaks\n",
    "\n",
    "Data:\n",
    "- ny rtp\n",
    "- loads\n",
    "- capacity prices\n"
   ]
  },
  {
   "cell_type": "markdown",
   "metadata": {},
   "source": [
    "##Initiate Model, Load Data and Define General Parameters"
   ]
  },
  {
   "cell_type": "code",
   "execution_count": 2,
   "metadata": {
    "collapsed": false
   },
   "outputs": [],
   "source": [
    "m = Model(solver=GurobiSolver())\n",
    "\n",
    "\n",
    "iGenLoad = readtable(\"BatteryModel_GenLoad.csv\",header=true)\n",
    "iPrices = readtable(\"BatteryModel_Prices.csv\",header=true)\n",
    "iParameters = readtable(\"BatteryModel_Parameters.csv\",header=true)\n",
    "iScheduledLoadsData = readtable(\"SchedulableLoads_Parameters.csv\", header=true) \n",
    "iThermalParameters = readtable(\"Thermal_Parameters.csv\", header=true) \n",
    "\n",
    "T = length(iPrices[:Hour]) \n",
    "pHours = iPrices[:Hour][1:T]\n",
    "\n",
    "pBuyEnergy = iPrices[:pBuy_Energy][1:T]\n",
    "pSellEnergy = iPrices[:pSell_Energy][1:T]\n",
    "pNonControllableLoad = iGenLoad[:pNonControllableLoad][1:T]\n",
    "\n",
    "\n",
    "pDelta = 1 #duration of time period (hr)\n",
    "pCCurtail = 0.25 #cost of curtailment - will depend on the scenario ($/KWH)\n",
    "pGenAssets = [5 5 2.5 2.5] # this is where you specify the technology choices; will ultimately take this from dataframes\n",
    "#genAssets = [pPVbank pBatt_NominalE pBatt_DischargeCapacity pBatt_ChargeCapacity]\n",
    "#pGenAssets = [15 5 2.5 2.5]\n",
    "\n",
    "#NON-CONTROLLABLE GEN PARAMETERS\n",
    "pPV_Capacity = pGenAssets[1] #this is the total capacity of the PV panels \n",
    "pPV_Generation = pGenAssets[1]*iGenLoad[:pPV_Generation][1:T]\n",
    "pOtherNonControllableGen = iGenLoad[:pOtherNonControllableGen][1:T]  # declaring non-PV based non-controllable generation\n",
    "@defExpr(pTotalNonControllableGen[t=1:T], pPV_Generation[t]+pOtherNonControllableGen[t]) #total non-controllable generation = PV + other\n",
    "\n",
    "\n",
    "#SCHEDULABLE LOADS PARAMETERS\n",
    "pLoadTime_CW = iScheduledLoadsData[1,:pLoadTime_CW]\n",
    "pFinishTime_CW = iScheduledLoadsData[1,:pFinishTime_CW]\n",
    "pkWh_CW = iScheduledLoadsData[1,:pkWh_CW]\n",
    "pMaxLoad_CW = iScheduledLoadsData[1,:pMaxLoad_CW]\n",
    "\n",
    "pLoadTime_CD = iScheduledLoadsData[1,:pLoadTime_CD]\n",
    "pFinishTime_CD = iScheduledLoadsData[1,:pFinishTime_CD]\n",
    "pkWh_CD = iScheduledLoadsData[1,:pkWh_CD]\n",
    "pMaxLoad_CD = iScheduledLoadsData[1,:pMaxLoad_CD]\n",
    "\n",
    "pLoadTime_DW = iScheduledLoadsData[1,:pLoadTime_DW]\n",
    "pFinishTime_DW = iScheduledLoadsData[1,:pFinishTime_DW]\n",
    "pkWh_DW = iScheduledLoadsData[1,:pkWh_DW]\n",
    "pMaxLoad_DW = iScheduledLoadsData[1,:pMaxLoad_DW]\n",
    "\n",
    "\n",
    "#THERMAL PARAMETERS\n",
    "pOutdoorTemp = iGenLoad[:pOutdoorTemp][1:T]\n",
    "pSetpoint = iGenLoad[:pSetPoint][1:T]\n",
    "pDeadband = iThermalParameters[1,:pDeadband]\n",
    "pCapacitance = iThermalParameters[1,:pCapacitance]              #heat capacity of building interior (kWh/C) \n",
    "pResistance = iThermalParameters[1,:pResistance]                #thermal resistance of between interior and exterior (C/kWh) \n",
    "pCOP = iThermalParameters[1,:pCOP]                              #COP of heat pump (eventually convert to piecewise linear)\n",
    "pMaxPower = iThermalParameters[1,:pMaxPower]\n",
    "pTempDevPenalty = iThermalParameters[1,:pTempDevPenalty]        #temperature deviation penalty ($/deg C)\n",
    "\n",
    "\n",
    "#BATTERY PARAMETERS\n",
    "pBattNominalE = pGenAssets[2]\n",
    "pBattDischargeCapacity = pGenAssets[3] #installed battery discharge power capacity (KW)\n",
    "pBattChargeCapacity = pGenAssets[4] #installed battery charge power capacity (KW)\n",
    "\n",
    "pBattDischargeEff = iParameters[1,:pBatt_DischargeEff] #pBatt_DischargeEff Efficiency of battery discharge\n",
    "pBattChargeEff = iParameters[1,:pBatt_ChargeEff] #pBattChargeEff Efficiency of battery charge\n",
    "pBattCDeg = iParameters[1,:pBatt_CDeg] #pBattCDeg battery degradation cost ($) \n",
    "pBattInitialSOC = iParameters[1,:pBatt_InitialSOC] #pBatt_InitialSOC initial state of charge \n",
    "pBattSOCMax = iParameters[1,:pBatt_SOCMax] #pBatt_SOCMax maximum SOC\n",
    "pBattSOCMin = iParameters[1,:pBatt_SOCMin] #pBatt_SOCMin minimum SOC\n",
    ";"
   ]
  },
  {
   "cell_type": "markdown",
   "metadata": {},
   "source": [
    "###Variable Declarations"
   ]
  },
  {
   "cell_type": "code",
   "execution_count": 3,
   "metadata": {
    "collapsed": false
   },
   "outputs": [],
   "source": [
    "#SCHEDULABLE LOADS\n",
    "@defVar(m, 0<=vCW[t=1:T]<=pMaxLoad_CW)\n",
    "@defVar(m, 0<=vCD[t=1:T]<=pMaxLoad_CD)\n",
    "@defVar(m, 0<=vDW[t=1:T]<=pMaxLoad_DW)\n",
    "\n",
    "#THERMAL LOADS\n",
    "@defVar(m, sTempInt[t=1:T] >=0)                 # internal home temp (state variable)\n",
    "@defVar(m, sExtLosses[t=1:T])                   # losses/gains from thermal leakage through building shell\n",
    "@defVar(m, sIntGains[t=1:T])                    # internal gains\n",
    "@defVar(m, 0 <= vPowerHVAC[t=1:T] <= pMaxPower)         # HVAC power draw (continuous, 5kW max) | allow negative values = cooling???\n",
    "@defVar(m, vTempLow[t=1:T]>=0)                                       # penalty for temp deviations\n",
    "@defVar(m, vTempHigh[t=1:T]>=0) \n",
    "\n",
    "#BATTERY\n",
    "@defVar(m, pBattSOCMin <= vBattSOC[t=1:T] <= pBattSOCMax) # SOC of battery ----- SB!!! Maybe make this a state variable, not a decision variable.\n",
    "@defVar(m, vBattSOH[t=1:T] >= 0) #State of health of battery (degradation costs)\n",
    "@defVar(m, vBattCharge[t=1:T] >= 0) #battery charging power\n",
    "@defVar(m, vBattDischarge[t=1:T] >= 0) #battery discharging power\n",
    "@defVar(m, vBattCorD[t=1:T], Bin) #batt charging or discharging binary variable. \n",
    "\n",
    "#DEMAND BALANCE\n",
    "@defVar(m, vPowerCurtail[t=1:T] >= 0) #curtailed power\n",
    "@defVar(m, vPowerConsumed[t=1:T] >=0) # consumed power\n",
    "@defVar(m, vPowerImportorExport[t=1:T], Bin)\n",
    "@defVar(m, vPowerPurchased[t=1:T] >=0) # power ultimately purchased from utility\n",
    "@defVar(m, sPowerExport[t=1:T] >= 0)\n",
    ";"
   ]
  },
  {
   "cell_type": "markdown",
   "metadata": {},
   "source": [
    "###Constraint Declarations"
   ]
  },
  {
   "cell_type": "code",
   "execution_count": 4,
   "metadata": {
    "collapsed": false
   },
   "outputs": [],
   "source": [
    "#SCHEDULABLE LOADS\n",
    "@addConstraint(m, pkWh_CW==sum{vCW[t],t=pLoadTime_CW:pFinishTime_CW}) \n",
    "@addConstraint(m, pkWh_CD==sum{vCD[t],t=pLoadTime_CD:pFinishTime_CD}) \n",
    "@addConstraint(m, pkWh_DW==sum{vDW[t],t=pLoadTime_DW:pFinishTime_DW}) \n",
    "@defExpr(vScheduledLoads[t=1:T], vCW[t]+vCD[t]+vDW[t])\n",
    "\n",
    "#THERMAL LOADS\n",
    "for t = 1\n",
    "    @addConstraint(m, sTempInt[t]==pSetpoint[t])                         #starting temp\n",
    "end\n",
    "\n",
    "for t = 2:T\n",
    "    @addConstraint(m,sTempInt[t-1]+((sExtLosses[t-1]+sIntGains[t-1])/pCapacitance)==sTempInt[t]) # temp evolution | temp(t) = temp(t-1) + (gains - losses)/heat capacity    \n",
    "end\n",
    "\n",
    "for t = 1:T\n",
    "    @addConstraint(m, ((pOutdoorTemp[t] - sTempInt[t])/(pCapacitance*pResistance))==sExtLosses[t])   #losses from thermal leakage\n",
    "    @addConstraint(m, ((pCOP*vPowerHVAC[t])/pCapacitance)==sIntGains[t])                         #interanl temp gain from heat pump\n",
    "    @addConstraint(m, (pSetpoint[t]-pDeadband)-vTempLow[t]<=sTempInt[t])\n",
    "    @addConstraint(m, (pSetpoint[t]+pDeadband)+vTempHigh[t]>=sTempInt[t])\n",
    "end\n",
    "@defExpr(vThermalLoad[t=1:T], vPowerHVAC[t])\n",
    "@defExpr(vTotalTempDev[t=1:T],vTempHigh[t]+vTempLow[t])"
   ]
  },
  {
   "cell_type": "code",
   "execution_count": 5,
   "metadata": {
    "collapsed": true
   },
   "outputs": [],
   "source": [
    "#BATTERY\n",
    "\n",
    "#constraining state of charge to appropriate limits\n",
    "@addConstraint(m, vBattSOC[1] == pBattInitialSOC)\n",
    "\n",
    "\n",
    "# defining charging losses and efficiency\n",
    "@defExpr(sBattDischargeLosses[t=1:T], pBattDischargeEff*vBattDischarge[t])\n",
    "@defExpr(sBattChargeLosses[t=1:T], pBattChargeEff*vBattCharge[t])\n",
    "@defExpr(sBattLosses[t=1:T], sBattChargeLosses[t] + sBattDischargeLosses[t])\n",
    "\n",
    "@defExpr(sBattOutput[t=1:T], vBattDischarge[t] - sBattDischargeLosses[t])\n",
    "@defExpr(sBattInput[t=1:T], vBattCharge[t] + sBattChargeLosses[t])\n",
    "\n",
    "if pBattNominalE > 0\n",
    "    for t=1:T\n",
    "        @addConstraint(m, vBattCharge[t]<=pBattChargeCapacity)\n",
    "        @addConstraint(m, vBattDischarge[t]<=pBattDischargeCapacity)\n",
    "    end\n",
    "else\n",
    "    for t=1:T\n",
    "        @addConstraint(m, vBattCharge[t]==0)\n",
    "        @addConstraint(m, vBattDischarge[t]==0)\n",
    "    end\n",
    "end\n",
    "    \n",
    "if pBattNominalE > 0\n",
    "    for t = 2:T  \n",
    "        @addConstraint(m, vBattSOC[t-1] - (pDelta/pBattNominalE)*(sBattOutput[t-1] - sBattInput[t-1] + sBattLosses[t-1]) == vBattSOC[t])\n",
    "    end \n",
    "else \n",
    "    for t = 2:T\n",
    "        @addConstraint(m, vBattSOC[t] == vBattSOC[1])\n",
    "    end \n",
    "end \n",
    "\n",
    "#define charge or discharge constraint\n",
    "for t=1:T\n",
    "    @addConstraint(m, vBattCharge[t] <= 1000000*vBattCorD[t])\n",
    "    @addConstraint(m, vBattDischarge[t] <= 1000000*(1-vBattCorD[t]))\n",
    "end\n"
   ]
  },
  {
   "cell_type": "code",
   "execution_count": 6,
   "metadata": {
    "collapsed": false
   },
   "outputs": [],
   "source": [
    "#DEMAND BALANCE\n",
    "\n",
    "@defExpr(sPowerProduced[t=1:T], pTotalNonControllableGen[t] + vBattDischarge[t])\n",
    "\n",
    "for t=1:T\n",
    "    \n",
    "    @addConstraint(m, pNonControllableLoad[t]+vScheduledLoads[t]+vThermalLoad[t]+vBattCharge[t]==vPowerConsumed[t])     \n",
    "    @addConstraint(m, vPowerConsumed[t]+sPowerExport[t]==vPowerPurchased[t]+sPowerProduced[t])\n",
    "    \n",
    "    #cannot import and export at the same time\n",
    "    @addConstraint(m, sPowerExport[t] <= 10000000*(1-vPowerImportorExport[t]))\n",
    "    @addConstraint(m, vPowerPurchased[t] <= 10000000*(vPowerImportorExport[t]))\n",
    "\n",
    "end"
   ]
  },
  {
   "cell_type": "markdown",
   "metadata": {},
   "source": [
    "##Objective Function"
   ]
  },
  {
   "cell_type": "code",
   "execution_count": 7,
   "metadata": {
    "collapsed": false
   },
   "outputs": [],
   "source": [
    "#@defExpr(TotalCost,sum{pDelta*pBuyEnergy[t]*sPowerPurchase[t] + pDelta*pSellEnergy[t]*sPowerExport[t],t=1:T})\n",
    "#@defExpr(TotalCost, sum{pBuyEnergy[t]*vPowerConsumed[t],t=1:T}+pTempDevPenalty*sum{vTotalTempDev[t],t=1:T}) #WORKS!\n",
    "@defExpr(TotalCost, sum{pBuyEnergy[t]*vPowerPurchased[t],t=1:T}+pTempDevPenalty*sum{vTotalTempDev[t],t=1:T})\n",
    "@defExpr(TotalRevenue, sum{pSellEnergy[t]*sPowerExport[t],t=1:T})\n",
    "@defExpr(TotalPowerProvided[t=1:T],vPowerConsumed[t]+sPowerExport[t])\n",
    ";"
   ]
  },
  {
   "cell_type": "code",
   "execution_count": 8,
   "metadata": {
    "collapsed": false
   },
   "outputs": [],
   "source": [
    "@setObjective(m, Min, TotalCost - TotalRevenue);"
   ]
  },
  {
   "cell_type": "code",
   "execution_count": 9,
   "metadata": {
    "collapsed": false,
    "scrolled": true
   },
   "outputs": [
    {
     "name": "stdout",
     "output_type": "stream",
     "text": [
      "Optimize a model with 2355 rows, 3192 columns and 6065 nonzeros\n",
      "Coefficient statistics:\n",
      "  Matrix range    [2e-01, 1e+07]\n",
      "  Objective range [1e-01, 1e+01]\n",
      "  Bounds range    [1e-01, 5e+00]\n",
      "  RHS range       [4e-05, 1e+07]\n",
      "Presolve removed 1170 rows and 1560 columns\n",
      "Presolve time: 0.06s\n",
      "Presolved: 1185 rows, 1632 columns, 3511 nonzeros\n",
      "Variable types: 1367 continuous, 265 integer (265 binary)\n",
      "\n",
      "Root relaxation: objective 1.664310e+02, 786 iterations, 0.08 seconds\n",
      "\n",
      "    Nodes    |    Current Node    |     Objective Bounds      |     Work\n",
      " Expl Unexpl |  Obj  Depth IntInf | Incumbent    BestBd   Gap | It/Node Time\n",
      "\n",
      "*    0     0               0     166.4310319  166.43103  0.00%     -    0s\n",
      "\n",
      "Explored 0 nodes (877 simplex iterations) in 0.20 seconds\n",
      "Thread count was 2 (of 4 available processors)\n",
      "\n",
      "Optimal solution found (tolerance 1.00e-04)\n",
      "Best objective 1.664310319415e+02, best bound 1.664310319415e+02, gap 0.0%\n",
      "Objective value: 166.43103194149992\n"
     ]
    }
   ],
   "source": [
    "# Print outputs\n",
    "status = solve(m)\n",
    "status\n",
    "println(\"Objective value: \", getObjectiveValue(m))"
   ]
  },
  {
   "cell_type": "markdown",
   "metadata": {},
   "source": [
    "##Reporting"
   ]
  },
  {
   "cell_type": "code",
   "execution_count": 45,
   "metadata": {
    "collapsed": false
   },
   "outputs": [],
   "source": [
    "# Build output array\n",
    "aTemp = hcat([1:T],\n",
    "        pBuyEnergy[1:T],\n",
    "        pSellEnergy[1:T],\n",
    "        getValue(vPowerConsumed[1:T]),\n",
    "        getValue(sPowerProduced[1:T]),\n",
    "        getValue(vPowerPurchased[1:T]),\n",
    "        getValue(sPowerExport[1:T]),\n",
    "        getValue(vBattDischarge[1:T]),\n",
    "        getValue(vBattCharge[1:T]))\n",
    "\n",
    "dfUsage = convert(DataFrame, aTemp)\n",
    "\n",
    "rename!(dfUsage, {:x1=>:Buy_Energy, \n",
    "            :x2=>:Sell_Energy, \n",
    "            :x3=>:Power_Consumed,\n",
    "            :x4=>:Power_Produced,\n",
    "            :x5=>:Power_Purchased,\n",
    "            :x6=>:Power_Export,\n",
    "            :x7=>:Batt_Discharge,\n",
    "            :x8=>:Batt_Charge,\n",
    "            })\n",
    "\n",
    "writetable(\"outputs2.csv\",dfUsage)"
   ]
  },
  {
   "cell_type": "code",
   "execution_count": 46,
   "metadata": {
    "collapsed": true
   },
   "outputs": [
    {
     "data": {
      "text/plain": [
       "168x9 Array{Float64,2}:\n",
       "   1.0  0.3  0.1   3.0      0.0        3.0      0.0  0.0       0.0\n",
       "   2.0  0.3  0.1   2.75     0.0        2.75     0.0  0.0       0.0\n",
       "   3.0  0.3  0.1   5.85417  0.0        5.85417  0.0  0.0       2.5\n",
       "   4.0  0.3  0.1   3.13333  0.0        3.13333  0.0  0.0       0.0\n",
       "   5.0  0.3  0.1   5.9      0.944759   4.95524  0.0  0.944721  0.0\n",
       "   6.0  0.3  0.1   3.76667  0.139443   3.62722  0.0  0.0       0.0\n",
       "   7.0  0.3  0.1   5.85     0.536401   5.3136   0.0  0.0       0.0\n",
       "   8.0  0.3  0.1   4.35     1.16123    3.18877  0.0  0.0       0.0\n",
       "   9.0  0.3  0.1   4.83333  1.7048     3.12854  0.0  0.0       0.0\n",
       "  10.0  0.3  0.1  11.5833   2.29866    9.28467  0.0  0.0       0.0\n",
       "  11.0  0.3  0.1   3.91667  2.56988    1.34679  0.0  0.0       0.0\n",
       "  12.0  0.3  0.1   3.66667  3.66667    0.0      0.0  1.05528   0.0\n",
       "  13.0  0.3  0.1   3.66667  2.55378    1.11289  0.0  0.0       0.0\n",
       "   ⋮                                   ⋮                          \n",
       " 157.0  0.3  0.1   3.66667  2.55378    1.11289  0.0  0.0       0.0\n",
       " 158.0  0.3  0.1   3.66667  2.47212    1.19455  0.0  0.0       0.0\n",
       " 159.0  0.3  0.1   3.66667  1.92944    1.73722  0.0  0.0       0.0\n",
       " 160.0  0.3  0.1   3.84167  1.53717    2.3045   0.0  0.0       0.0\n",
       " 161.0  0.3  0.1   4.01667  0.972931   3.04374  0.0  0.0       0.0\n",
       " 162.0  0.3  0.1   4.68333  0.439239   4.24409  0.0  0.0       0.0\n",
       " 163.0  0.3  0.1   7.68333  0.0868315  7.5965   0.0  0.0       2.5\n",
       " 164.0  0.3  0.1   5.55     0.0        5.55     0.0  0.0       0.0\n",
       " 165.0  0.3  0.1   5.35     2.5        2.85     0.0  2.5       0.0\n",
       " 166.0  0.3  0.1   3.85     0.0        3.85     0.0  0.0       0.0\n",
       " 167.0  0.3  0.1   3.35     0.0        3.35     0.0  0.0       0.0\n",
       " 168.0  0.3  0.1   3.0      2.5        0.5      0.0  2.5       0.0"
      ]
     },
     "execution_count": 46,
     "metadata": {},
     "output_type": "execute_result"
    }
   ],
   "source": [
    "aTemp"
   ]
  },
  {
   "cell_type": "code",
   "execution_count": 60,
   "metadata": {
    "collapsed": false
   },
   "outputs": [
    {
     "data": {
      "text/plain": [
       "168x5 Array{Float64,2}:\n",
       "   1.0  20.0  12.0  20.0     0.0     \n",
       "   2.0  20.0  12.0  19.0     0.0     \n",
       "   3.0  20.0  12.0  18.125   0.854167\n",
       "   4.0  20.0  13.0  18.0     0.833333\n",
       "   5.0  20.0  13.0  18.0     3.5     \n",
       "   6.0  22.0  13.0  20.0     1.16667 \n",
       "   7.0  22.0  14.0  20.0     1.0     \n",
       "   8.0  22.0  14.0  20.0     1.0     \n",
       "   9.0  22.0  15.0  20.0     0.833333\n",
       "  10.0  22.0  15.0  20.0     0.833333\n",
       "  11.0  22.0  16.0  20.0     0.666667\n",
       "  12.0  22.0  16.0  20.0     0.666667\n",
       "  13.0  22.0  16.0  20.0     0.666667\n",
       "   ⋮                                 \n",
       " 157.0  22.0  16.0  20.0     0.666667\n",
       " 158.0  22.0  16.0  20.0     0.666667\n",
       " 159.0  22.0  16.0  20.0     0.666667\n",
       " 160.0  22.0  16.0  20.0     0.666667\n",
       " 161.0  22.0  16.0  20.0     0.666667\n",
       " 162.0  22.0  15.0  20.0     0.833333\n",
       " 163.0  22.0  15.0  20.0     0.833333\n",
       " 164.0  22.0  14.0  20.0     1.0     \n",
       " 165.0  22.0  14.0  20.0     1.0     \n",
       " 166.0  22.0  13.0  20.0     0.0     \n",
       " 167.0  20.0  13.0  19.125   0.0     \n",
       " 168.0  20.0  12.0  18.3594  0.0     "
      ]
     },
     "execution_count": 60,
     "metadata": {},
     "output_type": "execute_result"
    }
   ],
   "source": [
    "aTemp2 = hcat([1:T],\n",
    "        pSetpoint[1:T],\n",
    "        pOutdoorTemp[1:T],\n",
    "        getValue(sTempInt[1:T]),\n",
    "        getValue(vPowerHVAC[1:T]))\n",
    "\n",
    "#aTemp2"
   ]
  },
  {
   "cell_type": "code",
   "execution_count": 64,
   "metadata": {
    "collapsed": false
   },
   "outputs": [],
   "source": [
    "dfTemp = convert(DataFrame, aTemp2)\n",
    "\n",
    "rename!(dfTemp, {:x1=>:Hour,\n",
    "                :x2=>:SetPoint,\n",
    "                :x3=>:Outdoor_Temp,\n",
    "                :x4=>:Indoor_Temp,\n",
    "                :x5=>:Heat_Pump_kW})\n",
    "\n",
    "writetable(\"Temp outputs.csv\", dfTemp)"
   ]
  },
  {
   "cell_type": "code",
   "execution_count": 47,
   "metadata": {
    "collapsed": false
   },
   "outputs": [
    {
     "data": {
      "text/plain": [
       "true"
      ]
     },
     "execution_count": 47,
     "metadata": {},
     "output_type": "execute_result"
    }
   ],
   "source": [
    "# Check if file is open and close it so it can be updated\n",
    "\n",
    "    #f = open(\"outputs2.csv\")\n",
    "    #isopen(f)"
   ]
  },
  {
   "cell_type": "code",
   "execution_count": 63,
   "metadata": {
    "collapsed": false
   },
   "outputs": [
    {
     "ename": "ErrorException",
     "evalue": "The following aesthetics are required by Geom.point to be of equal length: x, y\n",
     "output_type": "error",
     "traceback": [
      "The following aesthetics are required by Geom.point to be of equal length: x, y\n",
      "",
      " in error at error.jl:21 (repeats 2 times)"
     ]
    }
   ],
   "source": [
    "plot(layer(x=1:24,y=getValue(sPowerProduced[1:T]) ,Geom.point, Geom.line, Theme(default_color=colorant\"yellow\")),\n",
    "layer(x=1:24,y=getValue(vPowerConsumed[1:T]) ,Geom.point, Geom.line, Theme(default_color=colorant\"blue\")),\n",
    "layer(x=1:24,y=getValue(sPowerExport[1:T]) ,Geom.point, Geom.line, Theme(default_color=colorant\"orange\")),\n",
    "layer(x=1:24,y=getValue(vBattCharge[1:T]) ,Geom.point, Geom.line, Theme(default_color=colorant\"green\")),\n",
    "layer(x=1:24,y=getValue(vBattDischarge[1:T]) ,Geom.point, Geom.line, Theme(default_color=colorant\"red\")))\n"
   ]
  },
  {
   "cell_type": "code",
   "execution_count": 1,
   "metadata": {
    "collapsed": false
   },
   "outputs": [
    {
     "ename": "LoadError",
     "evalue": "@colorant_str not defined\nwhile loading In[1], in expression starting on line 4",
     "output_type": "error",
     "traceback": [
      "@colorant_str not defined\nwhile loading In[1], in expression starting on line 4",
      ""
     ]
    }
   ],
   "source": [
    "plot(layer(x=1:24,y=getValue(sPowerProduced[1:24]) ,Geom.point, Geom.line, Theme(default_color=colorant\"yellow\")),\n",
    "layer(x=1:24,y=getValue(TotalPowerProvided[1:24]) ,Geom.point, Geom.line, Theme(default_color=colorant\"blue\")),\n",
    "layer(x=1:24,y=getValue(vPowerHVAC[1:24]) ,Geom.point, Geom.line, Theme(default_color=colorant\"orange\")))\n"
   ]
  },
  {
   "cell_type": "code",
   "execution_count": 49,
   "metadata": {
    "collapsed": false
   },
   "outputs": [
    {
     "ename": "LoadError",
     "evalue": "syntax: extra token \"status\" after end of expression\nwhile loading In[49], in expression starting on line 1",
     "output_type": "error",
     "traceback": [
      "syntax: extra token \"status\" after end of expression\nwhile loading In[49], in expression starting on line 1",
      ""
     ]
    }
   ],
   "source": []
  },
  {
   "cell_type": "markdown",
   "metadata": {
    "collapsed": true
   },
   "source": [
    "To do in Gadfly:\n",
    "    - plot on two y-axes\n",
    "    - extend width "
   ]
  }
 ],
 "metadata": {
  "kernelspec": {
   "display_name": "Julia 0.3.11",
   "language": "julia",
   "name": "julia-0.3"
  },
  "language_info": {
   "file_extension": ".jl",
   "mimetype": "application/julia",
   "name": "julia",
   "version": "0.3.11"
  }
 },
 "nbformat": 4,
 "nbformat_minor": 0
}
