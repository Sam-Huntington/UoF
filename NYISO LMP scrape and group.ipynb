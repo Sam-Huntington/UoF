{
 "cells": [
  {
   "cell_type": "code",
   "execution_count": 57,
   "metadata": {
    "collapsed": true
   },
   "outputs": [],
   "source": [
    "using ZipFile\n",
    "using DataFrames\n",
    "using Dates"
   ]
  },
  {
   "cell_type": "code",
   "execution_count": 13,
   "metadata": {
    "collapsed": false
   },
   "outputs": [
    {
     "data": {
      "text/plain": [
       "\"http://mis.nyiso.com/public/csv/realtime/20141201realtime_zone_csv.zip\""
      ]
     },
     "execution_count": 13,
     "metadata": {},
     "output_type": "execute_result"
    }
   ],
   "source": [
    "str = \"http://mis.nyiso.com/public/csv/realtime/20141201realtime_zone_csv.zip\""
   ]
  },
  {
   "cell_type": "code",
   "execution_count": 60,
   "metadata": {
    "collapsed": false
   },
   "outputs": [],
   "source": [
    "df = DataFrame()\n",
    "dfTemp = DataFrame()\n",
    "\n",
    "i = 1\n",
    "zipfolder = ZipFile.Reader(\"C:\\\\Users\\\\huntington\\\\Downloads\\\\20141201realtime_zone_csv.zip\")\n",
    "for f in zipfolder.files   \n",
    "#    println(\"Filename: $(f.name)\")\n",
    "    if i == 1\n",
    "        df = readtable(f)\n",
    "    else\n",
    "        df = append!(df, readtable(f))\n",
    "    end  \n",
    "    \n",
    "    i = i+1\n",
    "end\n",
    "close(zipfolder)\n"
   ]
  },
  {
   "cell_type": "code",
   "execution_count": 90,
   "metadata": {
    "collapsed": false
   },
   "outputs": [
    {
     "data": {
      "text/plain": [
       "2014-12-01T00:05:00"
      ]
     },
     "execution_count": 90,
     "metadata": {},
     "output_type": "execute_result"
    }
   ],
   "source": [
    "size(df)\n",
    "head(df,20)\n",
    "t = df[1,1]\n",
    "Dates.DateTime(t, \"mm/dd/yyy HH:MM:SS\")\n",
    "#Year(df[1,1])\n",
    "\n"
   ]
  },
  {
   "cell_type": "code",
   "execution_count": 93,
   "metadata": {
    "collapsed": false
   },
   "outputs": [
    {
     "data": {
      "text/plain": [
       "false"
      ]
     },
     "execution_count": 93,
     "metadata": {},
     "output_type": "execute_result"
    }
   ],
   "source": [
    "any(isna(df[:]))"
   ]
  },
  {
   "cell_type": "code",
   "execution_count": 40,
   "metadata": {
    "collapsed": false
   },
   "outputs": [
    {
     "data": {
      "text/html": [
       "<table class=\"data-frame\"><tr><th></th><th>Time_Stamp</th><th>Name</th><th>PTID</th><th>LBMP_MWHr_</th><th>Marginal_Cost_Losses_MWHr_</th><th>Marginal_Cost_Congestion_MWHr_</th></tr><tr><th>1</th><td>12/01/2014 00:05:00</td><td>CAPITL</td><td>61757</td><td>20.04</td><td>0.72</td><td>-8.89</td></tr><tr><th>2</th><td>12/01/2014 00:05:00</td><td>CENTRL</td><td>61754</td><td>11.61</td><td>0.1</td><td>-1.07</td></tr><tr><th>3</th><td>12/01/2014 00:05:00</td><td>DUNWOD</td><td>61760</td><td>18.17</td><td>1.0</td><td>-6.74</td></tr><tr><th>4</th><td>12/01/2014 00:05:00</td><td>GENESE</td><td>61753</td><td>11.11</td><td>-0.16</td><td>-0.84</td></tr><tr><th>5</th><td>12/01/2014 00:05:00</td><td>H Q</td><td>61844</td><td>10.13</td><td>-0.3</td><td>0.0</td></tr><tr><th>6</th><td>12/01/2014 00:05:00</td><td>HUD VL</td><td>61758</td><td>18.09</td><td>0.99</td><td>-6.67</td></tr><tr><th>7</th><td>12/01/2014 00:05:00</td><td>LONGIL</td><td>61762</td><td>18.52</td><td>1.34</td><td>-6.75</td></tr><tr><th>8</th><td>12/01/2014 00:05:00</td><td>MHK VL</td><td>61756</td><td>11.79</td><td>0.23</td><td>-1.13</td></tr><tr><th>9</th><td>12/01/2014 00:05:00</td><td>MILLWD</td><td>61759</td><td>18.24</td><td>1.01</td><td>-6.8</td></tr><tr><th>10</th><td>12/01/2014 00:05:00</td><td>N.Y.C.</td><td>61761</td><td>18.22</td><td>1.04</td><td>-6.75</td></tr><tr><th>11</th><td>12/01/2014 00:05:00</td><td>NORTH</td><td>61755</td><td>9.96</td><td>-0.47</td><td>0.0</td></tr><tr><th>12</th><td>12/01/2014 00:05:00</td><td>NPX</td><td>61845</td><td>19.22</td><td>0.83</td><td>-7.95</td></tr><tr><th>13</th><td>12/01/2014 00:05:00</td><td>O H</td><td>61846</td><td>11.21</td><td>-0.34</td><td>-1.12</td></tr><tr><th>14</th><td>12/01/2014 00:05:00</td><td>PJM</td><td>61847</td><td>15.43</td><td>0.49</td><td>-4.51</td></tr><tr><th>15</th><td>12/01/2014 00:05:00</td><td>WEST</td><td>61752</td><td>11.26</td><td>-0.25</td><td>-1.08</td></tr><tr><th>16</th><td>12/01/2014 00:10:00</td><td>CAPITL</td><td>61757</td><td>11.14</td><td>0.72</td><td>0.0</td></tr><tr><th>17</th><td>12/01/2014 00:10:00</td><td>CENTRL</td><td>61754</td><td>10.53</td><td>0.11</td><td>0.0</td></tr><tr><th>18</th><td>12/01/2014 00:10:00</td><td>DUNWOD</td><td>61760</td><td>11.44</td><td>1.02</td><td>0.0</td></tr><tr><th>19</th><td>12/01/2014 00:10:00</td><td>GENESE</td><td>61753</td><td>10.27</td><td>-0.15</td><td>0.0</td></tr><tr><th>20</th><td>12/01/2014 00:10:00</td><td>H Q</td><td>61844</td><td>10.1</td><td>-0.31</td><td>0.0</td></tr><tr><th>21</th><td>12/01/2014 00:10:00</td><td>HUD VL</td><td>61758</td><td>11.44</td><td>1.02</td><td>0.0</td></tr><tr><th>22</th><td>12/01/2014 00:10:00</td><td>LONGIL</td><td>61762</td><td>11.76</td><td>1.34</td><td>0.0</td></tr><tr><th>23</th><td>12/01/2014 00:10:00</td><td>MHK VL</td><td>61756</td><td>10.65</td><td>0.23</td><td>0.0</td></tr><tr><th>24</th><td>12/01/2014 00:10:00</td><td>MILLWD</td><td>61759</td><td>11.45</td><td>1.03</td><td>0.0</td></tr><tr><th>25</th><td>12/01/2014 00:10:00</td><td>N.Y.C.</td><td>61761</td><td>11.49</td><td>1.07</td><td>0.0</td></tr><tr><th>26</th><td>12/01/2014 00:10:00</td><td>NORTH</td><td>61755</td><td>9.93</td><td>-0.49</td><td>0.0</td></tr><tr><th>27</th><td>12/01/2014 00:10:00</td><td>NPX</td><td>61845</td><td>11.25</td><td>0.83</td><td>0.0</td></tr><tr><th>28</th><td>12/01/2014 00:10:00</td><td>O H</td><td>61846</td><td>10.1</td><td>-0.31</td><td>0.0</td></tr><tr><th>29</th><td>12/01/2014 00:10:00</td><td>PJM</td><td>61847</td><td>10.94</td><td>0.52</td><td>0.0</td></tr><tr><th>30</th><td>12/01/2014 00:10:00</td><td>WEST</td><td>61752</td><td>10.21</td><td>-0.21</td><td>0.0</td></tr><tr><th>&vellip;</th><td>&vellip;</td><td>&vellip;</td><td>&vellip;</td><td>&vellip;</td><td>&vellip;</td><td>&vellip;</td></tr></table>"
      ],
      "text/plain": [
       "13050x6 DataFrame\n",
       "| Row   | Time_Stamp            | Name     | PTID  | LBMP_MWHr_ |\n",
       "|-------|-----------------------|----------|-------|------------|\n",
       "| 1     | \"12/01/2014 00:05:00\" | \"CAPITL\" | 61757 | 20.04      |\n",
       "| 2     | \"12/01/2014 00:05:00\" | \"CENTRL\" | 61754 | 11.61      |\n",
       "| 3     | \"12/01/2014 00:05:00\" | \"DUNWOD\" | 61760 | 18.17      |\n",
       "| 4     | \"12/01/2014 00:05:00\" | \"GENESE\" | 61753 | 11.11      |\n",
       "| 5     | \"12/01/2014 00:05:00\" | \"H Q\"    | 61844 | 10.13      |\n",
       "| 6     | \"12/01/2014 00:05:00\" | \"HUD VL\" | 61758 | 18.09      |\n",
       "| 7     | \"12/01/2014 00:05:00\" | \"LONGIL\" | 61762 | 18.52      |\n",
       "| 8     | \"12/01/2014 00:05:00\" | \"MHK VL\" | 61756 | 11.79      |\n",
       "| 9     | \"12/01/2014 00:05:00\" | \"MILLWD\" | 61759 | 18.24      |\n",
       "| 10    | \"12/01/2014 00:05:00\" | \"N.Y.C.\" | 61761 | 18.22      |\n",
       "| 11    | \"12/01/2014 00:05:00\" | \"NORTH\"  | 61755 | 9.96       |\n",
       "⋮\n",
       "| 13039 | \"12/03/2014 00:00:00\" | \"GENESE\" | 61753 | 24.75      |\n",
       "| 13040 | \"12/03/2014 00:00:00\" | \"H Q\"    | 61844 | 0.0        |\n",
       "| 13041 | \"12/03/2014 00:00:00\" | \"HUD VL\" | 61758 | 31.22      |\n",
       "| 13042 | \"12/03/2014 00:00:00\" | \"LONGIL\" | 61762 | 31.77      |\n",
       "| 13043 | \"12/03/2014 00:00:00\" | \"MHK VL\" | 61756 | 26.07      |\n",
       "| 13044 | \"12/03/2014 00:00:00\" | \"MILLWD\" | 61759 | 31.32      |\n",
       "| 13045 | \"12/03/2014 00:00:00\" | \"N.Y.C.\" | 61761 | 31.47      |\n",
       "| 13046 | \"12/03/2014 00:00:00\" | \"NORTH\"  | 61755 | 23.97      |\n",
       "| 13047 | \"12/03/2014 00:00:00\" | \"NPX\"    | 61845 | 31.68      |\n",
       "| 13048 | \"12/03/2014 00:00:00\" | \"O H\"    | 61846 | 24.13      |\n",
       "| 13049 | \"12/03/2014 00:00:00\" | \"PJM\"    | 61847 | 28.41      |\n",
       "| 13050 | \"12/03/2014 00:00:00\" | \"WEST\"   | 61752 | 24.35      |\n",
       "\n",
       "| Row   | Marginal_Cost_Losses_MWHr_ | Marginal_Cost_Congestion_MWHr_ |\n",
       "|-------|----------------------------|--------------------------------|\n",
       "| 1     | 0.72                       | -8.89                          |\n",
       "| 2     | 0.1                        | -1.07                          |\n",
       "| 3     | 1.0                        | -6.74                          |\n",
       "| 4     | -0.16                      | -0.84                          |\n",
       "| 5     | -0.3                       | 0.0                            |\n",
       "| 6     | 0.99                       | -6.67                          |\n",
       "| 7     | 1.34                       | -6.75                          |\n",
       "| 8     | 0.23                       | -1.13                          |\n",
       "| 9     | 1.01                       | -6.8                           |\n",
       "| 10    | 1.04                       | -6.75                          |\n",
       "| 11    | -0.47                      | 0.0                            |\n",
       "⋮\n",
       "| 13039 | -0.55                      | -0.48                          |\n",
       "| 13040 | -0.47                      | 24.34                          |\n",
       "| 13041 | 2.26                       | -4.15                          |\n",
       "| 13042 | 2.75                       | -4.2                           |\n",
       "| 13043 | 0.57                       | -0.69                          |\n",
       "| 13044 | 2.28                       | -4.23                          |\n",
       "| 13045 | 2.46                       | -4.2                           |\n",
       "| 13046 | -0.84                      | 0.0                            |\n",
       "| 13047 | 1.91                       | -4.95                          |\n",
       "| 13048 | -1.32                      | -0.63                          |\n",
       "| 13049 | 0.84                       | -2.76                          |\n",
       "| 13050 | -1.09                      | -0.62                          |"
      ]
     },
     "execution_count": 40,
     "metadata": {},
     "output_type": "execute_result"
    }
   ],
   "source": [
    "df3 = append!(df, df2)"
   ]
  },
  {
   "cell_type": "code",
   "execution_count": null,
   "metadata": {
    "collapsed": true
   },
   "outputs": [],
   "source": []
  }
 ],
 "metadata": {
  "kernelspec": {
   "display_name": "Julia 0.3.11",
   "language": "julia",
   "name": "julia-0.3"
  },
  "language_info": {
   "file_extension": ".jl",
   "mimetype": "application/julia",
   "name": "julia",
   "version": "0.3.11"
  }
 },
 "nbformat": 4,
 "nbformat_minor": 0
}
