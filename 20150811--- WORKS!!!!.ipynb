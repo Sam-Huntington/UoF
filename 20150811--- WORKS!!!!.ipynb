{
 "cells": [
  {
   "cell_type": "code",
   "execution_count": 73,
   "metadata": {
    "collapsed": false
   },
   "outputs": [
    {
     "data": {
      "text/latex": [
       "$$ \\begin{alignat*}{1}\\min\\quad & 0\\\\\n",
       "\\text{Subject to} \\quad\\end{alignat*}\n",
       " $$"
      ],
      "text/plain": [
       "Feasibility problem with:\n",
       " * 0 linear constraints\n",
       " * 0 variables\n",
       "Solver set to Cbc"
      ]
     },
     "execution_count": 73,
     "metadata": {},
     "output_type": "execute_result"
    }
   ],
   "source": [
    "#read in\n",
    "using JuMP, Cbc\n",
    "m = Model(solver=CbcSolver(logLevel=1))\n"
   ]
  },
  {
   "cell_type": "code",
   "execution_count": 74,
   "metadata": {
    "collapsed": true
   },
   "outputs": [],
   "source": [
    "#hindex = readcsv(\"C:/Users/V/AppData/Local/Julia-0.3.8/dispatch/hindex.dat\")\n",
    "\n",
    "hindex = 1:24#readcsv(\"hindex.dat\")\n",
    "#currently, 1680 runs at 6 sec with this gen asset mix: [0 0 6 3 0 0]\n",
    "#24*2 = 2 sec with gen asset mix: [0 144.9 6 3 189 6.93]\n",
    "#24*3 = 1 sec\n",
    "#24*4 = 3.4 sec\n",
    "#24*5 = 2.3 sec\n",
    "#24*6 = 2.4 \n",
    "#24*7 = 6.4\n",
    "#24*8 = 161 + (stopped by force)\n",
    "\n",
    "T = length(hindex) #Prediction Horizon in hours\n",
    "\n",
    "@defVar(m, C[t=1:T] >= 0) #Cost of diesel\n",
    "@defVar(m, Cs[t=1:T] >= 0) #Cost of start up generator\n",
    "@defVar(m, Pus[t=1:T] >= 0) #Unserved Power\n",
    "@defVar(m, Plost[t=1:T] >= 0) #spilled power\n",
    "@defVar(m, SOC[t=1:T] >= 0) # SOC of battery\n",
    "@defVar(m, SOH[t=1:T] >= 0) #State of health of battery (degradation costs)\n",
    "@defVar(m, Pbc[t=1:T] >= 0) #battery charging power\n",
    "@defVar(m, Pbd[t=1:T] >= 0) #battery discharging power \n",
    "@defVar(m, Pl[t=1:T] >= 0) #demand load \n",
    "@defVar(m, Pd[t=1:T] >= 0) #diesel power \n",
    "@defVar(m, q[t=1:T] >= 0) # quantity of diesel consumption\n",
    "@defVar(m, Bbc[t=1:T], Bin) #batt charge\n",
    "@defVar(m, Bbd[t=1:T], Bin) #batt discharge\n",
    "\n",
    "#define these for critical and noncritical\n",
    "@defVar(m, PusC[t=1:T] >= 0)\n",
    "@defVar(m, PusNC[t=1:T] >= 0)\n",
    "\n",
    "for t=1:T\n",
    "    @addConstraint(m, PusC[t] + PusNC[t] == Pus[t]) \n",
    "end \n"
   ]
  },
  {
   "cell_type": "code",
   "execution_count": 75,
   "metadata": {
    "collapsed": false
   },
   "outputs": [
    {
     "data": {
      "text/plain": [
       "0.33"
      ]
     },
     "execution_count": 75,
     "metadata": {},
     "output_type": "execute_result"
    }
   ],
   "source": [
    "#genAssets = readcsv(\"C:/Users/V/AppData/Local/Julia-0.3.8/dispatch/genAssets.dat\")\n",
    "#genAssets = readcsv(\"genAssets.dat\")\n",
    "#genAssets = [0 0 6 3 0 0]\n",
    "#genAssets = [50 0 0 3 0 0]\n",
    "genAssets = [0 144.9 6 3 189 6.93]\n",
    "\n",
    "# [PVbank BattNomE Gensetsize dieselcost battdischarge battchargeP]\n",
    "\n",
    "PVbank = genAssets[1] #this is the total capacity of the PV panels -- needs to be read in from REM \n",
    "delta = 1 #duration of time period (hr)\n",
    "#Cus = 5 #cost of Non-served E ($/KWH)\n",
    "Clost = 0 #cost of spillage ($/KWH)\n",
    "Cb = .1 #battery degradation cost ($)\n",
    "Cd = 1 #fixed start up cost ($)\n",
    "Pb = genAssets[5] #battery discharge power (KW)\n",
    "EFFd = 1 #Efficiency of battery discharge\n",
    "EFFc = 1 #Efficiency of battery charge\n",
    "Eb = genAssets[2] #battery nominal energy (KWH)\n",
    "Xmin = 1 #min generated diesel power(KW) -- Feed this in?\n",
    "Xmax = genAssets[3] #max generated diesel power(KW) -- Feed this in?\n",
    "Cc = genAssets[4] #cost of diesel ($/L)\n",
    "Pb_dc = genAssets[6] #Battery charge power\n",
    "\n",
    "# We may not need a cost for spillage of solar \n",
    "\n",
    "CusC = 1 #cost of unable to supply critical\n",
    "CusNC = 0.33 #cost of unable to supply noncritical\n"
   ]
  },
  {
   "cell_type": "code",
   "execution_count": 76,
   "metadata": {
    "collapsed": false
   },
   "outputs": [
    {
     "data": {
      "text/plain": [
       "24-element Array{Float64,1}:\n",
       " 0.0     \n",
       " 0.0     \n",
       " 0.0     \n",
       " 0.0     \n",
       " 0.0     \n",
       " 0.0     \n",
       " 0.004878\n",
       " 0.052358\n",
       " 0.13235 \n",
       " 0.30173 \n",
       " 0.58855 \n",
       " 0.63881 \n",
       " 0.67861 \n",
       " 0.53453 \n",
       " 0.62649 \n",
       " 0.42951 \n",
       " 0.32497 \n",
       " 0.081879\n",
       " 0.032782\n",
       " 0.0     \n",
       " 0.0     \n",
       " 0.0     \n",
       " 0.0     \n",
       " 0.0     "
      ]
     },
     "execution_count": 76,
     "metadata": {},
     "output_type": "execute_result"
    }
   ],
   "source": [
    "#Initial Variables \n",
    "\n",
    "#PlC = readcsv(\"C:/Users/V/AppData/Local/Julia-0.3.8/dispatch/critical_demand_Output.dat\")\n",
    "PlC = readcsv(\"critical_demand_Output.dat\")\n",
    "#PlC = ones(T)*15\n",
    "PlC = PlC[hindex]\n",
    "\n",
    "#PlNC = readcsv(\"C:/Users/V/AppData/Local/Julia-0.3.8/dispatch/Ncritical_demand_Output.dat\")\n",
    "PlNC = readcsv(\"Ncritical_demand_Output.dat\")\n",
    "#PlNC = ones(T)*10\n",
    "PlNC = PlNC[hindex]\n",
    "#Pl = PlC + PlNC\n",
    "\n",
    "#Ppv = readcsv(\"C:/Users/V/AppData/Local/Julia-0.3.8/dispatch/PV_Output.dat\")\n",
    "Ppv = readcsv(\"PV_Output.dat\")\n",
    "#Ppv = ones(T)*5\n",
    "Ppv = Ppv[hindex] #these values are for per KW systems so should multiply by PV capacity \n"
   ]
  },
  {
   "cell_type": "code",
   "execution_count": 77,
   "metadata": {
    "collapsed": false
   },
   "outputs": [
    {
     "data": {
      "text/latex": [
       "$$ PusC_{1} + PusNC_{1} + PusC_{2} + PusNC_{2} + PusC_{3} + PusNC_{3} + PusC_{4} + PusNC_{4} + PusC_{5} + PusNC_{5} + PusC_{6} + PusNC_{6} + PusC_{7} + PusNC_{7} + PusC_{8} + PusNC_{8} + PusC_{9} + PusNC_{9} + PusC_{10} + PusNC_{10} + PusC_{11} + PusNC_{11} + PusC_{12} + PusNC_{12} + PusC_{13} + PusNC_{13} + PusC_{14} + PusNC_{14} + PusC_{15} + PusNC_{15} + PusC_{16} + PusNC_{16} + PusC_{17} + PusNC_{17} + PusC_{18} + PusNC_{18} + PusC_{19} + PusNC_{19} + PusC_{20} + PusNC_{20} + PusC_{21} + PusNC_{21} + PusC_{22} + PusNC_{22} + PusC_{23} + PusNC_{23} + PusC_{24} + PusNC_{24} \\leq 252.1527 $$"
      ],
      "text/plain": [
       "PusC[1] + PusNC[1] + PusC[2] + PusNC[2] + PusC[3] + PusNC[3] + PusC[4] + PusNC[4] + PusC[5] + PusNC[5] + PusC[6] + PusNC[6] + PusC[7] + PusNC[7] + PusC[8] + PusNC[8] + PusC[9] + PusNC[9] + PusC[10] + PusNC[10] + PusC[11] + PusNC[11] + PusC[12] + PusNC[12] + PusC[13] + PusNC[13] + PusC[14] + PusNC[14] + PusC[15] + PusNC[15] + PusC[16] + PusNC[16] + PusC[17] + PusNC[17] + PusC[18] + PusNC[18] + PusC[19] + PusNC[19] + PusC[20] + PusNC[20] + PusC[21] + PusNC[21] + PusC[22] + PusNC[22] + PusC[23] + PusNC[23] + PusC[24] + PusNC[24] ≤ 252.1527"
      ]
     },
     "execution_count": 77,
     "metadata": {},
     "output_type": "execute_result"
    }
   ],
   "source": [
    "@addConstraint(m, sum{PusC[t] + PusNC[t], t=1:T} <= 0.6*sum{PlC[t] +PlNC[t],t=1:T} )"
   ]
  },
  {
   "cell_type": "code",
   "execution_count": 78,
   "metadata": {
    "collapsed": true
   },
   "outputs": [],
   "source": [
    "#Critical NonCritical Energy\n",
    "#basically, we are letting the program decide at each hour how much uncritical demand to serve and how much critical demand to serve\n",
    "#Add in some constraints\n",
    "for t = 1:T\n",
    "    @addConstraint(m, PlC[t] + PlNC[t] == Pl[t])\n",
    "end \n",
    "\n",
    "for t = 1:T\n",
    "    @addConstraint(m, PusC[t] <= PlC[t])\n",
    "    @addConstraint(m, PusNC[t] <= PlNC[t])   \n",
    "end "
   ]
  },
  {
   "cell_type": "code",
   "execution_count": 79,
   "metadata": {
    "collapsed": false
   },
   "outputs": [],
   "source": [
    "#DIESELEFFtable_alpha = readcsv(\"C:/Users/V/AppData/Local/Julia-0.3.8/dispatch/dieselEFFTable_alpha.csv\")\n",
    "#DIESELEFFtable_beta = readcsv(\"C:/Users/V/AppData/Local/Julia-0.3.8/dispatch/dieselEFFTable_beta.csv\")\n",
    "DIESELEFFtable_alpha = readcsv(\"dieselEFFTable_alpha.csv\")\n",
    "DIESELEFFtable_beta = readcsv(\"dieselEFFTable_beta.csv\")\n",
    "\n",
    "#alpha and betas are values derived from the slope and y intercept of linear approximations \n",
    "#of diesel use (l/hour) vs. Load fraction of generator \n",
    "#Each generator has its own set of alphas and betas\n",
    "\n",
    "ALPHAv = DIESELEFFtable_alpha[Xmax+1,1:3]#[0.454, 0.050, 0.100]\n",
    "BETAv = DIESELEFFtable_beta[Xmax+1,1:3]#[0.568, 0.366, 0.404]\n",
    "\n",
    "#Insert the diesel generator stuff below\n",
    "Nv = 3\n",
    "@defVar(m, Xv[t=1:T,v=1:Nv] >=0)\n",
    "@defVar(m, Bdv[t=1:T,v=1:Nv], Bin) #diesel on or off\n",
    "\n",
    "LOADFRACmin = [0.25, 0.5, 0.75]\n",
    "LOADFRACmax = [0.5, 0.75, 1]\n",
    "#Xmax  is read in (max of the diesel generator)\n",
    "\n",
    "#Linear piecewise approx of generator efficiency effects on generator fuel usage\n",
    "\n",
    "if Xmax > 0\n",
    "\n",
    "\n",
    "    for t = 1:T\n",
    "        @addConstraint(m, delta*sum{ALPHAv[v]*Xv[t,v]/Xmax + BETAv[v]*Bdv[t,v], v=1:Nv} == q[t]) #need to reformulate so its linear\n",
    "        @addConstraint(m, sum{Bdv[t,v], v=1:Nv} <=1)\n",
    "        @addConstraint(m, sum{Xv[t,v], v=1:Nv} == Pd[t])\n",
    "   \n",
    "    end \n",
    "\n",
    "    for  t = 1:T\n",
    "        for  v = 1:Nv \n",
    "            @addConstraint(m, sum{Xv[t,v], v=1:Nv}/Xmax <= LOADFRACmax[v]*Bdv[t,v])\n",
    "            @addConstraint(m, sum{Xv[t,v], v=1:Nv}/Xmax >= LOADFRACmin[v]*Bdv[t,v])\n",
    "        end \n",
    "    end \n",
    "\n",
    "    for t = 1:T \n",
    "        @addConstraint(m, Cc*q[t] == C[t]) \n",
    "    end \n",
    "\n",
    "    Bdv0 = 0\n",
    "    for t=1 \n",
    "        #for v=1\n",
    "        @addConstraint(m, Cd*sum{Bdv[t,v] - Bdv0, v=1:Nv} <= Cs[t]) #equation for t =1 only\n",
    "        #end \n",
    "    end \n",
    "\n",
    "    for t = 2:T #for T > 1\n",
    "        @addConstraint(m, Cd*sum{Bdv[t,v] - Bdv[t-1,v], v= 1:Nv} <= Cs[t])\n",
    "    end \n",
    "    \n",
    "else\n",
    "    for t=1:T\n",
    "        @addConstraint(m, Pd[t] == 0)\n",
    "    end \n",
    "end \n"
   ]
  },
  {
   "cell_type": "code",
   "execution_count": 80,
   "metadata": {
    "collapsed": false,
    "scrolled": true
   },
   "outputs": [
    {
     "data": {
      "text/latex": [
       "$$ C_{1} + C_{2} + C_{3} + C_{4} + C_{5} + C_{6} + C_{7} + C_{8} + C_{9} + C_{10} + C_{11} + C_{12} + C_{13} + C_{14} + C_{15} + C_{16} + C_{17} + C_{18} + C_{19} + C_{20} + C_{21} + C_{22} + C_{23} + C_{24} + Cs_{1} + Cs_{2} + Cs_{3} + Cs_{4} + Cs_{5} + Cs_{6} + Cs_{7} + Cs_{8} + Cs_{9} + Cs_{10} + Cs_{11} + Cs_{12} + Cs_{13} + Cs_{14} + Cs_{15} + Cs_{16} + Cs_{17} + Cs_{18} + Cs_{19} + Cs_{20} + Cs_{21} + Cs_{22} + Cs_{23} + Cs_{24} + PusC_{1} + PusC_{2} + PusC_{3} + PusC_{4} + PusC_{5} + PusC_{6} + PusC_{7} + PusC_{8} + PusC_{9} + PusC_{10} + PusC_{11} + PusC_{12} + PusC_{13} + PusC_{14} + PusC_{15} + PusC_{16} + PusC_{17} + PusC_{18} + PusC_{19} + PusC_{20} + PusC_{21} + PusC_{22} + PusC_{23} + PusC_{24} + 0.33 PusNC_{1} + 0.33 PusNC_{2} + 0.33 PusNC_{3} + 0.33 PusNC_{4} + 0.33 PusNC_{5} + 0.33 PusNC_{6} + 0.33 PusNC_{7} + 0.33 PusNC_{8} + 0.33 PusNC_{9} + 0.33 PusNC_{10} + 0.33 PusNC_{11} + 0.33 PusNC_{12} + 0.33 PusNC_{13} + 0.33 PusNC_{14} + 0.33 PusNC_{15} + 0.33 PusNC_{16} + 0.33 PusNC_{17} + 0.33 PusNC_{18} + 0.33 PusNC_{19} + 0.33 PusNC_{20} + 0.33 PusNC_{21} + 0.33 PusNC_{22} + 0.33 PusNC_{23} + 0.33 PusNC_{24} + 0.1 SOH_{1} + 0.1 SOH_{2} + 0.1 SOH_{3} + 0.1 SOH_{4} + 0.1 SOH_{5} + 0.1 SOH_{6} + 0.1 SOH_{7} + 0.1 SOH_{8} + 0.1 SOH_{9} + 0.1 SOH_{10} + 0.1 SOH_{11} + 0.1 SOH_{12} + 0.1 SOH_{13} + 0.1 SOH_{14} + 0.1 SOH_{15} + 0.1 SOH_{16} + 0.1 SOH_{17} + 0.1 SOH_{18} + 0.1 SOH_{19} + 0.1 SOH_{20} + 0.1 SOH_{21} + 0.1 SOH_{22} + 0.1 SOH_{23} + 0.1 SOH_{24} $$"
      ],
      "text/plain": [
       "C[1] + C[2] + C[3] + C[4] + C[5] + C[6] + C[7] + C[8] + C[9] + C[10] + C[11] + C[12] + C[13] + C[14] + C[15] + C[16] + C[17] + C[18] + C[19] + C[20] + C[21] + C[22] + C[23] + C[24] + Cs[1] + Cs[2] + Cs[3] + Cs[4] + Cs[5] + Cs[6] + Cs[7] + Cs[8] + Cs[9] + Cs[10] + Cs[11] + Cs[12] + Cs[13] + Cs[14] + Cs[15] + Cs[16] + Cs[17] + Cs[18] + Cs[19] + Cs[20] + Cs[21] + Cs[22] + Cs[23] + Cs[24] + PusC[1] + PusC[2] + PusC[3] + PusC[4] + PusC[5] + PusC[6] + PusC[7] + PusC[8] + PusC[9] + PusC[10] + PusC[11] + PusC[12] + PusC[13] + PusC[14] + PusC[15] + PusC[16] + PusC[17] + PusC[18] + PusC[19] + PusC[20] + PusC[21] + PusC[22] + PusC[23] + PusC[24] + 0.33 PusNC[1] + 0.33 PusNC[2] + 0.33 PusNC[3] + 0.33 PusNC[4] + 0.33 PusNC[5] + 0.33 PusNC[6] + 0.33 PusNC[7] + 0.33 PusNC[8] + 0.33 PusNC[9] + 0.33 PusNC[10] + 0.33 PusNC[11] + 0.33 PusNC[12] + 0.33 PusNC[13] + 0.33 PusNC[14] + 0.33 PusNC[15] + 0.33 PusNC[16] + 0.33 PusNC[17] + 0.33 PusNC[18] + 0.33 PusNC[19] + 0.33 PusNC[20] + 0.33 PusNC[21] + 0.33 PusNC[22] + 0.33 PusNC[23] + 0.33 PusNC[24] + 0.1 SOH[1] + 0.1 SOH[2] + 0.1 SOH[3] + 0.1 SOH[4] + 0.1 SOH[5] + 0.1 SOH[6] + 0.1 SOH[7] + 0.1 SOH[8] + 0.1 SOH[9] + 0.1 SOH[10] + 0.1 SOH[11] + 0.1 SOH[12] + 0.1 SOH[13] + 0.1 SOH[14] + 0.1 SOH[15] + 0.1 SOH[16] + 0.1 SOH[17] + 0.1 SOH[18] + 0.1 SOH[19] + 0.1 SOH[20] + 0.1 SOH[21] + 0.1 SOH[22] + 0.1 SOH[23] + 0.1 SOH[24]"
      ]
     },
     "execution_count": 80,
     "metadata": {},
     "output_type": "execute_result"
    }
   ],
   "source": [
    "@setObjective(m, Min, delta*sum{C[t], t = 1:T} + sum{Cs[t], t=1:T} + CusC *delta*sum{PusC[t], t=1:T} + CusNC *delta*sum{PusNC[t], t=1:T} + Clost*delta*sum{Plost[t], t=1:T} + Cb*sum{SOH[t], t=1:T}) "
   ]
  },
  {
   "cell_type": "code",
   "execution_count": 81,
   "metadata": {
    "collapsed": false
   },
   "outputs": [],
   "source": [
    "#Energy Balance\n",
    "#Pd = total diesel (for demand and for charging battery)\n",
    "#Pdb = total diesel for charging battery\n",
    "#Ppv = total available solar\n",
    "#Ppvbc = solar used to charge the battery\n",
    "#Plost = spilled solar\n",
    "#Pbd = battery discharge\n",
    "@defVar(m, Ppvbc[1:T] >= 0)\n",
    "@defVar(m, Pdbc[1:T] >= 0)\n",
    "\n",
    "#@defVar(m, Ppvmg[1:T] >= 0)\n",
    "\n",
    "for t = 1:T\n",
    "    #This equation refers to the amount of energy used to meet demand\n",
    "\t#Here, Pd is the total deisel used but Pd - Pdbc is the diesel applied to meet demand\n",
    "    @addConstraint(m, (Pd[t]-Pdbc[t]) + Pus[t] + (Ppv[t]*PVbank-Ppvbc[t]-Plost[t]) +Pbd[t] == Pl[t]) #should try to fill Pbc first with available resources, then if there is too much for the\n",
    "    @addConstraint(m, Ppv[t]*PVbank >= Ppvbc[t]+Plost[t])\n",
    "    @addConstraint(m, Pd[t] >= Pdbc[t])\n",
    "\t@addConstraint(m, Pdbc[t] + Ppvbc[t]== Pbc[t])\n",
    "    \n",
    "    #combined Pdbc[t] and Ppvbc[t]\n",
    "    #@addConstraint(m, (Pd[t]) + Pus[t] + (Ppv[t]-Plost[t]) + Pbd[t] -Pbc[t] == Pl[t])\n",
    "    #@addConstraint(m, Ppv[t] +Pd[t] >= Pbc[t]+ Plost[t])\n",
    "\t#@addConstraint(m, Ppv[t] >= Plost[t])\n",
    "end"
   ]
  },
  {
   "cell_type": "code",
   "execution_count": 82,
   "metadata": {
    "collapsed": false
   },
   "outputs": [],
   "source": [
    "#ALPHAbc = [-0 -0 -0.02]#[-0 -0 -0.02 -0.17 -1.43 -6.07]\n",
    "#BETAbc = [1 1 1.01]#[1 1 1 1.09 1.98 6.14]\n",
    "\n",
    "#ALPHAbd = [6.07 1.43 0.17]#[6.07 1.43 0.17 0.02 0 0]\n",
    "#BETAbd = [0.07 0.56 0.91]#[0.07 0.56 0.91 0.99 1 1]\n",
    "\n",
    "#LIMITS = [0 0.25 0.5 0.75 1]#[0 0.1 0.3 0.5 0.7 0.9 1]\n",
    "\n",
    "####ANOTHER TEST SET\n",
    "#ALPHAbc = [-0 -0.2 -6.1]\n",
    "#BETAbc = [1 1.1 6.14]\n",
    "\n",
    "#ALPHAbd = [6.1 0 0]\n",
    "#BETAbd = [0.1 1 1]\n",
    "\n",
    "#LIMITS = [0 0.5 0.9 1]\n",
    "\n",
    "###A THIRD TEST SET\n",
    "ALPHAbc = [0 0 -0.2 -1]\n",
    "BETAbc = [1 1 1.1 1.7]\n",
    "\n",
    "ALPHAbd = [3.4 0.3 0 0]\n",
    "BETAbd = [0.1 0.9 1 1]\n",
    "\n",
    "#LIMITS = [0 0.25 0.5 0.75 1]\n",
    "\n",
    "NvB = 4\n",
    "#@defVar(m, Bbatt[t=1:T,vB=1:NvB], Bin)\n",
    "\n",
    "#for t=1:T\n",
    "#@addConstraint(m, sum{Bbatt[t,vB], vB=1:NvB} == 1)\n",
    "#end \n",
    "\n",
    "#for t=1:T\n",
    "#    @addConstraint(m, SOC[t] <=  sum{LIMITS[vB]*Bbatt[t,vB], vB=2:NvB}) #Upper limit of segment\n",
    "#    @addConstraint(m, SOC[t] >=  sum{LIMITS[vB]*Bbatt[t,vB], vB=1:(NvB-1)}) #Lower limit of segment\n",
    "    \n",
    "#end \n",
    "\n",
    "for t=1:T\n",
    "\tfor vB = 1:NvB\n",
    "\t@addConstraint(m, Pb_dc*(BETAbc[vB]+ALPHAbc[vB]*SOC[t]) >= Pbc[t]) #Pmax for charge is Pb_dc\n",
    "\t@addConstraint(m, Pb*(BETAbd[vB]+ALPHAbd[vB]*SOC[t]) >= Pbd[t]) #Pmax for discharge is Pb\n",
    "    \n",
    "\t#@addConstraint(m, Pb*sum{(BETAbc[vB]+ALPHAbc[vB]*(LIMITS[vB]*(-1/2)+LIMITS[vB-1]*3/2))*Bbatt[t,vB], vB=2:NvB} >= Pbc[t]) #Pmax\n",
    "    #@addConstraint(m, Pb*sum{(BETAbd[vB]+ALPHAbd[vB]*(LIMITS[vB]/2+LIMITS[vB-1]/2))*Bbatt[t,vB], vB=2:NvB} >= Pbd[t]) #Pmax\n",
    "    \n",
    "    #@addConstraint(m, Pb*sum{(BETAbc[vB]+ALPHAbc[vB]*(LIMITS[vB]-LIMITS[vB-1]))*Bbatt[t,vB], vB=2:NvB}/2 >= Pbc[t]) #Pmax\n",
    "    #@addConstraint(m, Pb*sum{(BETAbd[vB]+ALPHAbd[vB]*(LIMITS[vB]-LIMITS[vB-1]))*Bbatt[t,vB], vB=2:NvB}/2 >= Pbd[t]) #Pmax\n",
    "    #@addConstraint(m, Pb*sum{(BETAbc[vB]+ALPHAbc[vB]*(LIMITS[vB]))*Bbatt[t,vB], vB=2:NvB} >= Pbc[t]) #Pmax\n",
    "    #@addConstraint(m, Pb*sum{(BETAbd[vB]+ALPHAbd[vB]*(LIMITS[vB]))*Bbatt[t,vB], vB=2:NvB} >= Pbd[t]) #Pmax\n",
    "    \n",
    "    #@addConstraint(m, Pb*sum{(BETAbc[vB]+ALPHAbc[vB]*(LIMITS[vB-1]))*Bbatt[t,vB], vB=2:NvB} <= Pbc[t]) #Pmin- don't think this makes snse\n",
    "    #@addConstraint(m, Pb*sum{(BETAbd[vB]+ALPHAbd[vB]*(LIMITS[vB-1]))*Bbatt[t,vB], vB=2:NvB} <= Pbd[t]) #Pmin\n",
    "    end\n",
    "end\n",
    "\n",
    "@addConstraint(m, SOC[1] == 0.1)\n",
    "for t = 1:T\n",
    "    @addConstraint(m, SOC[t] <= 0.9)\n",
    "    @addConstraint(m, SOC[t] >= 0.1)\n",
    "end \n",
    "\n",
    "if Eb > 0\n",
    "    for t = 2:T  \n",
    "        @addConstraint(m, SOC[t-1] - (Pbd[t-1]/(EFFd*Eb) - (EFFc/Eb)*Pbc[t-1]) == SOC[t])\n",
    "    \n",
    "        end \n",
    "else \n",
    "    for t = 2:T\n",
    "        @addConstraint(m, SOC[t] == SOC[1])\n",
    "    end \n",
    "end \n",
    "\n"
   ]
  },
  {
   "cell_type": "code",
   "execution_count": 83,
   "metadata": {
    "collapsed": false
   },
   "outputs": [],
   "source": [
    "for t = 1:T\n",
    "    @addConstraint(m, Pb_dc*Bbc[t] >= Pbc[t])\n",
    "    @addConstraint(m, Pb*Bbd[t] >= Pbd[t])\n",
    "    @addConstraint(m, Bbc[t] + Bbd[t] <= 1)\n",
    "end \n"
   ]
  },
  {
   "cell_type": "code",
   "execution_count": 84,
   "metadata": {
    "collapsed": true
   },
   "outputs": [],
   "source": [
    "cycles = 100\n",
    "for t=1:T\n",
    "    @addConstraint(m, 0.5*(delta/cycles*Eb*Pbd[t]) + 0.5*(delta/cycles*Eb*Pbc[t]) == SOH[t])\n",
    "end "
   ]
  },
  {
   "cell_type": "code",
   "execution_count": 85,
   "metadata": {
    "collapsed": false
   },
   "outputs": [
    {
     "name": "stderr",
     "output_type": "stream",
     "text": [
      "WARNING: Not solved to optimality, status: Infeasible\n"
     ]
    },
    {
     "name": "stdout",
     "output_type": "stream",
     "text": [
      "Total time (CPU seconds):       0.01   (Wallclock seconds):       0.01\n",
      "\n"
     ]
    },
    {
     "data": {
      "text/plain": [
       ":Infeasible"
      ]
     },
     "execution_count": 85,
     "metadata": {},
     "output_type": "execute_result"
    }
   ],
   "source": [
    "solve(m)"
   ]
  },
  {
   "cell_type": "code",
   "execution_count": 86,
   "metadata": {
    "collapsed": false
   },
   "outputs": [
    {
     "data": {
      "text/plain": [
       "1.7976931348623157e308"
      ]
     },
     "execution_count": 86,
     "metadata": {},
     "output_type": "execute_result"
    }
   ],
   "source": [
    "getObjectiveValue(m)"
   ]
  },
  {
   "cell_type": "code",
   "execution_count": 87,
   "metadata": {
    "collapsed": false
   },
   "outputs": [
    {
     "data": {
      "text/plain": [
       "0.6"
      ]
     },
     "execution_count": 87,
     "metadata": {},
     "output_type": "execute_result"
    }
   ],
   "source": [
    "totalUnserved = 0\n",
    "totalDemand = 0\n",
    "\n",
    "for t = 1:T\n",
    "    totalUnserved = totalUnserved + getValue(PusC[t]) + getValue(PusNC[t])\n",
    "    totalDemand = totalDemand + getValue(Pl[t])\n",
    "end \n",
    "\n",
    "totalUnserved/totalDemand"
   ]
  },
  {
   "cell_type": "code",
   "execution_count": 88,
   "metadata": {
    "collapsed": false
   },
   "outputs": [
    {
     "data": {
      "text/plain": [
       "252.15270000000004"
      ]
     },
     "execution_count": 88,
     "metadata": {},
     "output_type": "execute_result"
    }
   ],
   "source": [
    "totalUnserved"
   ]
  },
  {
   "cell_type": "code",
   "execution_count": 89,
   "metadata": {
    "collapsed": false
   },
   "outputs": [
    {
     "data": {
      "text/plain": [
       "420.25450000000006"
      ]
     },
     "execution_count": 89,
     "metadata": {},
     "output_type": "execute_result"
    }
   ],
   "source": [
    "totalDemand"
   ]
  },
  {
   "cell_type": "code",
   "execution_count": 90,
   "metadata": {
    "collapsed": false
   },
   "outputs": [
    {
     "ename": "LoadError",
     "evalue": "opening file C:/Users/V/AppData/Local/Julia-0.3.8/dispatch/Diesel Use.txt: No such file or directory\nwhile loading In[90], in expression starting on line 31",
     "output_type": "error",
     "traceback": [
      "opening file C:/Users/V/AppData/Local/Julia-0.3.8/dispatch/Diesel Use.txt: No such file or directory\nwhile loading In[90], in expression starting on line 31",
      "",
      " in open at ./iostream.jl:117",
      " in open at ./iostream.jl:125"
     ]
    }
   ],
   "source": [
    "#Printing results to text files\n",
    "\n",
    "dieselCost = 0\n",
    "genStartUpCost = 0\n",
    "unservedCritCost = 0\n",
    "unservedNCritCost = 0\n",
    "spillCost = 0\n",
    "battDegradeCost = 0 \n",
    "\n",
    "#getting the sums first \n",
    "for t = 1:T\n",
    "    dieselCost = dieselCost + getValue(C[t]) #have to use getValue or it will just output the variable\n",
    "    genStartUpCost = genStartUpCost + getValue(Cs[t])\n",
    "    unservedCritCost = unservedCritCost + getValue(PusC[t])\n",
    "    unservedNCritCost =unservedNCritCost + getValue(PusNC[t])\n",
    "    spillCost = spillCost + getValue(Plost[t])\n",
    "    battDegradeCost = battDegradeCost + getValue(SOH[t])\n",
    "end \n",
    "\n",
    "#multiplying to get the actual values \n",
    "dieselCost = delta*dieselCost\n",
    "genStartUpCost = genStartUpCost\n",
    "unservedCritCost = CusC*delta*unservedCritCost\n",
    "unservedNCritCost = CusNC*delta*unservedNCritCost\n",
    "spillCost = Clost*delta*spillCost\n",
    "battDegradeCost = Cb*battDegradeCost\n",
    "\n",
    "###### print dispatch\n",
    "\n",
    "\n",
    "g = open(\"C:/Users/V/AppData/Local/Julia-0.3.8/dispatch/Diesel Use.txt\", \"w\")\n",
    "writedlm(g, getValue(q))\n",
    "close(g)\n",
    "\n",
    "#SOC\n",
    "f = open(\"C:/Users/V/AppData/Local/Julia-0.3.8/dispatch/SOC.txt\", \"w\")\n",
    "writedlm(f, getValue(SOC))\n",
    "close(f)\n",
    "\n",
    "\n",
    "\n",
    "#Unserved Energy Dispatch\n",
    "f = open(\"C:/Users/V/AppData/Local/Julia-0.3.8/dispatch/PusC Dispatch.txt\", \"w\")\n",
    "writedlm(f, getValue(PusC))\n",
    "close(f)\n",
    "\n",
    "f = open(\"C:/Users/V/AppData/Local/Julia-0.3.8/dispatch/PusNC Dispatch.txt\", \"w\")\n",
    "writedlm(f, getValue(PusNC))\n",
    "close(f)\n",
    "\n",
    "#Solar Related Dispatch\n",
    "f = open(\"C:/Users/V/AppData/Local/Julia-0.3.8/dispatch/Plost Dispatch.txt\", \"w\")\n",
    "writedlm(f, getValue(Plost))\n",
    "close(f)\n",
    "\n",
    "f = open(\"C:/Users/V/AppData/Local/Julia-0.3.8/dispatch/Ppv Dispatch.txt\", \"w\")\n",
    "#writedlm(f, getValue(Ppv*PVbank))\n",
    "writedlm(f, Ppv*PVbank)\n",
    "close(f)\n",
    "\n",
    "\n",
    "#battery dispatch\n",
    "f = open(\"C:/Users/V/AppData/Local/Julia-0.3.8/dispatch/Pbd Dispatch.txt\", \"w\")\n",
    "writedlm(f, getValue(Pbd))\n",
    "close(f)\n",
    "\n",
    "#battery charge\n",
    "f = open(\"C:/Users/V/AppData/Local/Julia-0.3.8/dispatch/Pdbc Dispatch.txt\", \"w\") #battery charge total\n",
    "writedlm(f, getValue(Pdbc))\n",
    "close(f)\n",
    "\n",
    "f = open(\"C:/Users/V/AppData/Local/Julia-0.3.8/dispatch/Ppvbc Dispatch.txt\", \"w\") #battery charge total\n",
    "writedlm(f, getValue(Ppvbc))\n",
    "close(f)\n",
    "\n",
    "#Diesel dispatch\n",
    "\n",
    "f = open(\"C:/Users/V/AppData/Local/Julia-0.3.8/dispatch/Pd Dispatch.txt\", \"w\")\n",
    "writedlm(f, getValue(Pd))\n",
    "close(f)\n",
    "\n",
    "#Printing total demand\n",
    "\n",
    "f = open(\"C:/Users/V/AppData/Local/Julia-0.3.8/dispatch/demandData.txt\", \"w\")\n",
    "writedlm(f, getValue(Pl))\n",
    "close(f)\n",
    "\n",
    "#####print costs\n",
    "costs = [dieselCost genStartUpCost unservedCritCost unservedNCritCost spillCost battDegradeCost]\n",
    "\n",
    "f = open(\"C:/Users/V/AppData/Local/Julia-0.3.8/dispatch/costs.txt\", \"w\")\n",
    "writedlm(f, costs)\n",
    "close(f)\n",
    "\n",
    "\n",
    "#Doesn't work right now\n",
    "#f = open(\"C:/Users/V/AppData/Local/Julia-0.3.8/dispatch/PvData.txt\", \"w\")\n",
    "#writedlm(f, Ppv)\n",
    "#close(f)\n",
    "\n",
    "\n",
    "\n",
    "\n",
    "\n",
    "\n",
    "\n",
    "\n",
    "\n",
    "\n",
    "\n",
    "\n"
   ]
  },
  {
   "cell_type": "code",
   "execution_count": null,
   "metadata": {
    "collapsed": true
   },
   "outputs": [],
   "source": []
  }
 ],
 "metadata": {
  "kernelspec": {
   "display_name": "Julia 0.3.9",
   "language": "julia",
   "name": "julia-0.3"
  },
  "language_info": {
   "name": "julia",
   "version": "0.3.9"
  }
 },
 "nbformat": 4,
 "nbformat_minor": 0
}
