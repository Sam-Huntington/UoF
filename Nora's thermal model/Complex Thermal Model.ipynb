{
 "cells": [
  {
   "cell_type": "code",
   "execution_count": 1,
   "metadata": {
    "collapsed": false
   },
   "outputs": [],
   "source": [
    "using DataFrames\n",
    "using JuMP, Gurobi\n",
    "#using Gadfly"
   ]
  },
  {
   "cell_type": "code",
   "execution_count": 135,
   "metadata": {
    "collapsed": false
   },
   "outputs": [
    {
     "data": {
      "text/plain": [
       "6"
      ]
     },
     "execution_count": 135,
     "metadata": {},
     "output_type": "execute_result"
    }
   ],
   "source": [
    "m = Model(solver=GurobiSolver())\n",
    "\n",
    "iGenLoad = readtable(\"BatteryModel_GenLoad.csv\",header=true)\n",
    "iPrices = readtable(\"BatteryModel_Prices.csv\",header=true)\n",
    "iThermalParameters = readtable(\"Thermal_cfs.csv\",header=true) \n",
    "iThermalFactors = readtable(\"ComplexThermal_Factors.csv\", header=true) \n",
    "\n",
    "T = length(iPrices[:pHour])\n",
    "Tplus = T+2\n",
    "pHours = iPrices[:pHour][1:T]\n",
    "\n",
    "pBuyEnergy = iPrices[:pBuy_Energy][1:T]\n",
    "pSellEnergy = iPrices[:pSell_Energy][1:T]\n",
    "pNonControllableLoad = iGenLoad[:pNonControllableLoad][1:T]\n",
    "\n",
    "pCf = iThermalParameters[:]\n",
    "pTf = iThermalFactors[:]\n",
    "\n",
    "#pTz = iThermalFactors[:Tz][1:Tplus]\n",
    "#pTx = iThermalFactors[:Tx][1:Tplus]\n",
    "#pQrad = iThermalFactors[:Qrad][1:Tplus]\n",
    "#pQconv = iThermalFactors[:Qconv][1:Tplus]\n",
    "#pQwind = iThermalFactors[:Qwindow_solar][1:Tplus]\n",
    "#pQsurf = iThermalFactors[:Qsurface_solar][1:Tplus]\n",
    "#pTground = iThermalFactors[:Tground][1:Tplus]\n",
    "\n",
    "pCOP = 3\n",
    "pDeadband = 2\n",
    "pTempDevPenalty = 1000\n",
    "pSetpoint = 20\n",
    "\n",
    "\n",
    "n=2 #thermal model order\n",
    "k=6 #number of exogenous variables"
   ]
  },
  {
   "cell_type": "code",
   "execution_count": 5,
   "metadata": {
    "collapsed": false
   },
   "outputs": [
    {
     "data": {
      "text/plain": [
       "24"
      ]
     },
     "execution_count": 5,
     "metadata": {},
     "output_type": "execute_result"
    }
   ],
   "source": [
    "T"
   ]
  },
  {
   "cell_type": "code",
   "execution_count": 77,
   "metadata": {
    "collapsed": false
   },
   "outputs": [
    {
     "data": {
      "text/plain": [
       "3-element Array{Float64,1}:\n",
       " 22.2644\n",
       " 22.4039\n",
       " 22.4099"
      ]
     },
     "execution_count": 77,
     "metadata": {},
     "output_type": "execute_result"
    }
   ],
   "source": [
    "#A = convert(Array,pTf[1:3,3:8])\n",
    "#B = convert(Array,pCf[1:7,1:3])\n",
    "#B = convert(Array,pCf[1:3,2:7])\n",
    "#C = sum(A.*B)\n",
    "#A[1:3,2:8]\n",
    "#A\n",
    "\n",
    "aTf = convert(Array,pTf[1:3,3:8])\n",
    "aCf = convert(Array,pCf[1:3,2:7])\n",
    "atmp_fct = convert(Array,pCf[1:3,1])\n",
    "atmp_lag = convert(Array,pTf[1:3,2])\n",
    "atmp_lag"
   ]
  },
  {
   "cell_type": "code",
   "execution_count": 18,
   "metadata": {
    "collapsed": false
   },
   "outputs": [
    {
     "data": {
      "text/plain": [
       "22.393557179874634"
      ]
     },
     "execution_count": 18,
     "metadata": {},
     "output_type": "execute_result"
    }
   ],
   "source": [
    "t=4\n",
    "sum(convert(Array,pCf[1:3,1:7]).*convert(Array,pTf[t-2:t,2:8]))"
   ]
  },
  {
   "cell_type": "code",
   "execution_count": 104,
   "metadata": {
    "collapsed": false
   },
   "outputs": [
    {
     "data": {
      "text/plain": [
       "6.59e-6"
      ]
     },
     "execution_count": 104,
     "metadata": {},
     "output_type": "execute_result"
    }
   ],
   "source": [
    "t=5\n",
    "#atmp_fct[2]\n",
    "pCf[t-2,4]"
   ]
  },
  {
   "cell_type": "code",
   "execution_count": 139,
   "metadata": {
    "collapsed": false
   },
   "outputs": [
    {
     "data": {
      "text/latex": [
       "$$ 4.5650000000000005e-5 vPowerHVAC_{1} + 3.972e-5 vPowerHVAC_{2} + 4.5400000000000006e-5 vPowerHVAC_{3} + 4.0390000000000005e-5 vPowerHVAC_{4} + 4.189e-5 vPowerHVAC_{5} + 3.961e-5 vPowerHVAC_{6} + 3.737e-5 vPowerHVAC_{7} + 3.5770000000000005e-5 vPowerHVAC_{8} + 3.47e-5 vPowerHVAC_{9} + 3.303e-5 vPowerHVAC_{10} + 3.8010000000000004e-5 vPowerHVAC_{11} + 3.601e-5 vPowerHVAC_{12} + 4.303e-5 vPowerHVAC_{13} + 4.0680000000000004e-5 vPowerHVAC_{14} + 5.0560000000000004e-5 vPowerHVAC_{15} + 4.1349999999999995e-5 vPowerHVAC_{16} + 3.7760000000000004e-5 vPowerHVAC_{17} + 3.934e-5 vPowerHVAC_{18} + 4.592e-5 vPowerHVAC_{19} + 5.499e-5 vPowerHVAC_{20} + 5.6529999999999996e-5 vPowerHVAC_{21} + 7.126e-5 vPowerHVAC_{22} + 5.051e-5 vPowerHVAC_{23} + 5.5599999999999996e-5 vPowerHVAC_{24} + 1000 vTempHigh_{1} + 1000 vTempLow_{1} + 1000 vTempHigh_{2} + 1000 vTempLow_{2} + 1000 vTempHigh_{3} + 1000 vTempLow_{3} + 1000 vTempHigh_{4} + 1000 vTempLow_{4} + 1000 vTempHigh_{5} + 1000 vTempLow_{5} + 1000 vTempHigh_{6} + 1000 vTempLow_{6} + 1000 vTempHigh_{7} + 1000 vTempLow_{7} + 1000 vTempHigh_{8} + 1000 vTempLow_{8} + 1000 vTempHigh_{9} + 1000 vTempLow_{9} + 1000 vTempHigh_{10} + 1000 vTempLow_{10} + 1000 vTempHigh_{11} + 1000 vTempLow_{11} + 1000 vTempHigh_{12} + 1000 vTempLow_{12} + 1000 vTempHigh_{13} + 1000 vTempLow_{13} + 1000 vTempHigh_{14} + 1000 vTempLow_{14} + 1000 vTempHigh_{15} + 1000 vTempLow_{15} + 1000 vTempHigh_{16} + 1000 vTempLow_{16} + 1000 vTempHigh_{17} + 1000 vTempLow_{17} + 1000 vTempHigh_{18} + 1000 vTempLow_{18} + 1000 vTempHigh_{19} + 1000 vTempLow_{19} + 1000 vTempHigh_{20} + 1000 vTempLow_{20} + 1000 vTempHigh_{21} + 1000 vTempLow_{21} + 1000 vTempHigh_{22} + 1000 vTempLow_{22} + 1000 vTempHigh_{23} + 1000 vTempLow_{23} + 1000 vTempHigh_{24} + 1000 vTempLow_{24} $$"
      ],
      "text/plain": [
       "4.5650000000000005e-5 vPowerHVAC[1] + 3.972e-5 vPowerHVAC[2] + 4.5400000000000006e-5 vPowerHVAC[3] + 4.0390000000000005e-5 vPowerHVAC[4] + 4.189e-5 vPowerHVAC[5] + 3.961e-5 vPowerHVAC[6] + 3.737e-5 vPowerHVAC[7] + 3.5770000000000005e-5 vPowerHVAC[8] + 3.47e-5 vPowerHVAC[9] + 3.303e-5 vPowerHVAC[10] + 3.8010000000000004e-5 vPowerHVAC[11] + 3.601e-5 vPowerHVAC[12] + 4.303e-5 vPowerHVAC[13] + 4.0680000000000004e-5 vPowerHVAC[14] + 5.0560000000000004e-5 vPowerHVAC[15] + 4.1349999999999995e-5 vPowerHVAC[16] + 3.7760000000000004e-5 vPowerHVAC[17] + 3.934e-5 vPowerHVAC[18] + 4.592e-5 vPowerHVAC[19] + 5.499e-5 vPowerHVAC[20] + 5.6529999999999996e-5 vPowerHVAC[21] + 7.126e-5 vPowerHVAC[22] + 5.051e-5 vPowerHVAC[23] + 5.5599999999999996e-5 vPowerHVAC[24] + 1000 vTempHigh[1] + 1000 vTempLow[1] + 1000 vTempHigh[2] + 1000 vTempLow[2] + 1000 vTempHigh[3] + 1000 vTempLow[3] + 1000 vTempHigh[4] + 1000 vTempLow[4] + 1000 vTempHigh[5] + 1000 vTempLow[5] + 1000 vTempHigh[6] + 1000 vTempLow[6] + 1000 vTempHigh[7] + 1000 vTempLow[7] + 1000 vTempHigh[8] + 1000 vTempLow[8] + 1000 vTempHigh[9] + 1000 vTempLow[9] + 1000 vTempHigh[10] + 1000 vTempLow[10] + 1000 vTempHigh[11] + 1000 vTempLow[11] + 1000 vTempHigh[12] + 1000 vTempLow[12] + 1000 vTempHigh[13] + 1000 vTempLow[13] + 1000 vTempHigh[14] + 1000 vTempLow[14] + 1000 vTempHigh[15] + 1000 vTempLow[15] + 1000 vTempHigh[16] + 1000 vTempLow[16] + 1000 vTempHigh[17] + 1000 vTempLow[17] + 1000 vTempHigh[18] + 1000 vTempLow[18] + 1000 vTempHigh[19] + 1000 vTempLow[19] + 1000 vTempHigh[20] + 1000 vTempLow[20] + 1000 vTempHigh[21] + 1000 vTempLow[21] + 1000 vTempHigh[22] + 1000 vTempLow[22] + 1000 vTempHigh[23] + 1000 vTempLow[23] + 1000 vTempHigh[24] + 1000 vTempLow[24]"
      ]
     },
     "execution_count": 139,
     "metadata": {},
     "output_type": "execute_result"
    }
   ],
   "source": [
    "##Noras Thermal Model:\n",
    "#cCV= [((n+1)*k)+n] #constant coefficients - load from first tab in nora's spreadsheet\n",
    "#cBTM = [T+n, k+1] #weather and build input data\n",
    "\n",
    "@defVar(m, vTempInt[t=1:T])                   # deg C\n",
    "@defVar(m, vTempLow[t=1:T]>=0)                   # deg C\n",
    "@defVar(m, vTempHigh[t=1:T]>=0)                  # deg C\n",
    "@defVar(m, 0<=vPowerHVAC[t=1:T]<=5000)                 # watts\n",
    "@defExpr(vQhvac[t=1:T], pCOP*vPowerHVAC[t])\n",
    "\n",
    "atmp_fct = convert(Array,pCf[1:3,1]) #just the coefficients for past temperature\n",
    "aCf = convert(Array,pCf[1:3,2:7])    #the rest of the coefficients\n",
    "\n",
    "# determine temp for t = 1 to n, from lag variables\n",
    "for t=1:n #1:2\n",
    "    @addConstraint(m, atmp_lag[t]==vTempInt[t])   \n",
    "    @addConstraint(m, (pSetpoint-pDeadband)-vTempLow[t]<=vTempInt[t])\n",
    "    @addConstraint(m, (pSetpoint+pDeadband)+vTempHigh[t]>=vTempInt[t])\n",
    "end\n",
    "\n",
    "# determine temp for t > 1 from existing temp, hvac, and lag variables\n",
    "for t=(n+1):T # 3:24\n",
    "    @addConstraint(m, sum(aCf.*convert(Array,pTf[t-2:t,3:8]))\n",
    "    +atmp_fct[2]*vTempInt[t-1]+atmp_fct[1]*vTempInt[t-2]\n",
    "    -sum(vQhvac[(t-2):t].*pCf[1:3,4])==vTempInt[t])\n",
    "                \n",
    "    @addConstraint(m, (pSetpoint-pDeadband)-vTempLow[t]<=vTempInt[t])\n",
    "    @addConstraint(m, (pSetpoint+pDeadband)+vTempHigh[t]>=vTempInt[t])\n",
    "\n",
    "end\n",
    "\n",
    "@defExpr(vTotalTempDev[t=1:T],vTempHigh[t]+vTempLow[t])\n",
    "@defExpr(TotalCost, sum{pBuyEnergy[t]*vPowerHVAC[t]/1000, t=1:T}+pTempDevPenalty*sum{vTotalTempDev[t],t=1:T})\n",
    "@setObjective(m, Min, TotalCost)"
   ]
  },
  {
   "cell_type": "code",
   "execution_count": 140,
   "metadata": {
    "collapsed": false
   },
   "outputs": [
    {
     "name": "stdout",
     "output_type": "stream",
     "text": [
      "Optimize a model with 144 rows, 192 columns and 460 nonzeros\n",
      "Coefficient statistics:\n",
      "  Matrix range    [2e-05, 1e+00]\n",
      "  Objective range [3e-05, 1e+03]\n",
      "  Bounds range    [5e+03, 5e+03]\n",
      "  RHS range       [4e-01, 2e+01]\n",
      "Iteration    Objective       Primal Inf.    Dual Inf.      Time\n",
      "       0      handle free variables                          0s\n",
      "      30    6.6855770e+02   0.000000e+00   0.000000e+00      0s\n",
      "\n",
      "Solved in 30 iterations and 0.00 seconds\n",
      "Optimal objective  6.685577046e+02\n",
      "Objective value: 668.5577045875406\n"
     ]
    }
   ],
   "source": [
    "status = solve(m)\n",
    "status\n",
    "println(\"Objective value: \", getObjectiveValue(m))"
   ]
  },
  {
   "cell_type": "code",
   "execution_count": 142,
   "metadata": {
    "collapsed": false
   },
   "outputs": [],
   "source": [
    "aUsage = hcat(\n",
    "            pHours,\n",
    "            pBuyEnergy,\n",
    "            getValue(vPowerHVAC)/100,\n",
    "            getValue(vTempInt),\n",
    "            getValue(vTotalTempDev),\n",
    "            getValue(vTempLow),\n",
    "            getValue(vTempHigh))\n",
    "\n",
    "\n",
    "aUsage = convert(Array, aUsage)\n",
    "dfUsage = convert(DataFrames.DataFrame, aUsage)\n",
    "rename!(dfUsage, {:x1=>:Hour,:x2=>:Buy_Energy,:x3=>:PowerHVAC,:x4=>:Interior_temp,:x5=>:TotalDev,:x6=>:Tempdevhigh,\n",
    "    :x7=>:Tempdevlow})\n",
    "    \n",
    "writetable(\"nora_outputs2.csv\",dfUsage)"
   ]
  },
  {
   "cell_type": "code",
   "execution_count": 134,
   "metadata": {
    "collapsed": false
   },
   "outputs": [
    {
     "data": {
      "text/plain": [
       "24x7 Array{Float64,2}:\n",
       "  1.0  0.04565   0.0     22.2644  0.264356   0.0  0.264356 \n",
       "  2.0  0.03972   0.0     22.4039  0.403899   0.0  0.403899 \n",
       "  3.0  0.0454    2.7661  22.2334  0.233444   0.0  0.233444 \n",
       "  4.0  0.04039   0.0     22.2982  0.298225   0.0  0.298225 \n",
       "  5.0  0.04189   0.0     22.3917  0.391663   0.0  0.391663 \n",
       "  6.0  0.03961   0.0     22.274   0.274039   0.0  0.274039 \n",
       "  7.0  0.03737   0.0     22.3921  0.392118   0.0  0.392118 \n",
       "  8.0  0.03577   0.0     22.145   0.144974   0.0  0.144974 \n",
       "  9.0  0.0347    0.0     22.2804  0.280413   0.0  0.280413 \n",
       " 10.0  0.03303   0.0     21.8827  0.0        0.0  0.0      \n",
       " 11.0  0.03801   0.0     21.9065  0.0        0.0  0.0      \n",
       " 12.0  0.03601   0.0     22.0     0.0        0.0  0.0      \n",
       " 13.0  0.04303   0.0     22.0721  0.0720535  0.0  0.0720535\n",
       " 14.0  0.04068   0.0     22.1644  0.164355   0.0  0.164355 \n",
       " 15.0  0.05056   0.0     22.28    0.279988   0.0  0.279988 \n",
       " 16.0  0.04135   0.0     22.1916  0.191594   0.0  0.191594 \n",
       " 17.0  0.03776   0.0     22.4152  0.415215   0.0  0.415215 \n",
       " 18.0  0.03934  12.1059  22.2633  0.263251   0.0  0.263251 \n",
       " 19.0  0.04592  31.5955  22.0     0.0        0.0  0.0      \n",
       " 20.0  0.05499  39.6739  22.0     0.0        0.0  0.0      \n",
       " 21.0  0.05653  50.0     22.2229  0.22288    0.0  0.22288  \n",
       " 22.0  0.07126  45.4927  22.0     0.0        0.0  0.0      \n",
       " 23.0  0.05051  50.0     23.1132  1.11323    0.0  1.11323  \n",
       " 24.0  0.0556   50.0     22.0     0.0        0.0  0.0      "
      ]
     },
     "execution_count": 134,
     "metadata": {},
     "output_type": "execute_result"
    }
   ],
   "source": [
    "aUsage"
   ]
  },
  {
   "cell_type": "code",
   "execution_count": null,
   "metadata": {
    "collapsed": true
   },
   "outputs": [],
   "source": [
    "@addConstraint(m,vTempInt[t]== pCf[1]*vTempInt[t-1]+pCf[2]*vTempInt[t-2]                         #past zonal temps\n",
    "        +pCf[3]*pTx[t]+pCf[4]*pTx[t-1]+pCf[5]*pTx[t-2]                      #current and past ambient temps\n",
    "        +pCf[6]*pQrad[t]+pCf[7]*pQrad[t-1]+pCf[8]*pQrad[t-2]                #current and past Q radiative\n",
    "        +pCf[9]*(pQconv[t]-vQhvac[t])+pCf[10]*(pQconv[t-1]-vQhvac[t-1])+pCf[11]*(pQconv[t-2]-vQhvac[t-2])           #current and past Q convective\n",
    "        +pCf[12]*pQwind[t]+pCf[13]*pQwind[t-1]+pCf[14]*pQwind[t-2]          #current and past Q window solar\n",
    "        +pCf[15]*pQsurf[t]+pCf[16]*pQsurf[t-1]+pCf[17]*pQsurf[t-2]          #current and past Q surface solar\n",
    "        +pCf[18]*pTground[t]+pCf[19]*pTground[t-1]+pCf[20]*pTground[t-2]) #current and past ground temp\n",
    "    "
   ]
  }
 ],
 "metadata": {
  "kernelspec": {
   "display_name": "Julia 0.3.11",
   "language": "julia",
   "name": "julia-0.3"
  },
  "language_info": {
   "file_extension": ".jl",
   "mimetype": "application/julia",
   "name": "julia",
   "version": "0.3.11"
  }
 },
 "nbformat": 4,
 "nbformat_minor": 0
}
