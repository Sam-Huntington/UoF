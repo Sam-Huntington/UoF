{
 "cells": [
  {
   "cell_type": "code",
   "execution_count": 8,
   "metadata": {
    "collapsed": false
   },
   "outputs": [],
   "source": [
    "using DataFrames\n",
    "using JuMP, Gurobi\n",
    "using Gadfly"
   ]
  },
  {
   "cell_type": "code",
   "execution_count": 108,
   "metadata": {
    "collapsed": false
   },
   "outputs": [
    {
     "data": {
      "text/plain": [
       "6"
      ]
     },
     "execution_count": 108,
     "metadata": {},
     "output_type": "execute_result"
    }
   ],
   "source": [
    "m = Model(solver=GurobiSolver())\n",
    "\n",
    "iGenLoad = readtable(\"BatteryModel_GenLoad.csv\",header=true)\n",
    "iPrices = readtable(\"BatteryModel_Prices.csv\",header=true)\n",
    "iThermalParameters = readtable(\"Thermal_cfs.csv\",header=true) \n",
    "iThermalFactors = readtable(\"ComplexThermal_Factors.csv\", header=true) \n",
    "\n",
    "T = length(iPrices[:pHour])\n",
    "Tplus = T+2\n",
    "pHours = iPrices[:pHour][1:T]\n",
    "\n",
    "pBuyEnergy = iPrices[:pBuy_Energy][1:T]\n",
    "pSellEnergy = iPrices[:pSell_Energy][1:T]\n",
    "pNonControllableLoad = iGenLoad[:pNonControllableLoad][1:T]\n",
    "\n",
    "pCf = iThermalParameters[:]\n",
    "pTf = iThermalFactors[:]\n",
    "\n",
    "\n",
    "#pTz = iThermalFactors[:Tz][1:Tplus]\n",
    "#pTx = iThermalFactors[:Tx][1:Tplus]\n",
    "#pQrad = iThermalFactors[:Qrad][1:Tplus]\n",
    "#pQconv = iThermalFactors[:Qconv][1:Tplus]\n",
    "#pQwind = iThermalFactors[:Qwindow_solar][1:Tplus]\n",
    "#pQsurf = iThermalFactors[:Qsurface_solar][1:Tplus]\n",
    "#pTground = iThermalFactors[:Tground][1:Tplus]\n",
    "\n",
    "pCOP = 3\n",
    "pDeadband = 2\n",
    "pTempDevPenalty = 10\n",
    "pSetpoint = 20\n",
    "\n",
    "\n",
    "n=2 #thermal model order\n",
    "k=6 #number of exogenous variables"
   ]
  },
  {
   "cell_type": "code",
   "execution_count": 107,
   "metadata": {
    "collapsed": false
   },
   "outputs": [
    {
     "data": {
      "text/plain": [
       "3-element Array{Float64,1}:\n",
       " 22.2644\n",
       " 22.4039\n",
       " 22.4099"
      ]
     },
     "execution_count": 107,
     "metadata": {},
     "output_type": "execute_result"
    }
   ],
   "source": [
    "#A = convert(Array,pTf[1:3,3:8])\n",
    "#B = convert(Array,pCf[1:7,1:3])\n",
    "#B = convert(Array,pCf[1:3,2:7])\n",
    "#C = sum(A.*B)\n",
    "#A[1:3,2:8]\n",
    "#A\n",
    "\n",
    "aTf = convert(Array,pTf[1:3,3:8])\n",
    "aCf = convert(Array,pCf[1:3,2:7])\n",
    "atmp_fct = convert(Array,pCf[1:3,1])\n",
    "atmp_lag = convert(Array,pTf[1:3,2])\n",
    "atmp_lag"
   ]
  },
  {
   "cell_type": "code",
   "execution_count": 111,
   "metadata": {
    "collapsed": false
   },
   "outputs": [
    {
     "data": {
      "text/latex": [
       "$$ 4.5650000000000005e-5 vPowerHVAC_{1} + 3.972e-5 vPowerHVAC_{2} + 4.5400000000000006e-5 vPowerHVAC_{3} + 4.0390000000000005e-5 vPowerHVAC_{4} + 4.189e-5 vPowerHVAC_{5} + 3.961e-5 vPowerHVAC_{6} + 3.737e-5 vPowerHVAC_{7} + 3.5770000000000005e-5 vPowerHVAC_{8} + 3.47e-5 vPowerHVAC_{9} + 3.303e-5 vPowerHVAC_{10} + 3.8010000000000004e-5 vPowerHVAC_{11} + 3.601e-5 vPowerHVAC_{12} + 4.303e-5 vPowerHVAC_{13} + 4.0680000000000004e-5 vPowerHVAC_{14} + 5.0560000000000004e-5 vPowerHVAC_{15} + 4.1349999999999995e-5 vPowerHVAC_{16} + 3.7760000000000004e-5 vPowerHVAC_{17} + 3.934e-5 vPowerHVAC_{18} + 4.592e-5 vPowerHVAC_{19} + 5.499e-5 vPowerHVAC_{20} + 5.6529999999999996e-5 vPowerHVAC_{21} + 7.126e-5 vPowerHVAC_{22} + 5.051e-5 vPowerHVAC_{23} + 5.5599999999999996e-5 vPowerHVAC_{24} + 10 vTempHigh_{1} + 10 vTempLow_{1} + 10 vTempHigh_{2} + 10 vTempLow_{2} + 10 vTempHigh_{3} + 10 vTempLow_{3} + 10 vTempHigh_{4} + 10 vTempLow_{4} + 10 vTempHigh_{5} + 10 vTempLow_{5} + 10 vTempHigh_{6} + 10 vTempLow_{6} + 10 vTempHigh_{7} + 10 vTempLow_{7} + 10 vTempHigh_{8} + 10 vTempLow_{8} + 10 vTempHigh_{9} + 10 vTempLow_{9} + 10 vTempHigh_{10} + 10 vTempLow_{10} + 10 vTempHigh_{11} + 10 vTempLow_{11} + 10 vTempHigh_{12} + 10 vTempLow_{12} + 10 vTempHigh_{13} + 10 vTempLow_{13} + 10 vTempHigh_{14} + 10 vTempLow_{14} + 10 vTempHigh_{15} + 10 vTempLow_{15} + 10 vTempHigh_{16} + 10 vTempLow_{16} + 10 vTempHigh_{17} + 10 vTempLow_{17} + 10 vTempHigh_{18} + 10 vTempLow_{18} + 10 vTempHigh_{19} + 10 vTempLow_{19} + 10 vTempHigh_{20} + 10 vTempLow_{20} + 10 vTempHigh_{21} + 10 vTempLow_{21} + 10 vTempHigh_{22} + 10 vTempLow_{22} + 10 vTempHigh_{23} + 10 vTempLow_{23} + 10 vTempHigh_{24} + 10 vTempLow_{24} $$"
      ],
      "text/plain": [
       "4.5650000000000005e-5 vPowerHVAC[1] + 3.972e-5 vPowerHVAC[2] + 4.5400000000000006e-5 vPowerHVAC[3] + 4.0390000000000005e-5 vPowerHVAC[4] + 4.189e-5 vPowerHVAC[5] + 3.961e-5 vPowerHVAC[6] + 3.737e-5 vPowerHVAC[7] + 3.5770000000000005e-5 vPowerHVAC[8] + 3.47e-5 vPowerHVAC[9] + 3.303e-5 vPowerHVAC[10] + 3.8010000000000004e-5 vPowerHVAC[11] + 3.601e-5 vPowerHVAC[12] + 4.303e-5 vPowerHVAC[13] + 4.0680000000000004e-5 vPowerHVAC[14] + 5.0560000000000004e-5 vPowerHVAC[15] + 4.1349999999999995e-5 vPowerHVAC[16] + 3.7760000000000004e-5 vPowerHVAC[17] + 3.934e-5 vPowerHVAC[18] + 4.592e-5 vPowerHVAC[19] + 5.499e-5 vPowerHVAC[20] + 5.6529999999999996e-5 vPowerHVAC[21] + 7.126e-5 vPowerHVAC[22] + 5.051e-5 vPowerHVAC[23] + 5.5599999999999996e-5 vPowerHVAC[24] + 10 vTempHigh[1] + 10 vTempLow[1] + 10 vTempHigh[2] + 10 vTempLow[2] + 10 vTempHigh[3] + 10 vTempLow[3] + 10 vTempHigh[4] + 10 vTempLow[4] + 10 vTempHigh[5] + 10 vTempLow[5] + 10 vTempHigh[6] + 10 vTempLow[6] + 10 vTempHigh[7] + 10 vTempLow[7] + 10 vTempHigh[8] + 10 vTempLow[8] + 10 vTempHigh[9] + 10 vTempLow[9] + 10 vTempHigh[10] + 10 vTempLow[10] + 10 vTempHigh[11] + 10 vTempLow[11] + 10 vTempHigh[12] + 10 vTempLow[12] + 10 vTempHigh[13] + 10 vTempLow[13] + 10 vTempHigh[14] + 10 vTempLow[14] + 10 vTempHigh[15] + 10 vTempLow[15] + 10 vTempHigh[16] + 10 vTempLow[16] + 10 vTempHigh[17] + 10 vTempLow[17] + 10 vTempHigh[18] + 10 vTempLow[18] + 10 vTempHigh[19] + 10 vTempLow[19] + 10 vTempHigh[20] + 10 vTempLow[20] + 10 vTempHigh[21] + 10 vTempLow[21] + 10 vTempHigh[22] + 10 vTempLow[22] + 10 vTempHigh[23] + 10 vTempLow[23] + 10 vTempHigh[24] + 10 vTempLow[24]"
      ]
     },
     "execution_count": 111,
     "metadata": {},
     "output_type": "execute_result"
    }
   ],
   "source": [
    "##Noras Thermal Model:\n",
    "#cCV= [((n+1)*k)+n] #constant coefficients - load from first tab in nora's spreadsheet\n",
    "#cBTM = [T+n, k+1] #weather and build input data\n",
    "\n",
    "@defVar(m, vTempInt[t=1:T])                   # deg C\n",
    "@defVar(m, vTempLow[t=1:T])                   # deg C\n",
    "@defVar(m, vTempHigh[t=1:T])                  # deg C\n",
    "@defVar(m, vPowerHVAC[t=1:T])                 # watts\n",
    "@defExpr(vQhvac[t=1:T], pCOP*vPowerHVAC[t])\n",
    "\n",
    "\n",
    "#A = convert(Array,pTf[1:3,2:8])\n",
    "atmp_fct = convert(Array,pCf[1:3,1])\n",
    "aCf = convert(Array,pCf[1:3,2:7])\n",
    "\n",
    "# determine temp for t = 1 to n, from lag variables\n",
    "for t=1:n \n",
    "    @addConstraint(m, atmp_lag[t]==vTempInt[t])\n",
    "    \n",
    "    @addConstraint(m, (pSetpoint-pDeadband)-vTempLow[t]<=vTempInt[t])\n",
    "    @addConstraint(m, (pSetpoint+pDeadband)+vTempHigh[t]>=vTempInt[t])\n",
    "\n",
    "end\n",
    "\n",
    "# determine temp for t > 1 from existing temp, hvac, and lag variables\n",
    "for t=(n+1):T\n",
    "    @addConstraint(m, sum(aCf.*convert(Array,pTf[t-2:t,3:8]))\n",
    "                +atmp_fct[1]*vTempInt[t-1]+atmp_fct[2]*vTempInt[t-2]\n",
    "    -sum(vPowerHVAC[(t-2):t].*convert(Array,pTf[t-2:t,5]))==vTempInt[t])\n",
    "    # + atmp_fct[1]*vTempInt[t-1]+ atmp_fct[2]*vTempInt[t-2]\n",
    "    \n",
    "    @addConstraint(m, (pSetpoint-pDeadband)-vTempLow[t]<=vTempInt[t])\n",
    "    @addConstraint(m, (pSetpoint+pDeadband)+vTempHigh[t]>=vTempInt[t])\n",
    "\n",
    "end\n",
    "\n",
    "@defExpr(vTotalTempDev[t=1:T],vTempHigh[t]+vTempLow[t])\n",
    "@defExpr(TotalCost, sum{pBuyEnergy[t]*vPowerHVAC[t]/1000, t=1:T}+pTempDevPenalty*sum{vTotalTempDev[t],t=1:T})\n",
    "@setObjective(m, Min, TotalCost)"
   ]
  },
  {
   "cell_type": "code",
   "execution_count": 112,
   "metadata": {
    "collapsed": false
   },
   "outputs": [
    {
     "name": "stdout",
     "output_type": "stream",
     "text": [
      "Optimize a model with 216 rows, 288 columns and 558 nonzeros\r\n",
      "Coefficient statistics:\r\n",
      "  Matrix range    [2e-01, 2e+03]\r\n",
      "  Objective range [3e-05, 1e+01]\r\n",
      "  Bounds range    [0e+00, 0e+00]\r\n",
      "  RHS range       [4e-01, 2e+01]\r\n",
      "Iteration    Objective       Primal Inf.    Dual Inf.      Time\r\n",
      "       0      handle free variables                          0s\r\n",
      "\r\n",
      "Solved in 144 iterations and 0.00 seconds\r\n",
      "Unbounded model\r\n"
     ]
    },
    {
     "name": "stderr",
     "output_type": "stream",
     "text": [
      "WARNING: Not solved to optimality, status: Unbounded\n"
     ]
    },
    {
     "name": "stdout",
     "output_type": "stream",
     "text": [
      "Objective value: NaN\n"
     ]
    }
   ],
   "source": [
    "status = solve(m)\n",
    "status\n",
    "println(\"Objective value: \", getObjectiveValue(m))"
   ]
  },
  {
   "cell_type": "code",
   "execution_count": null,
   "metadata": {
    "collapsed": true
   },
   "outputs": [],
   "source": [
    "@addConstraint(m,vTempInt[t]== pCf[1]*vTempInt[t-1]+pCf[2]*vTempInt[t-2]                         #past zonal temps\n",
    "        +pCf[3]*pTx[t]+pCf[4]*pTx[t-1]+pCf[5]*pTx[t-2]                      #current and past ambient temps\n",
    "        +pCf[6]*pQrad[t]+pCf[7]*pQrad[t-1]+pCf[8]*pQrad[t-2]                #current and past Q radiative\n",
    "        +pCf[9]*(pQconv[t]-vQhvac[t])+pCf[10]*(pQconv[t-1]-vQhvac[t-1])+pCf[11]*(pQconv[t-2]-vQhvac[t-2])           #current and past Q convective\n",
    "        +pCf[12]*pQwind[t]+pCf[13]*pQwind[t-1]+pCf[14]*pQwind[t-2]          #current and past Q window solar\n",
    "        +pCf[15]*pQsurf[t]+pCf[16]*pQsurf[t-1]+pCf[17]*pQsurf[t-2]          #current and past Q surface solar\n",
    "        +pCf[18]*pTground[t]+pCf[19]*pTground[t-1]+pCf[20]*pTground[t-2]) #current and past ground temp\n",
    "    "
   ]
  }
 ],
 "metadata": {
  "kernelspec": {
   "display_name": "Julia 0.3.11",
   "language": "julia",
   "name": "julia-0.3"
  },
  "language_info": {
   "file_extension": ".jl",
   "mimetype": "application/julia",
   "name": "julia",
   "version": "0.3.11"
  }
 },
 "nbformat": 4,
 "nbformat_minor": 0
}
