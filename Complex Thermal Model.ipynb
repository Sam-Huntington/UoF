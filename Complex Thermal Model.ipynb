{
 "cells": [
  {
   "cell_type": "code",
   "execution_count": 2,
   "metadata": {
    "collapsed": false
   },
   "outputs": [
    {
     "name": "stderr",
     "output_type": "stream",
     "text": [
      "Warning: New definition \n",
      "    .+(AbstractArray{S<:Union(GenericNormExpr{2,Float64,Variable},GenericAffExpr{CoefType,VarType},GenericNorm{P,Float64,Variable},GenericQuadExpr{Float64,Variable},AbstractJuMPScalar),N},AbstractArray{T<:Number,N}) at C:\\Users\\huntington\\.julia\\v0.3\\JuMP\\src\\operators.jl:565\n",
      "is ambiguous with: \n",
      "    .+(Union(PooledDataArray{T,R<:Integer,N},DataArray{T,N}),AbstractArray{T,N}...) at C:\\Users\\huntington\\.julia\\v0.3\\DataArrays\\src\\broadcast.jl:284.\n",
      "To fix, define \n",
      "    .+(Union(DataArray{S<:Union(GenericNormExpr{2,Float64,Variable},GenericAffExpr{CoefType,VarType},GenericNorm{P,Float64,Variable},GenericQuadExpr{Float64,Variable},AbstractJuMPScalar),N},PooledDataArray{S<:Union(GenericNormExpr{2,Float64,Variable},GenericAffExpr{CoefType,VarType},GenericNorm{P,Float64,Variable},GenericQuadExpr{Float64,Variable},AbstractJuMPScalar),R<:Integer,N}),AbstractArray{T<:Number,N})\n",
      "before the new definition.\n",
      "Warning: New definition \n",
      "    .+(AbstractArray{S<:Union(GenericNormExpr{2,Float64,Variable},GenericAffExpr{CoefType,VarType},GenericNorm{P,Float64,Variable},GenericQuadExpr{Float64,Variable},AbstractJuMPScalar),N},AbstractArray{T<:Number,N}) at C:\\Users\\huntington\\.julia\\v0.3\\JuMP\\src\\operators.jl:565\n",
      "is ambiguous with: \n",
      "    .+(AbstractArray{T,N},Union(PooledDataArray{T,R<:Integer,N},DataArray{T,N}),AbstractArray{T,N}...) at C:\\Users\\huntington\\.julia\\v0.3\\DataArrays\\src\\broadcast.jl:284.\n",
      "To fix, define \n",
      "    .+(AbstractArray{S<:Union(GenericNormExpr{2,Float64,Variable},GenericAffExpr{CoefType,VarType},GenericNorm{P,Float64,Variable},GenericQuadExpr{Float64,Variable},AbstractJuMPScalar),N},Union(PooledDataArray{T<:Number,R<:Integer,N},DataArray{T<:Number,N}))\n",
      "before the new definition.\n",
      "Warning: New definition \n",
      "    .+(AbstractArray{S<:Union(GenericNormExpr{2,Float64,Variable},GenericAffExpr{CoefType,VarType},GenericNorm{P,Float64,Variable},GenericQuadExpr{Float64,Variable},AbstractJuMPScalar),N},AbstractArray{T<:Union(GenericNormExpr{2,Float64,Variable},GenericAffExpr{CoefType,VarType},GenericNorm{P,Float64,Variable},GenericQuadExpr{Float64,Variable},AbstractJuMPScalar),N}) at C:\\Users\\huntington\\.julia\\v0.3\\JuMP\\src\\operators.jl:576\n",
      "is ambiguous with: \n",
      "    .+(Union(PooledDataArray{T,R<:Integer,N},DataArray{T,N}),AbstractArray{T,N}...) at C:\\Users\\huntington\\.julia\\v0.3\\DataArrays\\src\\broadcast.jl:284.\n",
      "To fix, define \n",
      "    .+(Union(DataArray{S<:Union(GenericNormExpr{2,Float64,Variable},GenericAffExpr{CoefType,VarType},GenericNorm{P,Float64,Variable},GenericQuadExpr{Float64,Variable},AbstractJuMPScalar),N},PooledDataArray{S<:Union(GenericNormExpr{2,Float64,Variable},GenericAffExpr{CoefType,VarType},GenericNorm{P,Float64,Variable},GenericQuadExpr{Float64,Variable},AbstractJuMPScalar),R<:Integer,N}),AbstractArray{T<:Union(GenericNormExpr{2,Float64,Variable},GenericAffExpr{CoefType,VarType},GenericNorm{P,Float64,Variable},GenericQuadExpr{Float64,Variable},AbstractJuMPScalar),N})\n",
      "before the new definition.\n",
      "Warning: New definition \n",
      "    .+(AbstractArray{S<:Union(GenericNormExpr{2,Float64,Variable},GenericAffExpr{CoefType,VarType},GenericNorm{P,Float64,Variable},GenericQuadExpr{Float64,Variable},AbstractJuMPScalar),N},AbstractArray{T<:Union(GenericNormExpr{2,Float64,Variable},GenericAffExpr{CoefType,VarType},GenericNorm{P,Float64,Variable},GenericQuadExpr{Float64,Variable},AbstractJuMPScalar),N}) at C:\\Users\\huntington\\.julia\\v0.3\\JuMP\\src\\operators.jl:576\n",
      "is ambiguous with: \n",
      "    .+(AbstractArray{T,N},Union(PooledDataArray{T,R<:Integer,N},DataArray{T,N}),AbstractArray{T,N}...) at C:\\Users\\huntington\\.julia\\v0.3\\DataArrays\\src\\broadcast.jl:284.\n",
      "To fix, define \n",
      "    .+(AbstractArray{S<:Union(GenericNormExpr{2,Float64,Variable},GenericAffExpr{CoefType,VarType},GenericNorm{P,Float64,Variable},GenericQuadExpr{Float64,Variable},AbstractJuMPScalar),N},Union(PooledDataArray{T<:Union(GenericNormExpr{2,Float64,Variable},GenericAffExpr{CoefType,VarType},GenericNorm{P,Float64,Variable},GenericQuadExpr{Float64,Variable},AbstractJuMPScalar),R<:Integer,N},DataArray{T<:Union(GenericNormExpr{2,Float64,Variable},GenericAffExpr{CoefType,VarType},GenericNorm{P,Float64,Variable},GenericQuadExpr{Float64,Variable},AbstractJuMPScalar),N}))\n",
      "before the new definition.\n",
      "Warning: New definition \n",
      "    .+(AbstractArray{S<:Number,N},AbstractArray{T<:Union(GenericNormExpr{2,Float64,Variable},GenericAffExpr{CoefType,VarType},GenericNorm{P,Float64,Variable},GenericQuadExpr{Float64,Variable},AbstractJuMPScalar),N}) at C:\\Users\\huntington\\.julia\\v0.3\\JuMP\\src\\operators.jl:584\n",
      "is ambiguous with: \n",
      "    .+(Union(PooledDataArray{T,R<:Integer,N},DataArray{T,N}),AbstractArray{T,N}...) at C:\\Users\\huntington\\.julia\\v0.3\\DataArrays\\src\\broadcast.jl:284.\n",
      "To fix, define \n",
      "    .+(Union(DataArray{S<:Number,N},PooledDataArray{S<:Number,R<:Integer,N}),AbstractArray{T<:Union(GenericNormExpr{2,Float64,Variable},GenericAffExpr{CoefType,VarType},GenericNorm{P,Float64,Variable},GenericQuadExpr{Float64,Variable},AbstractJuMPScalar),N})\n",
      "before the new definition.\n",
      "Warning: New definition \n",
      "    .+(AbstractArray{S<:Number,N},AbstractArray{T<:Union(GenericNormExpr{2,Float64,Variable},GenericAffExpr{CoefType,VarType},GenericNorm{P,Float64,Variable},GenericQuadExpr{Float64,Variable},AbstractJuMPScalar),N}) at C:\\Users\\huntington\\.julia\\v0.3\\JuMP\\src\\operators.jl:584\n",
      "is ambiguous with: \n",
      "    .+(AbstractArray{T,N},Union(PooledDataArray{T,R<:Integer,N},DataArray{T,N}),AbstractArray{T,N}...) at C:\\Users\\huntington\\.julia\\v0.3\\DataArrays\\src\\broadcast.jl:284.\n",
      "To fix, define \n",
      "    .+(AbstractArray{S<:Number,N},Union(PooledDataArray{T<:Union(GenericNormExpr{2,Float64,Variable},GenericAffExpr{CoefType,VarType},GenericNorm{P,Float64,Variable},GenericQuadExpr{Float64,Variable},AbstractJuMPScalar),R<:Integer,N},DataArray{T<:Union(GenericNormExpr{2,Float64,Variable},GenericAffExpr{CoefType,VarType},GenericNorm{P,Float64,Variable},GenericQuadExpr{Float64,Variable},AbstractJuMPScalar),N}))\n",
      "before the new definition.\n",
      "Warning: New definition \n",
      "    .-(AbstractArray{S<:Union(GenericNormExpr{2,Float64,Variable},GenericAffExpr{CoefType,VarType},GenericNorm{P,Float64,Variable},GenericQuadExpr{Float64,Variable},AbstractJuMPScalar),N},AbstractArray{T<:Number,N}) at C:\\Users\\huntington\\.julia\\v0.3\\JuMP\\src\\operators.jl:565\n",
      "is ambiguous with: \n",
      "    .-(Union(PooledDataArray{T,R<:Integer,N},DataArray{T,N}),AbstractArray{T,N}) at C:\\Users\\huntington\\.julia\\v0.3\\DataArrays\\src\\broadcast.jl:271.\n",
      "To fix, define \n",
      "    .-(Union(DataArray{S<:Union(GenericNormExpr{2,Float64,Variable},GenericAffExpr{CoefType,VarType},GenericNorm{P,Float64,Variable},GenericQuadExpr{Float64,Variable},AbstractJuMPScalar),N},PooledDataArray{S<:Union(GenericNormExpr{2,Float64,Variable},GenericAffExpr{CoefType,VarType},GenericNorm{P,Float64,Variable},GenericQuadExpr{Float64,Variable},AbstractJuMPScalar),R<:Integer,N}),AbstractArray{T<:Number,N})\n",
      "before the new definition.\n",
      "Warning: New definition \n",
      "    .-(AbstractArray{S<:Union(GenericNormExpr{2,Float64,Variable},GenericAffExpr{CoefType,VarType},GenericNorm{P,Float64,Variable},GenericQuadExpr{Float64,Variable},AbstractJuMPScalar),N},AbstractArray{T<:Number,N}) at C:\\Users\\huntington\\.julia\\v0.3\\JuMP\\src\\operators.jl:565\n",
      "is ambiguous with: \n",
      "    .-(AbstractArray{T,N},Union(PooledDataArray{T,R<:Integer,N},DataArray{T,N})) at C:\\Users\\huntington\\.julia\\v0.3\\DataArrays\\src\\broadcast.jl:272.\n",
      "To fix, define \n",
      "    .-(AbstractArray{S<:Union(GenericNormExpr{2,Float64,Variable},GenericAffExpr{CoefType,VarType},GenericNorm{P,Float64,Variable},GenericQuadExpr{Float64,Variable},AbstractJuMPScalar),N},Union(PooledDataArray{T<:Number,R<:Integer,N},DataArray{T<:Number,N}))\n",
      "before the new definition.\n",
      "Warning: New definition \n",
      "    .-(AbstractArray{S<:Union(GenericNormExpr{2,Float64,Variable},GenericAffExpr{CoefType,VarType},GenericNorm{P,Float64,Variable},GenericQuadExpr{Float64,Variable},AbstractJuMPScalar),N},AbstractArray{T<:Union(GenericNormExpr{2,Float64,Variable},GenericAffExpr{CoefType,VarType},GenericNorm{P,Float64,Variable},GenericQuadExpr{Float64,Variable},AbstractJuMPScalar),N}) at C:\\Users\\huntington\\.julia\\v0.3\\JuMP\\src\\operators.jl:576\n",
      "is ambiguous with: \n",
      "    .-(Union(PooledDataArray{T,R<:Integer,N},DataArray{T,N}),AbstractArray{T,N}) at C:\\Users\\huntington\\.julia\\v0.3\\DataArrays\\src\\broadcast.jl:271.\n",
      "To fix, define \n",
      "    .-(Union(DataArray{S<:Union(GenericNormExpr{2,Float64,Variable},GenericAffExpr{CoefType,VarType},GenericNorm{P,Float64,Variable},GenericQuadExpr{Float64,Variable},AbstractJuMPScalar),N},PooledDataArray{S<:Union(GenericNormExpr{2,Float64,Variable},GenericAffExpr{CoefType,VarType},GenericNorm{P,Float64,Variable},GenericQuadExpr{Float64,Variable},AbstractJuMPScalar),R<:Integer,N}),AbstractArray{T<:Union(GenericNormExpr{2,Float64,Variable},GenericAffExpr{CoefType,VarType},GenericNorm{P,Float64,Variable},GenericQuadExpr{Float64,Variable},AbstractJuMPScalar),N})\n",
      "before the new definition.\n",
      "Warning: New definition \n",
      "    .-(AbstractArray{S<:Union(GenericNormExpr{2,Float64,Variable},GenericAffExpr{CoefType,VarType},GenericNorm{P,Float64,Variable},GenericQuadExpr{Float64,Variable},AbstractJuMPScalar),N},AbstractArray{T<:Union(GenericNormExpr{2,Float64,Variable},GenericAffExpr{CoefType,VarType},GenericNorm{P,Float64,Variable},GenericQuadExpr{Float64,Variable},AbstractJuMPScalar),N}) at C:\\Users\\huntington\\.julia\\v0.3\\JuMP\\src\\operators.jl:576\n",
      "is ambiguous with: \n",
      "    .-(AbstractArray{T,N},Union(PooledDataArray{T,R<:Integer,N},DataArray{T,N})) at C:\\Users\\huntington\\.julia\\v0.3\\DataArrays\\src\\broadcast.jl:272.\n",
      "To fix, define \n",
      "    .-(AbstractArray{S<:Union(GenericNormExpr{2,Float64,Variable},GenericAffExpr{CoefType,VarType},GenericNorm{P,Float64,Variable},GenericQuadExpr{Float64,Variable},AbstractJuMPScalar),N},Union(PooledDataArray{T<:Union(GenericNormExpr{2,Float64,Variable},GenericAffExpr{CoefType,VarType},GenericNorm{P,Float64,Variable},GenericQuadExpr{Float64,Variable},AbstractJuMPScalar),R<:Integer,N},DataArray{T<:Union(GenericNormExpr{2,Float64,Variable},GenericAffExpr{CoefType,VarType},GenericNorm{P,Float64,Variable},GenericQuadExpr{Float64,Variable},AbstractJuMPScalar),N}))\n",
      "before the new definition.\n",
      "Warning: New definition \n",
      "    .-(AbstractArray{S<:Number,N},AbstractArray{T<:Union(GenericNormExpr{2,Float64,Variable},GenericAffExpr{CoefType,VarType},GenericNorm{P,Float64,Variable},GenericQuadExpr{Float64,Variable},AbstractJuMPScalar),N}) at C:\\Users\\huntington\\.julia\\v0.3\\JuMP\\src\\operators.jl:584\n",
      "is ambiguous with: \n",
      "    .-(Union(PooledDataArray{T,R<:Integer,N},DataArray{T,N}),AbstractArray{T,N}) at C:\\Users\\huntington\\.julia\\v0.3\\DataArrays\\src\\broadcast.jl:271.\n",
      "To fix, define \n",
      "    .-(Union(DataArray{S<:Number,N},PooledDataArray{S<:Number,R<:Integer,N}),AbstractArray{T<:Union(GenericNormExpr{2,Float64,Variable},GenericAffExpr{CoefType,VarType},GenericNorm{P,Float64,Variable},GenericQuadExpr{Float64,Variable},AbstractJuMPScalar),N})\n",
      "before the new definition.\n",
      "Warning: New definition \n",
      "    .-(AbstractArray{S<:Number,N},AbstractArray{T<:Union(GenericNormExpr{2,Float64,Variable},GenericAffExpr{CoefType,VarType},GenericNorm{P,Float64,Variable},GenericQuadExpr{Float64,Variable},AbstractJuMPScalar),N}) at C:\\Users\\huntington\\.julia\\v0.3\\JuMP\\src\\operators.jl:584\n",
      "is ambiguous with: \n",
      "    .-(AbstractArray{T,N},Union(PooledDataArray{T,R<:Integer,N},DataArray{T,N})) at C:\\Users\\huntington\\.julia\\v0.3\\DataArrays\\src\\broadcast.jl:272.\n",
      "To fix, define \n",
      "    .-(AbstractArray{S<:Number,N},Union(PooledDataArray{T<:Union(GenericNormExpr{2,Float64,Variable},GenericAffExpr{CoefType,VarType},GenericNorm{P,Float64,Variable},GenericQuadExpr{Float64,Variable},AbstractJuMPScalar),R<:Integer,N},DataArray{T<:Union(GenericNormExpr{2,Float64,Variable},GenericAffExpr{CoefType,VarType},GenericNorm{P,Float64,Variable},GenericQuadExpr{Float64,Variable},AbstractJuMPScalar),N}))\n",
      "before the new definition.\n",
      "Warning: New definition \n",
      "    .*(AbstractArray{S<:Union(GenericNormExpr{2,Float64,Variable},GenericAffExpr{CoefType,VarType},GenericNorm{P,Float64,Variable},GenericQuadExpr{Float64,Variable},AbstractJuMPScalar),N},AbstractArray{T<:Number,N}) at C:\\Users\\huntington\\.julia\\v0.3\\JuMP\\src\\operators.jl:565\n",
      "is ambiguous with: \n",
      "    .*(Union(PooledDataArray{T,R<:Integer,N},DataArray{T,N}),AbstractArray{T,N}...) at C:\\Users\\huntington\\.julia\\v0.3\\DataArrays\\src\\broadcast.jl:282.\n",
      "To fix, define \n",
      "    .*(Union(DataArray{S<:Union(GenericNormExpr{2,Float64,Variable},GenericAffExpr{CoefType,VarType},GenericNorm{P,Float64,Variable},GenericQuadExpr{Float64,Variable},AbstractJuMPScalar),N},PooledDataArray{S<:Union(GenericNormExpr{2,Float64,Variable},GenericAffExpr{CoefType,VarType},GenericNorm{P,Float64,Variable},GenericQuadExpr{Float64,Variable},AbstractJuMPScalar),R<:Integer,N}),AbstractArray{T<:Number,N})\n",
      "before the new definition.\n",
      "Warning: New definition \n",
      "    .*(AbstractArray{S<:Union(GenericNormExpr{2,Float64,Variable},GenericAffExpr{CoefType,VarType},GenericNorm{P,Float64,Variable},GenericQuadExpr{Float64,Variable},AbstractJuMPScalar),N},AbstractArray{T<:Number,N}) at C:\\Users\\huntington\\.julia\\v0.3\\JuMP\\src\\operators.jl:565\n",
      "is ambiguous with: \n",
      "    .*(AbstractArray{T,N},Union(PooledDataArray{T,R<:Integer,N},DataArray{T,N}),AbstractArray{T,N}...) at C:\\Users\\huntington\\.julia\\v0.3\\DataArrays\\src\\broadcast.jl:282.\n",
      "To fix, define \n",
      "    .*(AbstractArray{S<:Union(GenericNormExpr{2,Float64,Variable},GenericAffExpr{CoefType,VarType},GenericNorm{P,Float64,Variable},GenericQuadExpr{Float64,Variable},AbstractJuMPScalar),N},Union(PooledDataArray{T<:Number,R<:Integer,N},DataArray{T<:Number,N}))\n",
      "before the new definition.\n",
      "Warning: New definition \n",
      "    .*(AbstractArray{S<:Union(GenericNormExpr{2,Float64,Variable},GenericAffExpr{CoefType,VarType},GenericNorm{P,Float64,Variable},GenericQuadExpr{Float64,Variable},AbstractJuMPScalar),N},AbstractArray{T<:Union(GenericNormExpr{2,Float64,Variable},GenericAffExpr{CoefType,VarType},GenericNorm{P,Float64,Variable},GenericQuadExpr{Float64,Variable},AbstractJuMPScalar),N}) at C:\\Users\\huntington\\.julia\\v0.3\\JuMP\\src\\operators.jl:576\n",
      "is ambiguous with: \n",
      "    .*(Union(PooledDataArray{T,R<:Integer,N},DataArray{T,N}),AbstractArray{T,N}...) at C:\\Users\\huntington\\.julia\\v0.3\\DataArrays\\src\\broadcast.jl:282.\n",
      "To fix, define \n",
      "    .*(Union(DataArray{S<:Union(GenericNormExpr{2,Float64,Variable},GenericAffExpr{CoefType,VarType},GenericNorm{P,Float64,Variable},GenericQuadExpr{Float64,Variable},AbstractJuMPScalar),N},PooledDataArray{S<:Union(GenericNormExpr{2,Float64,Variable},GenericAffExpr{CoefType,VarType},GenericNorm{P,Float64,Variable},GenericQuadExpr{Float64,Variable},AbstractJuMPScalar),R<:Integer,N}),AbstractArray{T<:Union(GenericNormExpr{2,Float64,Variable},GenericAffExpr{CoefType,VarType},GenericNorm{P,Float64,Variable},GenericQuadExpr{Float64,Variable},AbstractJuMPScalar),N})\n",
      "before the new definition.\n",
      "Warning: New definition \n",
      "    .*(AbstractArray{S<:Union(GenericNormExpr{2,Float64,Variable},GenericAffExpr{CoefType,VarType},GenericNorm{P,Float64,Variable},GenericQuadExpr{Float64,Variable},AbstractJuMPScalar),N},AbstractArray{T<:Union(GenericNormExpr{2,Float64,Variable},GenericAffExpr{CoefType,VarType},GenericNorm{P,Float64,Variable},GenericQuadExpr{Float64,Variable},AbstractJuMPScalar),N}) at C:\\Users\\huntington\\.julia\\v0.3\\JuMP\\src\\operators.jl:576\n",
      "is ambiguous with: \n",
      "    .*(AbstractArray{T,N},Union(PooledDataArray{T,R<:Integer,N},DataArray{T,N}),AbstractArray{T,N}...) at C:\\Users\\huntington\\.julia\\v0.3\\DataArrays\\src\\broadcast.jl:282.\n",
      "To fix, define \n",
      "    .*(AbstractArray{S<:Union(GenericNormExpr{2,Float64,Variable},GenericAffExpr{CoefType,VarType},GenericNorm{P,Float64,Variable},GenericQuadExpr{Float64,Variable},AbstractJuMPScalar),N},Union(PooledDataArray{T<:Union(GenericNormExpr{2,Float64,Variable},GenericAffExpr{CoefType,VarType},GenericNorm{P,Float64,Variable},GenericQuadExpr{Float64,Variable},AbstractJuMPScalar),R<:Integer,N},DataArray{T<:Union(GenericNormExpr{2,Float64,Variable},GenericAffExpr{CoefType,VarType},GenericNorm{P,Float64,Variable},GenericQuadExpr{Float64,Variable},AbstractJuMPScalar),N}))\n",
      "before the new definition.\n",
      "Warning: New definition \n",
      "    .*(AbstractArray{S<:Number,N},AbstractArray{T<:Union(GenericNormExpr{2,Float64,Variable},GenericAffExpr{CoefType,VarType},GenericNorm{P,Float64,Variable},GenericQuadExpr{Float64,Variable},AbstractJuMPScalar),N}) at C:\\Users\\huntington\\.julia\\v0.3\\JuMP\\src\\operators.jl:584\n",
      "is ambiguous with: \n",
      "    .*(Union(PooledDataArray{T,R<:Integer,N},DataArray{T,N}),AbstractArray{T,N}...) at C:\\Users\\huntington\\.julia\\v0.3\\DataArrays\\src\\broadcast.jl:282.\n",
      "To fix, define \n",
      "    .*(Union(DataArray{S<:Number,N},PooledDataArray{S<:Number,R<:Integer,N}),AbstractArray{T<:Union(GenericNormExpr{2,Float64,Variable},GenericAffExpr{CoefType,VarType},GenericNorm{P,Float64,Variable},GenericQuadExpr{Float64,Variable},AbstractJuMPScalar),N})\n",
      "before the new definition.\n",
      "Warning: New definition \n",
      "    .*(AbstractArray{S<:Number,N},AbstractArray{T<:Union(GenericNormExpr{2,Float64,Variable},GenericAffExpr{CoefType,VarType},GenericNorm{P,Float64,Variable},GenericQuadExpr{Float64,Variable},AbstractJuMPScalar),N}) at C:\\Users\\huntington\\.julia\\v0.3\\JuMP\\src\\operators.jl:584\n",
      "is ambiguous with: \n",
      "    .*(AbstractArray{T,N},Union(PooledDataArray{T,R<:Integer,N},DataArray{T,N}),AbstractArray{T,N}...) at C:\\Users\\huntington\\.julia\\v0.3\\DataArrays\\src\\broadcast.jl:282.\n",
      "To fix, define \n",
      "    .*(AbstractArray{S<:Number,N},Union(PooledDataArray{T<:Union(GenericNormExpr{2,Float64,Variable},GenericAffExpr{CoefType,VarType},GenericNorm{P,Float64,Variable},GenericQuadExpr{Float64,Variable},AbstractJuMPScalar),R<:Integer,N},DataArray{T<:Union(GenericNormExpr{2,Float64,Variable},GenericAffExpr{CoefType,VarType},GenericNorm{P,Float64,Variable},GenericQuadExpr{Float64,Variable},AbstractJuMPScalar),N}))\n",
      "before the new definition.\n",
      "Warning: New definition \n",
      "    ./(AbstractArray{S<:Union(GenericNormExpr{2,Float64,Variable},GenericAffExpr{CoefType,VarType},GenericNorm{P,Float64,Variable},GenericQuadExpr{Float64,Variable},AbstractJuMPScalar),N},AbstractArray{T<:Number,N}) at C:\\Users\\huntington\\.julia\\v0.3\\JuMP\\src\\operators.jl:565\n",
      "is ambiguous with: \n",
      "    ./(Union(PooledDataArray{T,R<:Integer,N},DataArray{T,N}),AbstractArray{T,N}) at C:\\Users\\huntington\\.julia\\v0.3\\DataArrays\\src\\broadcast.jl:271.\n",
      "To fix, define \n",
      "    ./(Union(DataArray{S<:Union(GenericNormExpr{2,Float64,Variable},GenericAffExpr{CoefType,VarType},GenericNorm{P,Float64,Variable},GenericQuadExpr{Float64,Variable},AbstractJuMPScalar),N},PooledDataArray{S<:Union(GenericNormExpr{2,Float64,Variable},GenericAffExpr{CoefType,VarType},GenericNorm{P,Float64,Variable},GenericQuadExpr{Float64,Variable},AbstractJuMPScalar),R<:Integer,N}),AbstractArray{T<:Number,N})\n",
      "before the new definition.\n",
      "Warning: New definition \n",
      "    ./(AbstractArray{S<:Union(GenericNormExpr{2,Float64,Variable},GenericAffExpr{CoefType,VarType},GenericNorm{P,Float64,Variable},GenericQuadExpr{Float64,Variable},AbstractJuMPScalar),N},AbstractArray{T<:Number,N}) at C:\\Users\\huntington\\.julia\\v0.3\\JuMP\\src\\operators.jl:565\n",
      "is ambiguous with: \n",
      "    ./(AbstractArray{T,N},Union(PooledDataArray{T,R<:Integer,N},DataArray{T,N})) at C:\\Users\\huntington\\.julia\\v0.3\\DataArrays\\src\\broadcast.jl:272.\n",
      "To fix, define \n",
      "    ./(AbstractArray{S<:Union(GenericNormExpr{2,Float64,Variable},GenericAffExpr{CoefType,VarType},GenericNorm{P,Float64,Variable},GenericQuadExpr{Float64,Variable},AbstractJuMPScalar),N},Union(PooledDataArray{T<:Number,R<:Integer,N},DataArray{T<:Number,N}))\n",
      "before the new definition.\n"
     ]
    }
   ],
   "source": [
    "using DataFrames\n",
    "using JuMP, Gurobi\n",
    "using Gadfly"
   ]
  },
  {
   "cell_type": "code",
   "execution_count": 44,
   "metadata": {
    "collapsed": false
   },
   "outputs": [
    {
     "data": {
      "text/plain": [
       "6"
      ]
     },
     "execution_count": 44,
     "metadata": {},
     "output_type": "execute_result"
    }
   ],
   "source": [
    "m = Model(solver=GurobiSolver())\n",
    "\n",
    "\n",
    "iGenLoad = readtable(\"BatteryModel_GenLoad.csv\",header=true)\n",
    "iPrices = readtable(\"BatteryModel_Prices.csv\",header=true)\n",
    "#iParameters = readtable(\"BatteryModel_Parameters.csv\",header=true)\n",
    "#iScheduledLoadsData = readtable(\"SchedulableLoads_Parameters.csv\", header=true) \n",
    "iThermalParameters = readtable(\"ComplexThermal_Coeff.csv\", header=true) \n",
    "iThermalFactors = readtable(\"ComplexThermal_Factors.csv\", header=true) \n",
    "\n",
    "T = length(iPrices[:Hour]) \n",
    "pHours = iPrices[:Hour][1:T]\n",
    "\n",
    "pBuyEnergy = iPrices[:pBuy_Energy][1:T]\n",
    "pSellEnergy = iPrices[:pSell_Energy][1:T]\n",
    "pNonControllableLoad = iGenLoad[:pNonControllableLoad][1:T]\n",
    "\n",
    "pCf = iThermalParameters[:value]\n",
    "pTz = iThermalFactors[:Tz][1:T]\n",
    "pTx = iThermalFactors[:Tx][1:T]\n",
    "pQrad = iThermalFactors[:Qrad][1:T]\n",
    "pQconv = iThermalFactors[:Qconv][1:T]\n",
    "pQwind = iThermalFactors[:Qwindow_solar][1:T]\n",
    "pQsurf = iThermalFactors[:Qsurface_solar][1:T]\n",
    "pTground = iThermalFactors[:Tground][1:T]\n",
    "pCOP = 3\n",
    "\n",
    "n=2 #thermal model order\n",
    "k=6 #number of exogenous variables"
   ]
  },
  {
   "cell_type": "code",
   "execution_count": 61,
   "metadata": {
    "collapsed": false
   },
   "outputs": [],
   "source": [
    "pBuyEnergy;"
   ]
  },
  {
   "cell_type": "code",
   "execution_count": 51,
   "metadata": {
    "collapsed": false
   },
   "outputs": [],
   "source": [
    "##Noras Thermal Model:\n",
    "#cCV= [((n+1)*k)+n] #constant coefficients - load from first tab in nora's spreadsheet\n",
    "#cBTM = [T+n, k+1] #weather and build input data\n",
    "\n",
    "@defVar(m, vTempInt[t=1:T])\n",
    "@defVar(m, vPowerHVAC[t=1:T])\n",
    "@defExpr(vQhvac[t=1:T], pCOP*vPowerHVAC[t])\n",
    "\n",
    "# determine temp for t = 1 to n, from lag variables\n",
    "for t=1:n \n",
    "    @addConstraint(m, pCf[1]*pTz[t+1]+pCf[2]*pTz[t]                                       #past zonal temps\n",
    "        +pCf[3]*pTx[t+2]+pCf[4]*pTx[t+1]+pCf[5]*pTx[t]                      #current and past ambient temps\n",
    "        +pCf[6]*pQrad[t+2]+pCf[7]*pQrad[t+1]+pCf[8]*pQrad[t]                #current and past Q radiative\n",
    "        +pCf[9]*pQconv[t+2]+pCf[10]*pQconv[t+1]+pCf[11]*pQconv[t]           #current and past Q convective\n",
    "        +pCf[12]*pQwind[t+2]+pCf[13]*pQwind[t+1]+pCf[14]*pQwind[t]          #current and past Q window solar\n",
    "        +pCf[15]*pQsurf[t+2]+pCf[16]*pQsurf[t+1]+pCf[17]*pQsurf[t]          #current and past Q surface solar\n",
    "        +pCf[18]*pTground[t+2]+pCf[19]*pTground[t+1]+pCf[20]*pTground[t] == vTempInt[t])   #current and past ground temp\n",
    "end\n",
    "\n",
    "# determine temp for t > 1 from existing temp, hvac, and lag variables\n",
    "for t=(n+1):T\n",
    "    @addConstraint(m, pCf[1]*vTempInt[t-1]+pCf[2]*vTempInt[t-2]                         #past zonal temps\n",
    "        +pCf[3]*pTx[t]+pCf[4]*pTx[t-1]+pCf[5]*pTx[t-2]                      #current and past ambient temps\n",
    "        +pCf[6]*pQrad[t]+pCf[7]*pQrad[t-1]+pCf[8]*pQrad[t-2]                #current and past Q radiative\n",
    "        +pCf[9]*(pQconv[t]-vQhvac[t])+pCf[10]*(pQconv[t-1]-vQhvac[t-1])+pCf[11]*(pQconv[t-2]-vQhvac[t-2])           #current and past Q convective\n",
    "        +pCf[12]*pQwind[t]+pCf[13]*pQwind[t-1]+pCf[14]*pQwind[t-2]          #current and past Q window solar\n",
    "        +pCf[15]*pQsurf[t]+pCf[16]*pQsurf[t-1]+pCf[17]*pQsurf[t-2]          #current and past Q surface solar\n",
    "        +pCf[18]*pTground[t]+pCf[19]*pTground[t-1]+pCf[20]*pTground[t-2] ==vTempInt[t])   #current and past ground temp\n",
    "end\n",
    "\n"
   ]
  },
  {
   "cell_type": "code",
   "execution_count": 56,
   "metadata": {
    "collapsed": false
   },
   "outputs": [
    {
     "data": {
      "text/latex": [
       "$$ 0.0003 vPowerHVAC_{1} + 0.0003 vPowerHVAC_{2} + 0.0003 vPowerHVAC_{3} + 0.0003 vPowerHVAC_{4} + 0.0003 vPowerHVAC_{5} + 0.0003 vPowerHVAC_{6} + 0.0003 vPowerHVAC_{7} + 0.0003 vPowerHVAC_{8} + 0.0003 vPowerHVAC_{9} + 0.0003 vPowerHVAC_{10} + 0.0003 vPowerHVAC_{11} + 0.0003 vPowerHVAC_{12} + 0.0003 vPowerHVAC_{13} + 0.0003 vPowerHVAC_{14} + 0.0003 vPowerHVAC_{15} + 0.0003 vPowerHVAC_{16} + 0.0003 vPowerHVAC_{17} + 0.0003 vPowerHVAC_{18} + 0.0003 vPowerHVAC_{19} + 0.0003 vPowerHVAC_{20} + 0.0003 vPowerHVAC_{21} + 0.0003 vPowerHVAC_{22} + 0.0003 vPowerHVAC_{23} + 0.0003 vPowerHVAC_{24} $$"
      ],
      "text/plain": [
       "0.0003 vPowerHVAC[1] + 0.0003 vPowerHVAC[2] + 0.0003 vPowerHVAC[3] + 0.0003 vPowerHVAC[4] + 0.0003 vPowerHVAC[5] + 0.0003 vPowerHVAC[6] + 0.0003 vPowerHVAC[7] + 0.0003 vPowerHVAC[8] + 0.0003 vPowerHVAC[9] + 0.0003 vPowerHVAC[10] + 0.0003 vPowerHVAC[11] + 0.0003 vPowerHVAC[12] + 0.0003 vPowerHVAC[13] + 0.0003 vPowerHVAC[14] + 0.0003 vPowerHVAC[15] + 0.0003 vPowerHVAC[16] + 0.0003 vPowerHVAC[17] + 0.0003 vPowerHVAC[18] + 0.0003 vPowerHVAC[19] + 0.0003 vPowerHVAC[20] + 0.0003 vPowerHVAC[21] + 0.0003 vPowerHVAC[22] + 0.0003 vPowerHVAC[23] + 0.0003 vPowerHVAC[24]"
      ]
     },
     "execution_count": 56,
     "metadata": {},
     "output_type": "execute_result"
    }
   ],
   "source": [
    "@defExpr(TotalCost, sum{pBuyEnergy[t]*vPowerHVAC[t]/1000, t=1:T})"
   ]
  },
  {
   "cell_type": "code",
   "execution_count": 57,
   "metadata": {
    "collapsed": false
   },
   "outputs": [
    {
     "data": {
      "text/latex": [
       "$$ 0.0003 vPowerHVAC_{1} + 0.0003 vPowerHVAC_{2} + 0.0003 vPowerHVAC_{3} + 0.0003 vPowerHVAC_{4} + 0.0003 vPowerHVAC_{5} + 0.0003 vPowerHVAC_{6} + 0.0003 vPowerHVAC_{7} + 0.0003 vPowerHVAC_{8} + 0.0003 vPowerHVAC_{9} + 0.0003 vPowerHVAC_{10} + 0.0003 vPowerHVAC_{11} + 0.0003 vPowerHVAC_{12} + 0.0003 vPowerHVAC_{13} + 0.0003 vPowerHVAC_{14} + 0.0003 vPowerHVAC_{15} + 0.0003 vPowerHVAC_{16} + 0.0003 vPowerHVAC_{17} + 0.0003 vPowerHVAC_{18} + 0.0003 vPowerHVAC_{19} + 0.0003 vPowerHVAC_{20} + 0.0003 vPowerHVAC_{21} + 0.0003 vPowerHVAC_{22} + 0.0003 vPowerHVAC_{23} + 0.0003 vPowerHVAC_{24} $$"
      ],
      "text/plain": [
       "0.0003 vPowerHVAC[1] + 0.0003 vPowerHVAC[2] + 0.0003 vPowerHVAC[3] + 0.0003 vPowerHVAC[4] + 0.0003 vPowerHVAC[5] + 0.0003 vPowerHVAC[6] + 0.0003 vPowerHVAC[7] + 0.0003 vPowerHVAC[8] + 0.0003 vPowerHVAC[9] + 0.0003 vPowerHVAC[10] + 0.0003 vPowerHVAC[11] + 0.0003 vPowerHVAC[12] + 0.0003 vPowerHVAC[13] + 0.0003 vPowerHVAC[14] + 0.0003 vPowerHVAC[15] + 0.0003 vPowerHVAC[16] + 0.0003 vPowerHVAC[17] + 0.0003 vPowerHVAC[18] + 0.0003 vPowerHVAC[19] + 0.0003 vPowerHVAC[20] + 0.0003 vPowerHVAC[21] + 0.0003 vPowerHVAC[22] + 0.0003 vPowerHVAC[23] + 0.0003 vPowerHVAC[24]"
      ]
     },
     "execution_count": 57,
     "metadata": {},
     "output_type": "execute_result"
    }
   ],
   "source": [
    "@setObjective(m, Min, TotalCost)"
   ]
  },
  {
   "cell_type": "code",
   "execution_count": 58,
   "metadata": {
    "collapsed": false
   },
   "outputs": [
    {
     "name": "stdout",
     "output_type": "stream",
     "text": [
      "Optimize a model with 48 rows, 96 columns and 268 nonzeros\r\n",
      "Coefficient statistics:\r\n",
      "  Matrix range    [2e-05, 1e+00]\r\n",
      "  Objective range [3e-04, 3e-04]\r\n",
      "  Bounds range    [0e+00, 0e+00]\r\n",
      "  RHS range       [4e-01, 2e+01]\r\n",
      "Iteration    Objective       Primal Inf.    Dual Inf.      Time\r\n",
      "       0      handle free variables                          0s\r\n",
      "\r\n",
      "Solved in 24 iterations and 0.00 seconds\r\n",
      "Unbounded model\r\n"
     ]
    },
    {
     "name": "stderr",
     "output_type": "stream",
     "text": [
      "WARNING: Not solved to optimality, status: Unbounded\n"
     ]
    },
    {
     "name": "stdout",
     "output_type": "stream",
     "text": [
      "Objective value: NaN\n"
     ]
    }
   ],
   "source": [
    "# Print outputs\n",
    "status = solve(m)\n",
    "status\n",
    "println(\"Objective value: \", getObjectiveValue(m))"
   ]
  },
  {
   "cell_type": "code",
   "execution_count": 73,
   "metadata": {
    "collapsed": false
   },
   "outputs": [
    {
     "data": {
      "text/plain": [
       "\";C:Program FilesGit\\\\bin\""
      ]
     },
     "execution_count": 73,
     "metadata": {},
     "output_type": "execute_result"
    }
   ],
   "source": [
    "#import os\n",
    "ENV[\"PATH\"]=\";C:\\Program Files\\Git\\\\bin\"\n"
   ]
  },
  {
   "cell_type": "code",
   "execution_count": 72,
   "metadata": {
    "collapsed": false
   },
   "outputs": [
    {
     "ename": "LoadError",
     "evalue": "bash not defined\nwhile loading In[72], in expression starting on line 1",
     "output_type": "error",
     "traceback": [
      "bash not defined\nwhile loading In[72], in expression starting on line 1",
      ""
     ]
    }
   ],
   "source": [
    "%%bash\n",
    "git status"
   ]
  },
  {
   "cell_type": "code",
   "execution_count": null,
   "metadata": {
    "collapsed": true
   },
   "outputs": [],
   "source": []
  }
 ],
 "metadata": {
  "kernelspec": {
   "display_name": "Julia 0.3.11",
   "language": "julia",
   "name": "julia-0.3"
  },
  "language_info": {
   "file_extension": ".jl",
   "mimetype": "application/julia",
   "name": "julia",
   "version": "0.3.11"
  }
 },
 "nbformat": 4,
 "nbformat_minor": 0
}
