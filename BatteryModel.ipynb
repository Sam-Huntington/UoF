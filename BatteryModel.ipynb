{
 "cells": [
  {
   "cell_type": "markdown",
   "metadata": {},
   "source": [
    "# Battery Model Declaration"
   ]
  },
  {
   "cell_type": "code",
   "execution_count": 1,
   "metadata": {
    "collapsed": true
   },
   "outputs": [],
   "source": [
    "using JuMP\n",
    "using Gurobi\n",
    "using DataFrames\n",
    "using DataArrays"
   ]
  },
  {
   "cell_type": "code",
   "execution_count": 2,
   "metadata": {
    "collapsed": false
   },
   "outputs": [
    {
     "data": {
      "text/latex": [
       "$$ \\begin{alignat*}{1}\\min\\quad & 0\\\\\n",
       "\\text{Subject to} \\quad\\end{alignat*}\n",
       " $$"
      ],
      "text/plain": [
       "Feasibility problem with:\n",
       " * 0 linear constraints\n",
       " * 0 variables\n",
       "Solver set to Gurobi"
      ]
     },
     "execution_count": 2,
     "metadata": {},
     "output_type": "execute_result"
    }
   ],
   "source": [
    "m = Model(solver=GurobiSolver())"
   ]
  },
  {
   "cell_type": "markdown",
   "metadata": {},
   "source": [
    "# Parameter Declarations"
   ]
  },
  {
   "cell_type": "markdown",
   "metadata": {},
   "source": [
    "## General Model Parameter Declarations "
   ]
  },
  {
   "cell_type": "code",
   "execution_count": 3,
   "metadata": {
    "collapsed": false
   },
   "outputs": [
    {
     "data": {
      "text/plain": [
       "0.25"
      ]
     },
     "execution_count": 3,
     "metadata": {},
     "output_type": "execute_result"
    }
   ],
   "source": [
    "iGenLoad = readtable(\"BatteryModel_GenLoad.csv\",header=true)\n",
    "iPrices = readtable(\"BatteryModel_Prices.csv\",header=true)\n",
    "iParameters = readtable(\"BatteryModel_Parameters.csv\",header=true)\n",
    "\n",
    "T = length(iPrices[:Hour]) \n",
    "pHours = iPrices[:Hour][1:T]\n",
    "\n",
    "\n",
    "pBuyEnergy = iPrices[:pBuy_Energy][1:T]\n",
    "pSellEnergy = iPrices[:pSell_Energy][1:T]\n",
    "pNonControllableLoad = iGenLoad[:pNonControllableLoad][1:T]\n",
    "\n",
    "pDelta = 1 #duration of time period (hr)\n",
    "pCCurtail = 0.25 #cost of curtailment - will depend on the scenario ($/KWH)\n"
   ]
  },
  {
   "cell_type": "markdown",
   "metadata": {},
   "source": [
    "## Generation Parameters"
   ]
  },
  {
   "cell_type": "raw",
   "metadata": {},
   "source": [
    "Parameters to read in: \n",
    "\n",
    "Parameters: structure of energy costs \n",
    "\n",
    "Prices(buyE, sellE, buyNetwork, sellNetwork, capacity?x24) \n",
    "NonControllable Load (1x24)\n",
    "NonControllable Gen (1x24) - includes PVWatts output... wind... whatever. \n",
    "Schedules for Schedulable Load(something...)\n",
    "[building parameters]: Ambient Temp (1x24), Exogenous Internal Radiation and Convection Gains (per zone)(1x24), Gain coefficients (1 x number of parameters)\n",
    "DES Parameters (however many) \n",
    "\n"
   ]
  },
  {
   "cell_type": "code",
   "execution_count": 4,
   "metadata": {
    "collapsed": false
   },
   "outputs": [
    {
     "data": {
      "text/plain": [
       "1x4 Array{Float64,2}:\n",
       " 1.0  5.0  2.5  2.5"
      ]
     },
     "execution_count": 4,
     "metadata": {},
     "output_type": "execute_result"
    }
   ],
   "source": [
    "pGenAssets = [1 5 2.5 2.5] # this is where you specify the technology choices; will ultimately take this from dataframes\n",
    "#genAssets = [pPVbank pBatt_NominalE pBatt_DischargeCapacity pBatt_ChargeCapacity]"
   ]
  },
  {
   "cell_type": "markdown",
   "metadata": {},
   "source": [
    "### Non-Controllable Gen Parameters"
   ]
  },
  {
   "cell_type": "code",
   "execution_count": 5,
   "metadata": {
    "collapsed": false
   },
   "outputs": [],
   "source": [
    "pPV_Capacity = pGenAssets[1] #this is the total capacity of the PV panels \n",
    "pPV_Generation = pGenAssets[1]*iGenLoad[:pPV_Generation][1:T]\n",
    "\n",
    "# declaring non-PV based non-controllable generation\n",
    "pOtherNonControllableGen = iGenLoad[:pOtherNonControllableGen][1:T]\n",
    "\n",
    "#total non-controllable generation = PV + other\n",
    "@defExpr(pTotalNonControllableGen[t=1:T], pPV_Generation[t]+pOtherNonControllableGen[t])\n"
   ]
  },
  {
   "cell_type": "markdown",
   "metadata": {},
   "source": [
    "### Battery Parameters"
   ]
  },
  {
   "cell_type": "code",
   "execution_count": 6,
   "metadata": {
    "collapsed": false
   },
   "outputs": [
    {
     "data": {
      "text/plain": [
       "0.1"
      ]
     },
     "execution_count": 6,
     "metadata": {},
     "output_type": "execute_result"
    }
   ],
   "source": [
    "pBattNominalE = pGenAssets[2]\n",
    "pBattDischargeCapacity = pGenAssets[3] #installed battery discharge power capacity (KW)\n",
    "pBattChargeCapacity = pGenAssets[4] #installed battery charge power capacity (KW)\n",
    "\n",
    "#pBatt_DischargeEff Efficiency of battery discharge\n",
    "#pBatt_ChargeEff Efficiency of battery charge\n",
    "#pBatt_CDeg battery degradation cost ($) #SB!!! Seems an odd thing to specify. Maybe base it off of cycle life, etc.\n",
    "#pBatt_InitialSOC initial state of charge \n",
    "#pBatt_SOCMax maximum SOC\n",
    "#pBatt_SOCMin minimum SOC\n",
    "\n",
    "pBattDischargeEff = iParameters[1,:pBatt_DischargeEff]\n",
    "pBattChargeEff = iParameters[1,:pBatt_ChargeEff]\n",
    "pBattCDeg = iParameters[1,:pBatt_CDeg]\n",
    "pBattInitialSOC = iParameters[1,:pBatt_InitialSOC]\n",
    "pBattSOCMax = iParameters[1,:pBatt_SOCMax]\n",
    "pBattSOCMin = iParameters[1,:pBatt_SOCMin]"
   ]
  },
  {
   "cell_type": "markdown",
   "metadata": {},
   "source": [
    "# Variable Declarations "
   ]
  },
  {
   "cell_type": "markdown",
   "metadata": {},
   "source": [
    "## Power consumption variables "
   ]
  },
  {
   "cell_type": "code",
   "execution_count": 7,
   "metadata": {
    "collapsed": false
   },
   "outputs": [
    {
     "data": {
      "text/latex": [
       "$$ vPowerPurchased_{t} \\geq 0 \\quad\\forall t \\in \\{1,2,\\dots,23,24\\} $$"
      ],
      "text/plain": [
       "vPowerPurchased[t] >= 0 for all t in {1,2..23,24}"
      ]
     },
     "execution_count": 7,
     "metadata": {},
     "output_type": "execute_result"
    }
   ],
   "source": [
    "@defVar(m, vPowerCurtail[t=1:T] >= 0) #curtailed power\n",
    "@defVar(m, vPowerConsumed[t=1:T] >=0) # consumed power\n",
    "@defVar(m, vPowerImportorExport[t=1:T], Bin)\n",
    "\n",
    "@defVar(m, vPowerPurchased[t=1:T] >=0) # power ultimately purchased from utility"
   ]
  },
  {
   "cell_type": "markdown",
   "metadata": {},
   "source": [
    "## Battery variables"
   ]
  },
  {
   "cell_type": "code",
   "execution_count": 8,
   "metadata": {
    "collapsed": false
   },
   "outputs": [
    {
     "data": {
      "text/latex": [
       "$$ vBattCorD_{t} \\in \\{0,1\\} \\quad\\forall t \\in \\{1,2,\\dots,23,24\\} $$"
      ],
      "text/plain": [
       "vBattCorD[t] in {0,1} for all t in {1,2..23,24}"
      ]
     },
     "execution_count": 8,
     "metadata": {},
     "output_type": "execute_result"
    }
   ],
   "source": [
    "@defVar(m, vBattSOC[t=1:T] >= 0) # SOC of battery ----- SB!!! Maybe make this a state variable, not a decision variable.\n",
    "@defVar(m, vBattSOH[t=1:T] >= 0) #State of health of battery (degradation costs)\n",
    "@defVar(m, vBattCharge[t=1:T] >= 0) #battery charging power\n",
    "@defVar(m, vBattDischarge[t=1:T] >= 0) #battery discharging power\n",
    "# @defVar(m, vBatt_Demand[t=1:T] >= 0) #load SB!!! confused by this for now\n",
    "@defVar(m, vBattCorD[t=1:T], Bin) #batt charging or discharging binary variable. \n",
    "# @defVar(m, Bbd[t=1:T], Bin) #batt discharge - unclear if we need this.\n"
   ]
  },
  {
   "cell_type": "markdown",
   "metadata": {},
   "source": [
    "# Constraint Declarations"
   ]
  },
  {
   "cell_type": "markdown",
   "metadata": {},
   "source": [
    "##Demand Balance"
   ]
  },
  {
   "cell_type": "code",
   "execution_count": 13,
   "metadata": {
    "collapsed": false
   },
   "outputs": [],
   "source": [
    "for t=1:T\n",
    "    @addConstraint(m, vPowerConsumed[t] == pNonControllableLoad[t] + vBattCharge[t]) # + vScheduledLoads[t] + ThermalLoads[t] would normally include flexible load\n",
    "end\n",
    "\n",
    "@defExpr(sPowerProduced[t=1:T], pTotalNonControllableGen[t] + vBattDischarge[t])\n",
    "\n",
    "@defExpr(sPowerExport[t=1:T], vPowerConsumed[t]-sPowerProduced[t])\n",
    " \n",
    "\n",
    "#for t=1:T\n",
    "#    if (pTotalNonControllableGen[t] + pBatt_NominalE) > 0\n",
    "#        @addConstraint(m, sPowerExport[t] == sPowerProduced[t]-vPowerConsumed[t])\n",
    "#    else \n",
    "#        @addConstraint(m, sPowerExport[t] == 0)\n",
    "#    end\n",
    "#end\n",
    "\n",
    "#for t=1:T\n",
    "@defExpr(sPowerPurchase[t=1:T], vPowerConsumed[t]-sPowerProduced[t])\n",
    "#end\n",
    "\n",
    "for t=1:T\n",
    "    @addConstraint(m, sPowerExport[t]+sPowerPurchase[t] == vPowerConsumed[t]+sPowerProduced[t])\n",
    "end\n",
    "\n",
    "for t=1:T\n",
    "    @addConstraint(m, sPowerExport[t] <= 10000000*(1-vPowerImportorExport[t]))\n",
    "    @addConstraint(m, sPowerPurchase[t] <= 10000000*(vPowerImportorExport[t]))\n",
    "end\n"
   ]
  },
  {
   "cell_type": "markdown",
   "metadata": {},
   "source": [
    "## Battery Constraints"
   ]
  },
  {
   "cell_type": "code",
   "execution_count": 14,
   "metadata": {
    "collapsed": false
   },
   "outputs": [],
   "source": [
    "#constraining state of charge to appropriate limits\n",
    "@addConstraint(m, vBattSOC[1] == pBattInitialSOC)\n",
    "\n",
    "for t = 1:T\n",
    "    @addConstraint(m, vBattSOC[t] <= pBattSOCMax)\n",
    "    @addConstraint(m, vBattSOC[t] >= pBattSOCMin)\n",
    "end \n",
    "\n",
    "# defining charging losses and efficiency\n",
    "@defExpr(sBattDischargeLosses[t=1:T], pBattDischargeEff*vBattDischarge[t])\n",
    "@defExpr(sBattChargeLosses[t=1:T], pBattChargeEff*vBattCharge[t])\n",
    "@defExpr(sBattLosses[t=1:T], sBattChargeLosses[t] + sBattDischargeLosses[t])\n",
    "\n",
    "@defExpr(sBattOutput[t=1:T], vBattDischarge[t] - sBattDischargeLosses[t])\n",
    "@defExpr(sBattInput[t=1:T], vBattCharge[t] + sBattChargeLosses[t])\n",
    "        \n",
    "\n",
    "if pBattNominalE > 0\n",
    "    for t = 2:T  \n",
    "        @addConstraint(m, vBattSOC[t-1] - (pDelta/pBattNominalE)*(sBattOutput[t-1] - sBattInput[t-1] + sBattLosses[t-1]) == vBattSOC[t])\n",
    "    end \n",
    "else \n",
    "    for t = 2:T\n",
    "        @addConstraint(m, vBattSOC[t] == vBattSOC[1])\n",
    "    end \n",
    "end \n",
    "\n",
    "#define charge or discharge constraint\n",
    "for t=1:T\n",
    "    @addConstraint(m, vBattCharge[t] <= 1000000*vBattCorD[t])\n",
    "    @addConstraint(m, vBattDischarge[t] <= 1000000*(1-vBattCorD[t]))\n",
    "end\n",
    "\n"
   ]
  },
  {
   "cell_type": "code",
   "execution_count": 15,
   "metadata": {
    "collapsed": false
   },
   "outputs": [
    {
     "data": {
      "text/latex": [
       "$$ 0.2 vPowerConsumed_{1} - 0.2 vBattDischarge_{1} + 0.2 vPowerConsumed_{2} - 0.2 vBattDischarge_{2} + 0.2 vPowerConsumed_{3} - 0.2 vBattDischarge_{3} + 0.2 vPowerConsumed_{4} - 0.2 vBattDischarge_{4} + 0.2 vPowerConsumed_{5} - 0.2 vBattDischarge_{5} + 0.2 vPowerConsumed_{6} - 0.2 vBattDischarge_{6} + 0.2 vPowerConsumed_{7} - 0.2 vBattDischarge_{7} + 0.2 vPowerConsumed_{8} - 0.2 vBattDischarge_{8} + 0.2 vPowerConsumed_{9} - 0.2 vBattDischarge_{9} + 0.2 vPowerConsumed_{10} - 0.2 vBattDischarge_{10} + 0.2 vPowerConsumed_{11} - 0.2 vBattDischarge_{11} + 0.2 vPowerConsumed_{12} - 0.2 vBattDischarge_{12} + 0.2 vPowerConsumed_{13} - 0.2 vBattDischarge_{13} + 0.2 vPowerConsumed_{14} - 0.2 vBattDischarge_{14} + 0.2 vPowerConsumed_{15} - 0.2 vBattDischarge_{15} + 0.2 vPowerConsumed_{16} - 0.2 vBattDischarge_{16} + 0.2 vPowerConsumed_{17} - 0.2 vBattDischarge_{17} + 0.6 vPowerConsumed_{18} - 0.6 vBattDischarge_{18} + 0.6 vPowerConsumed_{19} - 0.6 vBattDischarge_{19} + 0.6 vPowerConsumed_{20} - 0.6 vBattDischarge_{20} + 0.6 vPowerConsumed_{21} - 0.6 vBattDischarge_{21} + 0.2 vPowerConsumed_{22} - 0.2 vBattDischarge_{22} + 0.2 vPowerConsumed_{23} - 0.2 vBattDischarge_{23} + 0.2 vPowerConsumed_{24} - 0.2 vBattDischarge_{24} - 0.8826195798000003 $$"
      ],
      "text/plain": [
       "0.2 vPowerConsumed[1] - 0.2 vBattDischarge[1] + 0.2 vPowerConsumed[2] - 0.2 vBattDischarge[2] + 0.2 vPowerConsumed[3] - 0.2 vBattDischarge[3] + 0.2 vPowerConsumed[4] - 0.2 vBattDischarge[4] + 0.2 vPowerConsumed[5] - 0.2 vBattDischarge[5] + 0.2 vPowerConsumed[6] - 0.2 vBattDischarge[6] + 0.2 vPowerConsumed[7] - 0.2 vBattDischarge[7] + 0.2 vPowerConsumed[8] - 0.2 vBattDischarge[8] + 0.2 vPowerConsumed[9] - 0.2 vBattDischarge[9] + 0.2 vPowerConsumed[10] - 0.2 vBattDischarge[10] + 0.2 vPowerConsumed[11] - 0.2 vBattDischarge[11] + 0.2 vPowerConsumed[12] - 0.2 vBattDischarge[12] + 0.2 vPowerConsumed[13] - 0.2 vBattDischarge[13] + 0.2 vPowerConsumed[14] - 0.2 vBattDischarge[14] + 0.2 vPowerConsumed[15] - 0.2 vBattDischarge[15] + 0.2 vPowerConsumed[16] - 0.2 vBattDischarge[16] + 0.2 vPowerConsumed[17] - 0.2 vBattDischarge[17] + 0.6 vPowerConsumed[18] - 0.6 vBattDischarge[18] + 0.6 vPowerConsumed[19] - 0.6 vBattDischarge[19] + 0.6 vPowerConsumed[20] - 0.6 vBattDischarge[20] + 0.6 vPowerConsumed[21] - 0.6 vBattDischarge[21] + 0.2 vPowerConsumed[22] - 0.2 vBattDischarge[22] + 0.2 vPowerConsumed[23] - 0.2 vBattDischarge[23] + 0.2 vPowerConsumed[24] - 0.2 vBattDischarge[24] - 0.8826195798000003"
      ]
     },
     "execution_count": 15,
     "metadata": {},
     "output_type": "execute_result"
    }
   ],
   "source": [
    "@defExpr(TotalCost,sum{pDelta*pBuyEnergy[t]*sPowerPurchase[t] + pDelta*pSellEnergy[t]*sPowerExport[t],t=1:T})"
   ]
  },
  {
   "cell_type": "code",
   "execution_count": 16,
   "metadata": {
    "collapsed": false
   },
   "outputs": [
    {
     "data": {
      "text/latex": [
       "$$ 0.2 vPowerConsumed_{1} - 0.2 vBattDischarge_{1} + 0.2 vPowerConsumed_{2} - 0.2 vBattDischarge_{2} + 0.2 vPowerConsumed_{3} - 0.2 vBattDischarge_{3} + 0.2 vPowerConsumed_{4} - 0.2 vBattDischarge_{4} + 0.2 vPowerConsumed_{5} - 0.2 vBattDischarge_{5} + 0.2 vPowerConsumed_{6} - 0.2 vBattDischarge_{6} + 0.2 vPowerConsumed_{7} - 0.2 vBattDischarge_{7} + 0.2 vPowerConsumed_{8} - 0.2 vBattDischarge_{8} + 0.2 vPowerConsumed_{9} - 0.2 vBattDischarge_{9} + 0.2 vPowerConsumed_{10} - 0.2 vBattDischarge_{10} + 0.2 vPowerConsumed_{11} - 0.2 vBattDischarge_{11} + 0.2 vPowerConsumed_{12} - 0.2 vBattDischarge_{12} + 0.2 vPowerConsumed_{13} - 0.2 vBattDischarge_{13} + 0.2 vPowerConsumed_{14} - 0.2 vBattDischarge_{14} + 0.2 vPowerConsumed_{15} - 0.2 vBattDischarge_{15} + 0.2 vPowerConsumed_{16} - 0.2 vBattDischarge_{16} + 0.2 vPowerConsumed_{17} - 0.2 vBattDischarge_{17} + 0.6 vPowerConsumed_{18} - 0.6 vBattDischarge_{18} + 0.6 vPowerConsumed_{19} - 0.6 vBattDischarge_{19} + 0.6 vPowerConsumed_{20} - 0.6 vBattDischarge_{20} + 0.6 vPowerConsumed_{21} - 0.6 vBattDischarge_{21} + 0.2 vPowerConsumed_{22} - 0.2 vBattDischarge_{22} + 0.2 vPowerConsumed_{23} - 0.2 vBattDischarge_{23} + 0.2 vPowerConsumed_{24} - 0.2 vBattDischarge_{24} - 0.8826195798000003 $$"
      ],
      "text/plain": [
       "0.2 vPowerConsumed[1] - 0.2 vBattDischarge[1] + 0.2 vPowerConsumed[2] - 0.2 vBattDischarge[2] + 0.2 vPowerConsumed[3] - 0.2 vBattDischarge[3] + 0.2 vPowerConsumed[4] - 0.2 vBattDischarge[4] + 0.2 vPowerConsumed[5] - 0.2 vBattDischarge[5] + 0.2 vPowerConsumed[6] - 0.2 vBattDischarge[6] + 0.2 vPowerConsumed[7] - 0.2 vBattDischarge[7] + 0.2 vPowerConsumed[8] - 0.2 vBattDischarge[8] + 0.2 vPowerConsumed[9] - 0.2 vBattDischarge[9] + 0.2 vPowerConsumed[10] - 0.2 vBattDischarge[10] + 0.2 vPowerConsumed[11] - 0.2 vBattDischarge[11] + 0.2 vPowerConsumed[12] - 0.2 vBattDischarge[12] + 0.2 vPowerConsumed[13] - 0.2 vBattDischarge[13] + 0.2 vPowerConsumed[14] - 0.2 vBattDischarge[14] + 0.2 vPowerConsumed[15] - 0.2 vBattDischarge[15] + 0.2 vPowerConsumed[16] - 0.2 vBattDischarge[16] + 0.2 vPowerConsumed[17] - 0.2 vBattDischarge[17] + 0.6 vPowerConsumed[18] - 0.6 vBattDischarge[18] + 0.6 vPowerConsumed[19] - 0.6 vBattDischarge[19] + 0.6 vPowerConsumed[20] - 0.6 vBattDischarge[20] + 0.6 vPowerConsumed[21] - 0.6 vBattDischarge[21] + 0.2 vPowerConsumed[22] - 0.2 vBattDischarge[22] + 0.2 vPowerConsumed[23] - 0.2 vBattDischarge[23] + 0.2 vPowerConsumed[24] - 0.2 vBattDischarge[24] - 0.8826195798000003"
      ]
     },
     "execution_count": 16,
     "metadata": {},
     "output_type": "execute_result"
    }
   ],
   "source": [
    "@setObjective(m, Min, TotalCost)\n",
    "# + PowerImport*PowerBuyPrice(t) + PowerExport*PowerSellPrice(t) + Fixed(t) )"
   ]
  },
  {
   "cell_type": "code",
   "execution_count": 17,
   "metadata": {
    "collapsed": false
   },
   "outputs": [
    {
     "name": "stdout",
     "output_type": "stream",
     "text": [
      "Optimize a model with 456 rows, 216 columns and 1002 nonzeros\r\n",
      "Coefficient statistics:\r\n",
      "  Matrix range    [2e-01, 1e+07]\r\n",
      "  Objective range [2e-01, 6e-01]\r\n",
      "  Bounds range    [1e+00, 1e+00]\r\n",
      "  RHS range       [8e-06, 1e+07]\r\n",
      "Presolve removed 110 rows and 79 columns\r\n",
      "Presolve time: 0.00s\r\n",
      "\r\n",
      "Explored 0 nodes (0 simplex iterations) in 0.00 seconds\r\n",
      "Thread count was 1 (of 4 available processors)\r\n",
      "\r\n",
      "Model is infeasible or unbounded\r\n",
      "Best objective -, best bound -, gap -\r\n"
     ]
    },
    {
     "name": "stderr",
     "output_type": "stream",
     "text": [
      "WARNING: Gurobi reported infeasible or unbounded. Set InfUnbdInfo=1 for more specific status.\n",
      "WARNING: Not solved to optimality, status: InfeasibleOrUnbounded\n"
     ]
    },
    {
     "data": {
      "text/plain": [
       ":InfeasibleOrUnbounded"
      ]
     },
     "execution_count": 17,
     "metadata": {},
     "output_type": "execute_result"
    }
   ],
   "source": [
    "solve(m)"
   ]
  },
  {
   "cell_type": "code",
   "execution_count": null,
   "metadata": {
    "collapsed": true
   },
   "outputs": [],
   "source": []
  }
 ],
 "metadata": {
  "kernelspec": {
   "display_name": "Julia 0.3.11",
   "language": "julia",
   "name": "julia-0.3"
  },
  "language_info": {
   "name": "julia",
   "version": "0.3.11"
  }
 },
 "nbformat": 4,
 "nbformat_minor": 0
}
