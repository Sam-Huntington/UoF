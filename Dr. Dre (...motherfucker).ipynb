{
 "cells": [
  {
   "cell_type": "markdown",
   "metadata": {
    "collapsed": false
   },
   "source": [
    "##Packages"
   ]
  },
  {
   "cell_type": "code",
   "execution_count": 1,
   "metadata": {
    "collapsed": false
   },
   "outputs": [],
   "source": [
    "using DataFrames\n",
    "using JuMP, Gurobi\n",
    "using Gadfly"
   ]
  },
  {
   "cell_type": "markdown",
   "metadata": {},
   "source": [
    "##Initiate Model, Load Data and Define General Parameters"
   ]
  },
  {
   "cell_type": "code",
   "execution_count": 79,
   "metadata": {
    "collapsed": false
   },
   "outputs": [],
   "source": [
    "m = Model(solver=GurobiSolver())\n",
    "\n",
    "#testing comments for merging\n",
    "\n",
    "iGenLoad = readtable(\"BatteryModel_GenLoad.csv\",header=true)\n",
    "iPrices = readtable(\"BatteryModel_Prices.csv\",header=true)\n",
    "iParameters = readtable(\"BatteryModel_Parameters.csv\",header=true)\n",
    "iScheduledLoadsData = readtable(\"SchedulableLoads_Parameters.csv\", header=true) \n",
    "iThermalParameters = readtable(\"Thermal_Parameters.csv\", header=true) \n",
    "\n",
    "T = length(iPrices[:pHour]) \n",
    "pMonth = iPrices[:pMonth][1:T]\n",
    "pWeek = iPrices[:pWeek][1:T]\n",
    "pHour = iPrices[:pHour][1:T]\n",
    "\n",
    "pBuyEnergy = iPrices[:pBuy_Energy][1:T]\n",
    "pSellEnergy = iPrices[:pSell_Energy][1:T]\n",
    "pNonControllableLoad = iGenLoad[:pNonControllableLoad][1:T]\n",
    "\n",
    "pNetworkPeakHour = 117\n",
    "pNetworkCostperkW = 30\n",
    "pDelta = 1 #duration of time period (hr)\n",
    "pCCurtail = 0.25 #cost of curtailment - will depend on the scenario ($/KWH)\n",
    "pGenAssets = [5 5 2.5 2.5] # this is where you specify the technology choices; will ultimately take this from dataframes\n",
    "#genAssets = [pPVbank pBatt_NominalE pBatt_DischargeCapacity pBatt_ChargeCapacity]\n",
    "#pGenAssets = [15 5 2.5 2.5]\n",
    "\n",
    "#NON-CONTROLLABLE GEN PARAMETERS\n",
    "pPV_Capacity = pGenAssets[1] #this is the total capacity of the PV panels \n",
    "pPV_Generation = pGenAssets[1]*iGenLoad[:pPV_Generation][1:T]\n",
    "pOtherNonControllableGen = iGenLoad[:pOtherNonControllableGen][1:T]  # declaring non-PV based non-controllable generation\n",
    "@defExpr(pTotalNonControllableGen[t=1:T], pPV_Generation[t]+pOtherNonControllableGen[t]) #total non-controllable generation = PV + other\n",
    "\n",
    "\n",
    "#SCHEDULABLE LOADS PARAMETERS\n",
    "pLoadTime = iScheduledLoadsData[:pLoadTime][1:52]\n",
    "pFinishTime = iScheduledLoadsData[:pFinishTime][1:52]\n",
    "pMaxLoad = 5\n",
    "pTotal_SL_kWh = 5\n",
    "\n",
    "\n",
    "#THERMAL PARAMETERS\n",
    "# all values from \"Using Residential Electric Loads for Fast Demand Response\"\n",
    "# Mathieu, Dyson, Callaway, 2012 ACEEE Summer Study\n",
    "pOutdoorTemp = iGenLoad[:pOutdoorTemp][1:T]\n",
    "pSetpoint = iGenLoad[:pSetPoint][1:T]\n",
    "pDeadband = iThermalParameters[1,:pDeadband]\n",
    "pCapacitance = iThermalParameters[1,:pCapacitance]              #heat capacity of building interior (kWh/C) \n",
    "pResistance = iThermalParameters[1,:pResistance]                #thermal resistance of between interior and exterior (C/kWh) \n",
    "pCOP = iThermalParameters[1,:pCOP]                              #COP of heat pump (eventually convert to piecewise linear)\n",
    "pMaxPower = iThermalParameters[1,:pMaxPower]\n",
    "pTempDevPenalty = iThermalParameters[1,:pTempDevPenalty]        #temperature deviation penalty ($/deg C)\n",
    "\n",
    "pWH_AmbientTemp = 20\n",
    "pWH_Setpoint = 50\n",
    "pWH_Deadband = iThermalParameters[2,:pDeadband]\n",
    "pWH_Capacitance = iThermalParameters[2,:pCapacitance]              #heat capacity of building interior (kWh/C) \n",
    "pWH_Resistance = iThermalParameters[2,:pResistance]                #thermal resistance of between interior and exterior (C/kWh) \n",
    "pWH_COP = iThermalParameters[2,:pCOP]                              #COP of heat pump (eventually convert to piecewise linear)\n",
    "pWH_MaxPower = iThermalParameters[2,:pMaxPower]\n",
    "\n",
    "\n",
    "#BATTERY PARAMETERS\n",
    "pBattNominalE = pGenAssets[2]\n",
    "pBattDischargeCapacity = pGenAssets[3] #installed battery discharge power capacity (KW)\n",
    "pBattChargeCapacity = pGenAssets[4] #installed battery charge power capacity (KW)\n",
    "\n",
    "pBattDischargeEff = iParameters[1,:pBatt_DischargeEff] #pBatt_DischargeEff Efficiency of battery discharge\n",
    "pBattChargeEff = iParameters[1,:pBatt_ChargeEff] #pBattChargeEff Efficiency of battery charge\n",
    "pBattCDeg = iParameters[1,:pBatt_CDeg] #pBattCDeg battery degradation cost ($) \n",
    "pBattInitialSOC = iParameters[1,:pBatt_InitialSOC] #pBatt_InitialSOC initial state of charge \n",
    "pBattSOCMax = iParameters[1,:pBatt_SOCMax] #pBatt_SOCMax maximum SOC\n",
    "pBattSOCMin = iParameters[1,:pBatt_SOCMin] #pBatt_SOCMin minimum SOC\n",
    ";"
   ]
  },
  {
   "cell_type": "code",
   "execution_count": 63,
   "metadata": {
    "collapsed": false
   },
   "outputs": [
    {
     "data": {
      "text/plain": [
       "120"
      ]
     },
     "execution_count": 63,
     "metadata": {},
     "output_type": "execute_result"
    }
   ],
   "source": [
    "pWH_Resistance"
   ]
  },
  {
   "cell_type": "markdown",
   "metadata": {},
   "source": [
    "###Variable Declarations"
   ]
  },
  {
   "cell_type": "code",
   "execution_count": 80,
   "metadata": {
    "collapsed": false
   },
   "outputs": [],
   "source": [
    "#SCHEDULABLE LOADS\n",
    "@defVar(m, 0<=vSL[t=1:T,1:52]<=pMaxLoad)\n",
    "\n",
    "\n",
    "#THERMAL LOADS\n",
    "@defVar(m, sTempInt[t=1:T] >=0)                 # internal home temp (state variable)\n",
    "@defVar(m, sExtLosses[t=1:T])                   # losses/gains from thermal leakage through building shell\n",
    "@defVar(m, sIntGains[t=1:T])                    # internal gains\n",
    "@defVar(m, 0 <= vPowerHVAC[t=1:T] <= pMaxPower)         # HVAC power draw (continuous, 5kW max) | allow negative values = cooling???\n",
    "@defVar(m, vTempLow[t=1:T]>=0)                                       # penalty for temp deviations\n",
    "@defVar(m, vTempHigh[t=1:T]>=0) \n",
    "\n",
    "#WATER HEAETER\n",
    "@defVar(m, sWH_TempInt[t=1:T] >=0)                 # internal tank temp (state variable)\n",
    "@defVar(m, sWH_ExtLosses[t=1:T])                   # losses/gains from thermal leakage through building shell\n",
    "@defVar(m, sWH_IntGains[t=1:T])                    # internal gains\n",
    "@defVar(m, 0 <= vPowerWH[t=1:T] <= pWH_MaxPower)         # WH power draw \n",
    "@defVar(m, vWH_TempLow[t=1:T]>=0)                                       # penalty for temp deviations\n",
    "@defVar(m, vWH_TempHigh[t=1:T]>=0)\n",
    "\n",
    "#BATTERY\n",
    "@defVar(m, pBattSOCMin <= vBattSOC[t=1:T] <= pBattSOCMax) # SOC of battery ----- SB!!! Maybe make this a state variable, not a decision variable.\n",
    "@defVar(m, vBattSOH[t=1:T] >= 0) #State of health of battery (degradation costs)\n",
    "@defVar(m, vBattCharge[t=1:T] >= 0) #battery charging power\n",
    "@defVar(m, vBattDischarge[t=1:T] >= 0) #battery discharging power\n",
    "@defVar(m, vBattCorD[t=1:T], Bin) #batt charging or discharging binary variable. \n",
    "\n",
    "#DEMAND BALANCE\n",
    "@defVar(m, vPowerCurtail[t=1:T] >= 0) #curtailed power\n",
    "@defVar(m, vPowerConsumed[t=1:T] >=0) # consumed power\n",
    "@defVar(m, vPowerImportorExport[t=1:T], Bin)\n",
    "@defVar(m, vPowerPurchased[t=1:T] >=0) # power ultimately purchased from utility\n",
    "@defVar(m, sPowerExport[t=1:T] >= 0)\n",
    ";"
   ]
  },
  {
   "cell_type": "markdown",
   "metadata": {},
   "source": [
    "###Constraint Declarations"
   ]
  },
  {
   "cell_type": "code",
   "execution_count": 81,
   "metadata": {
    "collapsed": false
   },
   "outputs": [],
   "source": [
    "#SCHEDULABLE LOADS\n",
    "for w = 1:52\n",
    "    @addConstraint(m, pTotal_SL_kWh==sum{vSL[t,w],t=pLoadTime[w]:pFinishTime[w]})\n",
    "    @addConstraint(m, pTotal_SL_kWh==sum{vSL[t,w],t=1:T})\n",
    "end \n",
    "@defExpr(vScheduledLoads[t=1:T], sum{vSL[t,w], w=1:52})\n",
    "\n",
    "\n",
    "#WATER HEATING LOADS\n",
    "for t = 1\n",
    "    @addConstraint(m, sWH_TempInt[t]==pWH_Setpoint)                         #starting temp\n",
    "end\n",
    "for t = 2:T\n",
    "    @addConstraint(m,sWH_TempInt[t-1]+((sWH_ExtLosses[t-1]+sWH_IntGains[t-1])/pWH_Capacitance)==sWH_TempInt[t]) # temp evolution | temp(t) = temp(t-1) + (gains - losses)/heat capacity    \n",
    "end\n",
    "\n",
    "\n",
    "for t = 1:T\n",
    "    @addConstraint(m, ((pWH_AmbientTemp - sWH_TempInt[t])/(pWH_Capacitance*pWH_Resistance))==sWH_ExtLosses[t])   #losses from thermal leakage\n",
    "    @addConstraint(m, ((pWH_COP*vPowerWH[t])/pWH_Capacitance)==sWH_IntGains[t])                         #interanl temp gain from heat pump\n",
    "    \n",
    "    @addConstraint(m, (pWH_Setpoint-pWH_Deadband)-vWH_TempLow[t]<=sWH_TempInt[t])\n",
    "    @addConstraint(m, (pWH_Setpoint+pWH_Deadband)+vWH_TempHigh[t]>=sWH_TempInt[t])\n",
    "end\n",
    "@defExpr(vWH_Load[t=1:T], vPowerWH[t]) #combine with thermal\n",
    "\n",
    "\n",
    "#HEATING/COOLING LOADS\n",
    "for t = 1\n",
    "    @addConstraint(m, sTempInt[t]==pSetpoint[t])                         #starting temp\n",
    "end\n",
    "for t = 2:T\n",
    "    @addConstraint(m,sTempInt[t-1]+((sExtLosses[t-1]+sIntGains[t-1])/pCapacitance)==sTempInt[t]) # temp evolution | temp(t) = temp(t-1) + (gains - losses)/heat capacity    \n",
    "end\n",
    "for t = 1:T\n",
    "    @addConstraint(m, ((pOutdoorTemp[t] - sTempInt[t])/(pCapacitance*pResistance))==sExtLosses[t])   #losses from thermal leakage\n",
    "    @addConstraint(m, ((pCOP*vPowerHVAC[t])/pCapacitance)==sIntGains[t])                         #interanl temp gain from heat pump\n",
    "    @addConstraint(m, (pSetpoint[t]-pDeadband)-vTempLow[t]<=sTempInt[t])\n",
    "    @addConstraint(m, (pSetpoint[t]+pDeadband)+vTempHigh[t]>=sTempInt[t])\n",
    "end\n",
    "@defExpr(vThermalLoad[t=1:T], vPowerHVAC[t])\n",
    "@defExpr(vTotalTempDev[t=1:T],vTempHigh[t]+vTempLow[t]+vWH_TempHigh[t]+vWH_TempLow[t])"
   ]
  },
  {
   "cell_type": "code",
   "execution_count": 75,
   "metadata": {
    "collapsed": false
   },
   "outputs": [
    {
     "data": {
      "text/plain": [
       "3"
      ]
     },
     "execution_count": 75,
     "metadata": {},
     "output_type": "execute_result"
    }
   ],
   "source": [
    "pWH_Deadband"
   ]
  },
  {
   "cell_type": "code",
   "execution_count": 82,
   "metadata": {
    "collapsed": true
   },
   "outputs": [],
   "source": [
    "#BATTERY\n",
    "\n",
    "#constraining state of charge to appropriate limits\n",
    "@addConstraint(m, vBattSOC[1] == pBattInitialSOC)\n",
    "\n",
    "\n",
    "# defining charging losses and efficiency\n",
    "@defExpr(sBattDischargeLosses[t=1:T], pBattDischargeEff*vBattDischarge[t])\n",
    "@defExpr(sBattChargeLosses[t=1:T], pBattChargeEff*vBattCharge[t])\n",
    "@defExpr(sBattLosses[t=1:T], sBattChargeLosses[t] + sBattDischargeLosses[t])\n",
    "\n",
    "@defExpr(sBattOutput[t=1:T], vBattDischarge[t] - sBattDischargeLosses[t])\n",
    "@defExpr(sBattInput[t=1:T], vBattCharge[t] + sBattChargeLosses[t])\n",
    "\n",
    "if pBattNominalE > 0\n",
    "    for t=1:T\n",
    "        @addConstraint(m, vBattCharge[t]<=pBattChargeCapacity)\n",
    "        @addConstraint(m, vBattDischarge[t]<=pBattDischargeCapacity)\n",
    "    end\n",
    "else\n",
    "    for t=1:T\n",
    "        @addConstraint(m, vBattCharge[t]==0)\n",
    "        @addConstraint(m, vBattDischarge[t]==0)\n",
    "    end\n",
    "end\n",
    "    \n",
    "if pBattNominalE > 0\n",
    "    for t = 2:T  \n",
    "        @addConstraint(m, vBattSOC[t-1] - (pDelta/pBattNominalE)*(sBattOutput[t-1] - sBattInput[t-1] + sBattLosses[t-1]) == vBattSOC[t])\n",
    "    end \n",
    "else \n",
    "    for t = 2:T\n",
    "        @addConstraint(m, vBattSOC[t] == vBattSOC[1])\n",
    "    end \n",
    "end \n",
    "\n",
    "#define charge or discharge constraint\n",
    "for t=1:T\n",
    "    @addConstraint(m, vBattCharge[t] <= 1000000*vBattCorD[t])\n",
    "    @addConstraint(m, vBattDischarge[t] <= 1000000*(1-vBattCorD[t]))\n",
    "end\n"
   ]
  },
  {
   "cell_type": "code",
   "execution_count": 83,
   "metadata": {
    "collapsed": false
   },
   "outputs": [],
   "source": [
    "#DEMAND BALANCE\n",
    "\n",
    "@defExpr(sPowerProduced[t=1:T], pTotalNonControllableGen[t] + vBattDischarge[t])\n",
    "\n",
    "for t=1:T\n",
    "    \n",
    "    @addConstraint(m, pNonControllableLoad[t]+vScheduledLoads[t]+vThermalLoad[t]+vWH_Load[t]+vBattCharge[t]==vPowerConsumed[t])     \n",
    "    @addConstraint(m, vPowerConsumed[t]+sPowerExport[t]==vPowerPurchased[t]+sPowerProduced[t])\n",
    "    \n",
    "    #cannot import and export at the same time\n",
    "    @addConstraint(m, sPowerExport[t] <= 10000000*(1-vPowerImportorExport[t]))\n",
    "    @addConstraint(m, vPowerPurchased[t] <= 10000000*(vPowerImportorExport[t]))\n",
    "\n",
    "end"
   ]
  },
  {
   "cell_type": "markdown",
   "metadata": {},
   "source": [
    "##Objective Function"
   ]
  },
  {
   "cell_type": "code",
   "execution_count": 84,
   "metadata": {
    "collapsed": false
   },
   "outputs": [],
   "source": [
    "#@defExpr(TotalCost,sum{pDelta*pBuyEnergy[t]*sPowerPurchase[t] + pDelta*pSellEnergy[t]*sPowerExport[t],t=1:T})\n",
    "#@defExpr(TotalCost, sum{pBuyEnergy[t]*vPowerConsumed[t],t=1:T}+pTempDevPenalty*sum{vTotalTempDev[t],t=1:T}) #WORKS!\n",
    "@defExpr(NetworkCost, pNetworkCostperkW*vPowerPurchased[pNetworkPeakHour])\n",
    "@defExpr(EnergyCost, sum{pBuyEnergy[t]*vPowerPurchased[t],t=1:T}+pTempDevPenalty*sum{vTotalTempDev[t],t=1:T})\n",
    "@defExpr(TotalCost, EnergyCost+NetworkCost)\n",
    "@defExpr(TotalRevenue, sum{pSellEnergy[t]*sPowerExport[t],t=1:T})\n",
    "@defExpr(TotalPowerProvided[t=1:T],vPowerConsumed[t]+sPowerExport[t])\n",
    "@setObjective(m, Min, TotalCost - TotalRevenue);\n",
    ";"
   ]
  },
  {
   "cell_type": "code",
   "execution_count": 85,
   "metadata": {
    "collapsed": false,
    "scrolled": true
   },
   "outputs": [
    {
     "name": "stdout",
     "output_type": "stream",
     "text": [
      "Optimize a model with 166544 rows, 648240 columns and 1314457 nonzeros\n",
      "Coefficient statistics:\n",
      "  Matrix range    [2e-02, 1e+07]\n",
      "  Objective range [2e-05, 3e+01]\n",
      "  Bounds range    [1e-01, 5e+00]\n",
      "  RHS range       [4e-05, 1e+07]\n",
      "Presolve removed 80219 rows and 538168 columns\n",
      "Presolve time: 2.91s\n",
      "Presolved: 86325 rows, 110072 columns, 255349 nonzeros\n",
      "Variable types: 95871 continuous, 14201 integer (14201 binary)\n",
      "\n",
      "Root simplex log...\n",
      "\n",
      "Iteration    Objective       Primal Inf.    Dual Inf.      Time\n",
      "       0   -2.2925470e+05   1.949032e+05   0.000000e+00      6s\n",
      "   46895    2.7887104e+04   0.000000e+00   0.000000e+00      7s\n",
      "\n",
      "Root relaxation: objective 2.788710e+04, 46895 iterations, 1.24 seconds\n",
      "\n",
      "    Nodes    |    Current Node    |     Objective Bounds      |     Work\n",
      " Expl Unexpl |  Obj  Depth IntInf | Incumbent    BestBd   Gap | It/Node Time\n",
      "\n",
      "*    0     0               0    27887.104080 27887.1041  0.00%     -    9s\n",
      "\n",
      "Explored 0 nodes (53994 simplex iterations) in 9.06 seconds\n",
      "Thread count was 2 (of 4 available processors)\n",
      "\n",
      "Optimal solution found (tolerance 1.00e-04)\n",
      "Best objective 2.788710408032e+04, best bound 2.788710408032e+04, gap 0.0%\n",
      "Objective value: 27887.104080324007\n"
     ]
    }
   ],
   "source": [
    "# Print outputs\n",
    "status = solve(m)\n",
    "status\n",
    "println(\"Objective value: \", getObjectiveValue(m))\n",
    "\n",
    "# Time records:\n",
    "# 168 hours, flat prices: 0s\n",
    "# 8760 hours, flat prices: 4s\n",
    "# 8760 hours, RTP prices: 4s\n",
    "# 8760 hours, RTP prices, many SL: 6s\n",
    "# 8760 hours, RTP prices, many SL: 7s"
   ]
  },
  {
   "cell_type": "markdown",
   "metadata": {},
   "source": [
    "##Reporting"
   ]
  },
  {
   "cell_type": "code",
   "execution_count": 86,
   "metadata": {
    "collapsed": false
   },
   "outputs": [],
   "source": [
    "# Build output array\n",
    "aTemp = hcat(pMonth[1:T],\n",
    "        pWeek[1:T],\n",
    "        pHour[1:T],\n",
    "        pBuyEnergy[1:T],\n",
    "        pSellEnergy[1:T],\n",
    "        getValue(vPowerConsumed[1:T]),\n",
    "        getValue(sPowerProduced[1:T]),\n",
    "        getValue(vPowerPurchased[1:T]),\n",
    "        getValue(sPowerExport[1:T]),\n",
    "        getValue(vBattDischarge[1:T]),\n",
    "        getValue(vBattCharge[1:T]),\n",
    "        pSetpoint[1:T],\n",
    "        pOutdoorTemp[1:T],\n",
    "        getValue(sTempInt[1:T]),\n",
    "        getValue(vPowerHVAC[1:T]),\n",
    "        getValue(vBattSOC[1:T]),\n",
    "        getValue(vBattSOH[1:T]),\n",
    "        getValue(vScheduledLoads[1:T]),\n",
    "        getValue(vWH_Load[1:T])\n",
    "        )\n",
    "\n",
    "aTemp = convert(Array, aTemp)\n",
    "\n",
    "dfUsage = convert(DataFrame, aTemp)\n",
    "\n",
    "rename!(dfUsage, {:x1=>:Month,\n",
    "            :x2=>:Week, \n",
    "            :x3=>:Hour, \n",
    "            :x4=>:Buy_Energy, \n",
    "            :x5=>:Sell_Energy, \n",
    "            :x6=>:Power_Consumed,\n",
    "            :x7=>:Power_Produced,\n",
    "            :x8=>:Power_Purchased,\n",
    "            :x9=>:Power_Export,\n",
    "            :x10=>:Batt_Discharge,\n",
    "            :x11=>:Batt_Charge,\n",
    "            :x12=>:Set_point,\n",
    "            :x13=>:Outdoor_temp,\n",
    "            :x14=>:Indoor_temp,\n",
    "            :x15=>:HVAC_kW,\n",
    "            :x16=>:Battery_SOC,\n",
    "            :x17=>:Battery_SOH,\n",
    "            :x18=>:Scheduled_Loads,\n",
    "            :x19=>:WH_Load\n",
    "            })\n",
    "\n",
    "writetable(\"outputs.csv\",dfUsage)\n",
    "\n",
    "bTemp = convert(Array,getValue(vSL[1:T,1:52]))\n",
    "dfTemp = convert(DataFrame, bTemp)\n",
    "writetable(\"SL outputs.csv\",dfTemp)"
   ]
  },
  {
   "cell_type": "code",
   "execution_count": 38,
   "metadata": {
    "collapsed": false
   },
   "outputs": [
    {
     "data": {
      "text/plain": [
       "8760x17 Array{Float64,2}:\n",
       "  1.0   1.0     1.0  0.04565  0.1  …   7.0  20.0     0.0      0.5  0.0\n",
       "  1.0   1.0     2.0  0.03972  0.1      7.0  18.375   3.49107  0.1  0.0\n",
       "  1.0   1.0     3.0  0.0454   0.1      7.0  19.5714  0.0      0.6  0.0\n",
       "  1.0   1.0     4.0  0.04039  0.1      6.5  18.0     1.91667  0.1  0.0\n",
       "  1.0   1.0     5.0  0.04189  0.1      6.0  18.0     4.66667  0.6  0.0\n",
       "  1.0   1.0     6.0  0.03961  0.1  …   6.0  20.0     2.33333  0.1  0.0\n",
       "  1.0   1.0     7.0  0.03737  0.1      4.0  20.0     2.66667  0.1  0.0\n",
       "  1.0   1.0     8.0  0.03577  0.1      5.0  20.0     2.5      0.1  0.0\n",
       "  1.0   1.0     9.0  0.0347   0.1      6.0  20.0     2.33333  0.1  0.0\n",
       "  1.0   1.0    10.0  0.03303  0.1      4.0  20.0     5.0      0.5  0.0\n",
       "  1.0   1.0    11.0  0.03801  0.1  …   4.0  21.75    0.625    1.0  0.0\n",
       "  1.0   1.0    12.0  0.03601  0.1      3.0  20.0     5.0      0.5  0.0\n",
       "  1.0   1.0    13.0  0.04303  0.1      3.0  21.625   0.9375   1.0  0.0\n",
       "  ⋮                                ⋱                          ⋮       \n",
       " 12.0  54.0  8749.0  0.03125  0.1     -2.0  18.0     3.33333  0.6  0.0\n",
       " 12.0  54.0  8750.0  0.03077  0.1     -2.0  18.0     3.33333  0.1  0.0\n",
       " 12.0  54.0  8751.0  0.0281   0.1  …  -2.0  18.0     3.33333  0.1  0.0\n",
       " 12.0  54.0  8752.0  0.02473  0.1     -3.0  18.0     5.0      0.1  0.0\n",
       " 12.0  54.0  8753.0  0.02489  0.1     -3.0  19.125   5.0      0.6  0.0\n",
       " 12.0  54.0  8754.0  0.04009  0.1     -4.0  20.1094  1.20573  1.0  0.0\n",
       " 12.0  54.0  8755.0  0.0325   0.1     -4.0  18.0     3.66667  0.5  0.0\n",
       " 12.0  54.0  8756.0  0.03222  0.1  …  -4.0  18.0     3.66667  0.1  0.0\n",
       " 12.0  54.0  8757.0  0.02666  0.1     -4.0  18.0     3.66667  0.1  0.0\n",
       " 12.0  54.0  8758.0  0.0162   0.1     -4.0  18.0     3.66667  0.1  0.0\n",
       " 12.0  54.0  8759.0  0.01606  0.1     -4.0  18.0     3.66667  0.1  0.0\n",
       " 12.0  54.0  8760.0  0.01355  0.1     -5.0  18.0     0.0      0.1  0.0"
      ]
     },
     "execution_count": 38,
     "metadata": {},
     "output_type": "execute_result"
    }
   ],
   "source": [
    "# Check if file is open and close it so it can be updated\n",
    "\n",
    "    #f = open(\"outputs2.csv\")\n",
    "    #isopen(f)\n",
    "aTemp"
   ]
  },
  {
   "cell_type": "code",
   "execution_count": 63,
   "metadata": {
    "collapsed": false
   },
   "outputs": [
    {
     "ename": "ErrorException",
     "evalue": "The following aesthetics are required by Geom.point to be of equal length: x, y\n",
     "output_type": "error",
     "traceback": [
      "The following aesthetics are required by Geom.point to be of equal length: x, y\n",
      "",
      " in error at error.jl:21 (repeats 2 times)"
     ]
    }
   ],
   "source": [
    "plot(layer(x=1:24,y=getValue(sPowerProduced[1:T]) ,Geom.point, Geom.line, Theme(default_color=colorant\"yellow\")),\n",
    "layer(x=1:24,y=getValue(vPowerConsumed[1:T]) ,Geom.point, Geom.line, Theme(default_color=colorant\"blue\")),\n",
    "layer(x=1:24,y=getValue(sPowerExport[1:T]) ,Geom.point, Geom.line, Theme(default_color=colorant\"orange\")),\n",
    "layer(x=1:24,y=getValue(vBattCharge[1:T]) ,Geom.point, Geom.line, Theme(default_color=colorant\"green\")),\n",
    "layer(x=1:24,y=getValue(vBattDischarge[1:T]) ,Geom.point, Geom.line, Theme(default_color=colorant\"red\")))\n"
   ]
  },
  {
   "cell_type": "code",
   "execution_count": 1,
   "metadata": {
    "collapsed": false
   },
   "outputs": [
    {
     "ename": "LoadError",
     "evalue": "@colorant_str not defined\nwhile loading In[1], in expression starting on line 4",
     "output_type": "error",
     "traceback": [
      "@colorant_str not defined\nwhile loading In[1], in expression starting on line 4",
      ""
     ]
    }
   ],
   "source": [
    "plot(layer(x=1:24,y=getValue(sPowerProduced[1:24]) ,Geom.point, Geom.line, Theme(default_color=colorant\"yellow\")),\n",
    "layer(x=1:24,y=getValue(TotalPowerProvided[1:24]) ,Geom.point, Geom.line, Theme(default_color=colorant\"blue\")),\n",
    "layer(x=1:24,y=getValue(vPowerHVAC[1:24]) ,Geom.point, Geom.line, Theme(default_color=colorant\"orange\")))\n"
   ]
  },
  {
   "cell_type": "code",
   "execution_count": 49,
   "metadata": {
    "collapsed": false
   },
   "outputs": [
    {
     "ename": "LoadError",
     "evalue": "syntax: extra token \"status\" after end of expression\nwhile loading In[49], in expression starting on line 1",
     "output_type": "error",
     "traceback": [
      "syntax: extra token \"status\" after end of expression\nwhile loading In[49], in expression starting on line 1",
      ""
     ]
    }
   ],
   "source": []
  },
  {
   "cell_type": "markdown",
   "metadata": {
    "collapsed": true
   },
   "source": [
    "To do in Gadfly:\n",
    "    - plot on two y-axes\n",
    "    - extend width "
   ]
  }
 ],
 "metadata": {
  "kernelspec": {
   "display_name": "Julia 0.3.11",
   "language": "julia",
   "name": "julia-0.3"
  },
  "language_info": {
   "file_extension": ".jl",
   "mimetype": "application/julia",
   "name": "julia",
   "version": "0.3.11"
  }
 },
 "nbformat": 4,
 "nbformat_minor": 0
}
