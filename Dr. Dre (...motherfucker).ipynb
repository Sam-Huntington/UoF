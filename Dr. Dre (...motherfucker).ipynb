{
 "cells": [
  {
   "cell_type": "markdown",
   "metadata": {
    "collapsed": false
   },
   "source": [
    "##Packages"
   ]
  },
  {
   "cell_type": "code",
   "execution_count": 11,
   "metadata": {
    "collapsed": false
   },
   "outputs": [],
   "source": [
    "using DataFrames\n",
    "using JuMP, Gurobi\n",
    "using Gadfly"
   ]
  },
  {
   "cell_type": "code",
   "execution_count": 25,
   "metadata": {
    "collapsed": false
   },
   "outputs": [
    {
     "name": "stdout",
     "output_type": "stream",
     "text": [
      "Optimize a model with 175540 rows, 1690680 columns and 3417425 nonzeros\n",
      "Coefficient statistics:\n",
      "  Matrix range    [2e-02, 1e+07]\n",
      "  Objective range [2e-05, 3e+01]\n",
      "  Bounds range    [1e-01, 5e+00]\n",
      "  RHS range       [4e-05, 1e+07]\n",
      "Presolve removed 67168 rows and 67168 columns (presolve time = 6s) ...\n",
      "Presolve removed 67340 rows and 1555337 columns\n",
      "Presolve time: 7.11s\n",
      "Presolved: 108200 rows, 135343 columns, 317397 nonzeros\n",
      "Variable types: 117823 continuous, 17520 integer (17520 binary)\n",
      "\n",
      "Root simplex log...\n",
      "\n",
      "Iteration    Objective       Primal Inf.    Dual Inf.      Time\n",
      "       0   -2.2035056e+03   2.880950e+05   0.000000e+00     15s\n",
      "    9919   -2.2034583e+03   2.806742e+05   0.000000e+00     15s\n",
      "   65735   -7.7084913e+02   0.000000e+00   0.000000e+00     19s\n",
      "\n",
      "Root relaxation: objective -7.708491e+02, 65735 iterations, 4.10 seconds\n",
      "\n",
      "    Nodes    |    Current Node    |     Objective Bounds      |     Work\n",
      " Expl Unexpl |  Obj  Depth IntInf | Incumbent    BestBd   Gap | It/Node Time\n",
      "\n",
      "*    0     0               0    -770.8491274 -770.84913  0.00%     -   20s\n",
      "\n",
      "Explored 0 nodes (74566 simplex iterations) in 20.54 seconds\n",
      "Thread count was 2 (of 4 available processors)\n",
      "\n",
      "Optimal solution found (tolerance 1.00e-04)\n",
      "Best objective -7.708491274052e+02, best bound -7.708491274052e+02, gap 0.0%\n",
      "elapsed time: 27.300047211 seconds\n"
     ]
    },
    {
     "data": {
      "text/plain": [
       "27.300047211"
      ]
     },
     "execution_count": 25,
     "metadata": {},
     "output_type": "execute_result"
    }
   ],
   "source": [
    "tic()\n",
    "dr_dre(\"inputs\")\n",
    "toc()"
   ]
  },
  {
   "cell_type": "code",
   "execution_count": 26,
   "metadata": {
    "collapsed": false
   },
   "outputs": [
    {
     "name": "stdout",
     "output_type": "stream",
     "text": [
      "elapsed time: 1.252426926 seconds\n"
     ]
    },
    {
     "data": {
      "text/plain": [
       "1.252426926"
      ]
     },
     "execution_count": 26,
     "metadata": {},
     "output_type": "execute_result"
    }
   ],
   "source": [
    "tic()\n",
    "write_outputs()\n",
    "toc()"
   ]
  },
  {
   "cell_type": "markdown",
   "metadata": {},
   "source": [
    "##Define Parameters and Variables"
   ]
  },
  {
   "cell_type": "code",
   "execution_count": 20,
   "metadata": {
    "collapsed": false
   },
   "outputs": [
    {
     "data": {
      "text/plain": [
       "dr_dre (generic function with 1 method)"
      ]
     },
     "execution_count": 20,
     "metadata": {},
     "output_type": "execute_result"
    }
   ],
   "source": [
    "function dr_dre(path)\n",
    "\n",
    "m = Model(solver=GurobiSolver())\n",
    "    \n",
    "iHourlyInputs = readtable(\"$path/Hourly_Parameters.csv\",header=true)\n",
    "iTechParameters = readtable(\"$path/Tech_Parameters.csv\",header=true)\n",
    "\n",
    "T =  length(iHourlyInputs[:pHour]) #24*7 #\n",
    "pMonth = iHourlyInputs[:pMonth][1:T]\n",
    "pWeek = iHourlyInputs[:pWeek][1:T]\n",
    "pHour = iHourlyInputs[:pHour][1:T]\n",
    "\n",
    "pBuyEnergy = iHourlyInputs[:pBuy_Energy][1:T]\n",
    "pSellEnergy = iHourlyInputs[:pSell_Energy][1:T]\n",
    "pNonControllableLoad = iHourlyInputs[:pNonControllableLoad][1:T]\n",
    "\n",
    "pNetworkPeakHour = 117\n",
    "pNetworkCostperkW = 30\n",
    "pDelta = 1 #duration of time period (hr)\n",
    "pCCurtail = 0.25 #cost of curtailment - will depend on the scenario ($/KWH)\n",
    "pGenAssets = [5 5 2.5 2.5] # this is where you specify the technology choices; will ultimately take this from dataframes\n",
    "#genAssets = [pPVbank pBatt_NominalE pBatt_DischargeCapacity pBatt_ChargeCapacity]\n",
    "#pGenAssets = [15 5 2.5 2.5]\n",
    "\n",
    "\n",
    "#NON-CONTROLLABLE GEN PARAMETERS\n",
    "pPV_Capacity = pGenAssets[1] #this is the total capacity of the PV panels \n",
    "pPV_Generation = pGenAssets[1]*iHourlyInputs[:pPV_Generation][1:T]\n",
    "pOtherNonControllableGen = iHourlyInputs[:pOtherNonControllableGen][1:T]  # declaring non-PV based non-controllable generation\n",
    "@defExpr(pTotalNonControllableGen[t=1:T], pPV_Generation[t]+pOtherNonControllableGen[t]) #total non-controllable generation = PV + other\n",
    "\n",
    "\n",
    "#SCHEDULABLE LOADS PARAMETERS\n",
    "pNumCycles = 170\n",
    "pLoadTime = iTechParameters[:pLoadTime][1:pNumCycles]\n",
    "pFinishTime = iTechParameters[:pFinishTime][1:pNumCycles]\n",
    "pMaxLoad = 1\n",
    "pTotal_SL_kWh = 1\n",
    "\n",
    "\n",
    "#THERMAL PARAMETERS\n",
    "# all values from \"Using Residential Electric Loads for Fast Demand Response\"\n",
    "# Mathieu, Dyson, Callaway - 2012 ACEEE Summer Study\n",
    "pOutdoorTemp = iHourlyInputs[:pOutdoorTemp][1:T]\n",
    "pSetpoint = iHourlyInputs[:pSetPoint][1:T]\n",
    "pDeadband = iTechParameters[1,:pDeadband]\n",
    "pCapacitance = iTechParameters[1,:pCapacitance]              #heat capacity of building interior (kWh/C) \n",
    "pResistance = 4 #iThermalParameters[1,:pResistance]                #thermal resistance of between interior and exterior (C/kWh) \n",
    "pCOP = iTechParameters[1,:pCOP]                              #COP of heat pump (eventually convert to piecewise linear)\n",
    "pMaxPower = iTechParameters[1,:pMaxPower]\n",
    "pTempDevPenalty = iTechParameters[1,:pTempDevPenalty]        #temperature deviation penalty ($/deg C)\n",
    "\n",
    "pWH_AmbientTemp = 20\n",
    "pWH_Setpoint = 50\n",
    "pWH_Deadband = iTechParameters[2,:pDeadband]\n",
    "pWH_Capacitance = iTechParameters[2,:pCapacitance]              #heat capacity of building interior (kWh/C) \n",
    "pWH_Resistance = iTechParameters[2,:pResistance]                #thermal resistance of between interior and exterior (C/kWh) \n",
    "pWH_COP = iTechParameters[2,:pCOP]                              #COP of heat pump (eventually convert to piecewise linear)\n",
    "pWH_MaxPower = iTechParameters[2,:pMaxPower]\n",
    "\n",
    "#BATTERY PARAMETERS\n",
    "pBattNominalE = pGenAssets[2]\n",
    "pBattDischargeCapacity = pGenAssets[3] #installed battery discharge power capacity (KW)\n",
    "pBattChargeCapacity = pGenAssets[4] #installed battery charge power capacity (KW)\n",
    "\n",
    "pBattDischargeEff = iTechParameters[1,:pBatt_DischargeEff] #pBatt_DischargeEff Efficiency of battery discharge\n",
    "pBattChargeEff = iTechParameters[1,:pBatt_ChargeEff] #pBattChargeEff Efficiency of battery charge\n",
    "pBattCDeg = iTechParameters[1,:pBatt_CDeg] #pBattCDeg battery degradation cost ($) \n",
    "pBattInitialSOC = iTechParameters[1,:pBatt_InitialSOC] #pBatt_InitialSOC initial state of charge \n",
    "pBattSOCMax = iTechParameters[1,:pBatt_SOCMax] #pBatt_SOCMax maximum SOC\n",
    "pBattSOCMin = iTechParameters[1,:pBatt_SOCMin] #pBatt_SOCMin minimum SOC\n",
    "\n",
    "\n",
    "#VARIABLES\n",
    "\n",
    "#SCHEDULABLE LOADS\n",
    "@defVar(m, 0<=vSL[t=1:T,1:pNumCycles]<=pMaxLoad)\n",
    "\n",
    "#THERMAL LOADS\n",
    "@defVar(m, sTempInt[t=1:T] >=0)                 # internal home temp (state variable)\n",
    "@defVar(m, sExtLosses[t=1:T])                   # losses/gains from thermal leakage through building shell\n",
    "@defVar(m, sIntGains[t=1:T])                    # internal gains\n",
    "@defVar(m, 0 <= vPowerHP[t=1:T] <= pMaxPower)         # HVAC power draw (continuous, 5kW max) | allow negative values = cooling???\n",
    "@defVar(m, 0 <= vPowerAC[t=1:T] <= pMaxPower)\n",
    "@defVar(m, vTempLow[t=1:T]>=0)                                       # penalty for temp deviations\n",
    "@defVar(m, vTempHigh[t=1:T]>=0) \n",
    "\n",
    "#WATER HEAETER\n",
    "@defVar(m, sWH_TempInt[t=1:T] >=0)                 # internal tank temp (state variable)\n",
    "@defVar(m, sWH_ExtLosses[t=1:T])                   # losses/gains from thermal leakage through building shell\n",
    "@defVar(m, sWH_IntGains[t=1:T])                    # internal gains\n",
    "@defVar(m, 0 <= vPowerWH[t=1:T] <= pWH_MaxPower)         # WH power draw \n",
    "@defVar(m, vWH_TempLow[t=1:T]>=0)                                       # penalty for temp deviations\n",
    "@defVar(m, vWH_TempHigh[t=1:T]>=0)\n",
    "\n",
    "#BATTERY\n",
    "@defVar(m, pBattSOCMin <= vBattSOC[t=1:T] <= pBattSOCMax) # SOC of battery ----- SB!!! Maybe make this a state variable, not a decision variable.\n",
    "@defVar(m, vBattSOH[t=1:T] >= 0) #State of health of battery (degradation costs)\n",
    "@defVar(m, vBattCharge[t=1:T] >= 0) #battery charging power\n",
    "@defVar(m, vBattDischarge[t=1:T] >= 0) #battery discharging power\n",
    "@defVar(m, vBattCorD[t=1:T], Bin) #batt charging or discharging binary variable. \n",
    "\n",
    "#DEMAND BALANCE\n",
    "@defVar(m, vPowerCurtail[t=1:T] >= 0) #curtailed power\n",
    "@defVar(m, vPowerConsumed[t=1:T] >=0) # consumed power\n",
    "@defVar(m, vPowerImportorExport[t=1:T], Bin)\n",
    "@defVar(m, vPowerPurchased[t=1:T] >=0) # power ultimately purchased from utility\n",
    "@defVar(m, sPowerExport[t=1:T] >= 0)\n",
    "\n",
    "    \n",
    "#SCHEDULABLE LOADS\n",
    "for w = 1:pNumCycles\n",
    "    @addConstraint(m, pTotal_SL_kWh==sum{vSL[t,w],t=pLoadTime[w]:pFinishTime[w]})\n",
    "    @addConstraint(m, pTotal_SL_kWh==sum{vSL[t,w],t=1:T})\n",
    "end \n",
    "@defExpr(vScheduledLoads[t=1:T], sum{vSL[t,w], w=1:pNumCycles})\n",
    "\n",
    "\n",
    "#WATER HEATING LOADS\n",
    "for t = 1\n",
    "    @addConstraint(m, sWH_TempInt[t]==pWH_Setpoint)                         #starting temp\n",
    "end\n",
    "for t = 2:T\n",
    "    @addConstraint(m,sWH_TempInt[t-1]+((sWH_ExtLosses[t-1]+sWH_IntGains[t-1])/pWH_Capacitance)==sWH_TempInt[t]) # temp evolution | temp(t) = temp(t-1) + (gains - losses)/heat capacity    \n",
    "end\n",
    "for t = 1:T\n",
    "    @addConstraint(m, ((pWH_AmbientTemp - sWH_TempInt[t])/(pWH_Capacitance*pWH_Resistance))==sWH_ExtLosses[t])   #losses from thermal leakage\n",
    "    @addConstraint(m, ((pWH_COP*vPowerWH[t])/pWH_Capacitance)==sWH_IntGains[t])                         #interanl temp gain from heat pump  \n",
    "    @addConstraint(m, (pWH_Setpoint-pWH_Deadband)-vWH_TempLow[t]<=sWH_TempInt[t])\n",
    "    @addConstraint(m, (pWH_Setpoint+pWH_Deadband)+vWH_TempHigh[t]>=sWH_TempInt[t])\n",
    "end\n",
    "\n",
    "\n",
    "#HEATING/COOLING LOADS\n",
    "for t = 1\n",
    "    @addConstraint(m, sTempInt[t]==pSetpoint[t])                         #starting temp\n",
    "end\n",
    "for t = 2:T\n",
    "    @addConstraint(m,sTempInt[t-1]+((sExtLosses[t-1]+sIntGains[t-1])/pCapacitance)==sTempInt[t]) # temp evolution | temp(t) = temp(t-1) + (gains - losses)/heat capacity    \n",
    "end\n",
    "for t = 1:T\n",
    "    @addConstraint(m, ((pOutdoorTemp[t] - sTempInt[t])/(pCapacitance*pResistance))==sExtLosses[t])   #losses from thermal leakage\n",
    "    @addConstraint(m, ((pCOP*vPowerHP[t])/pCapacitance)-((2.5*vPowerAC[t])/pCapacitance)==sIntGains[t])                         #interanl temp gain from heat pump\n",
    "    @addConstraint(m, (pSetpoint[t]-pDeadband)-vTempLow[t]<=sTempInt[t])\n",
    "    @addConstraint(m, (pSetpoint[t]+pDeadband)+vTempHigh[t]>=sTempInt[t])\n",
    "    \n",
    "    @addConstraint(m, vPowerHP[t]+vPowerAC[t]<=pMaxPower)\n",
    "end\n",
    "@defExpr(vThermalLoad[t=1:T], vPowerHP[t]+vPowerAC[t]+vPowerWH[t])\n",
    "@defExpr(vTotalTempDev[t=1:T],vTempHigh[t]+vTempLow[t]+vWH_TempHigh[t]+vWH_TempLow[t])\n",
    "\n",
    "#BATTERY\n",
    "\n",
    "#constraining state of charge to appropriate limits\n",
    "@addConstraint(m, vBattSOC[1] == pBattInitialSOC)\n",
    "\n",
    "# defining charging losses and efficiency\n",
    "@defExpr(sBattDischargeLosses[t=1:T], pBattDischargeEff*vBattDischarge[t])\n",
    "@defExpr(sBattChargeLosses[t=1:T], pBattChargeEff*vBattCharge[t])\n",
    "@defExpr(sBattLosses[t=1:T], sBattChargeLosses[t] + sBattDischargeLosses[t])\n",
    "\n",
    "@defExpr(sBattOutput[t=1:T], vBattDischarge[t] - sBattDischargeLosses[t])\n",
    "@defExpr(sBattInput[t=1:T], vBattCharge[t] + sBattChargeLosses[t])\n",
    "\n",
    "if pBattNominalE > 0\n",
    "    for t=1:T\n",
    "        @addConstraint(m, vBattCharge[t]<=pBattChargeCapacity)\n",
    "        @addConstraint(m, vBattDischarge[t]<=pBattDischargeCapacity)\n",
    "    end\n",
    "else\n",
    "    for t=1:T\n",
    "        @addConstraint(m, vBattCharge[t]==0)\n",
    "        @addConstraint(m, vBattDischarge[t]==0)\n",
    "    end\n",
    "end\n",
    "    \n",
    "if pBattNominalE > 0\n",
    "    for t = 2:T  \n",
    "        @addConstraint(m, vBattSOC[t-1] - (pDelta/pBattNominalE)*(sBattOutput[t-1] - sBattInput[t-1] + sBattLosses[t-1]) == vBattSOC[t])\n",
    "    end \n",
    "else \n",
    "    for t = 2:T\n",
    "        @addConstraint(m, vBattSOC[t] == vBattSOC[1])\n",
    "    end \n",
    "end \n",
    "\n",
    "#define charge or discharge constraint\n",
    "for t=1:T\n",
    "    @addConstraint(m, vBattCharge[t] <= 1000000*vBattCorD[t])\n",
    "    @addConstraint(m, vBattDischarge[t] <= 1000000*(1-vBattCorD[t]))\n",
    "end\n",
    "\n",
    "\n",
    "#DEMAND BALANCE\n",
    "@defExpr(sPowerProduced[t=1:T], pTotalNonControllableGen[t] + vBattDischarge[t])\n",
    "for t=1:T\n",
    "    @addConstraint(m, pNonControllableLoad[t]+vScheduledLoads[t]+vThermalLoad[t]+vBattCharge[t]==vPowerConsumed[t])     \n",
    "    @addConstraint(m, vPowerConsumed[t]+sPowerExport[t]==vPowerPurchased[t]+sPowerProduced[t]) \n",
    "    #cannot import and export at the same time\n",
    "    @addConstraint(m, sPowerExport[t] <= 10000000*(1-vPowerImportorExport[t]))\n",
    "    @addConstraint(m, vPowerPurchased[t] <= 10000000*(vPowerImportorExport[t]))\n",
    "end\n",
    "\n",
    "#OBJECTIVE FUNCTION\n",
    "@defExpr(EndUseLoads[t=1:T], pNonControllableLoad[t]+vScheduledLoads[t]+vThermalLoad[t])\n",
    "@defExpr(NetworkCost, pNetworkCostperkW*vPowerPurchased[pNetworkPeakHour])\n",
    "@defExpr(EnergyCost, sum{pBuyEnergy[t]*vPowerPurchased[t],t=1:T}+pTempDevPenalty*sum{vTotalTempDev[t],t=1:T})\n",
    "@defExpr(TotalCost, EnergyCost+NetworkCost)\n",
    "@defExpr(TotalRevenue, sum{pSellEnergy[t]*sPowerExport[t],t=1:T})\n",
    "@defExpr(TotalPowerProvided[t=1:T],vPowerConsumed[t]+sPowerExport[t])\n",
    "@setObjective(m, Min, TotalCost - TotalRevenue)\n",
    "\n",
    "\n",
    "    status = solve(m)\n",
    "    return status\n",
    "#return println(\"Objective value: \", getObjectiveValue(m))\n",
    "\n",
    "    #dr_dre end\n",
    "end"
   ]
  },
  {
   "cell_type": "code",
   "execution_count": 9,
   "metadata": {
    "collapsed": false,
    "scrolled": true
   },
   "outputs": [
    {
     "name": "stdout",
     "output_type": "stream",
     "text": [
      "Optimize a model with 175540 rows, 1690680 columns and 3417425 nonzeros\n",
      "Coefficient statistics:\n",
      "  Matrix range    [2e-02, 1e+07]\n",
      "  Objective range [2e-05, 3e+01]\n",
      "  Bounds range    [1e-01, 5e+00]\n",
      "  RHS range       [4e-05, 1e+07]\n",
      "Presolve removed 67167 rows and 67168 columns (presolve time = 5s) ...\n",
      "Presolve removed 67340 rows and 1555337 columns\n",
      "Presolve time: 7.42s\n",
      "Presolved: 108200 rows, 135343 columns, 317397 nonzeros\n",
      "Variable types: 117823 continuous, 17520 integer (17520 binary)\n",
      "\n",
      "Root simplex log...\n",
      "\n",
      "Iteration    Objective       Primal Inf.    Dual Inf.      Time\n",
      "       0   -2.2035056e+03   2.880950e+05   0.000000e+00     16s\n",
      "   65735   -7.7084913e+02   0.000000e+00   0.000000e+00     20s\n",
      "\n",
      "Root relaxation: objective -7.708491e+02, 65735 iterations, 4.53 seconds\n",
      "\n",
      "    Nodes    |    Current Node    |     Objective Bounds      |     Work\n",
      " Expl Unexpl |  Obj  Depth IntInf | Incumbent    BestBd   Gap | It/Node Time\n",
      "\n",
      "*    0     0               0    -770.8491274 -770.84913  0.00%     -   21s\n",
      "\n",
      "Explored 0 nodes (74566 simplex iterations) in 21.94 seconds\n",
      "Thread count was 2 (of 4 available processors)\n",
      "\n",
      "Optimal solution found (tolerance 1.00e-04)\n",
      "Best objective -7.708491274052e+02, best bound -7.708491274052e+02, gap 0.0%\n",
      "Objective value: -770.8491274051606\n"
     ]
    }
   ],
   "source": [
    "# Print outputs\n",
    "status = solve(m)\n",
    "status\n",
    "println(\"Objective value: \", getObjectiveValue(m))\n",
    "\n",
    "# Time records:\n",
    "# 168 hours, flat prices: 0s\n",
    "# 8760 hours, flat prices: 4s\n",
    "# 8760 hours, RTP prices: 4s\n",
    "# 8760 hours, RTP prices, many SL: 6s\n",
    "# 8760 hours, RTP prices, many SL: 7s\n",
    "# 8760, RTP, Battery, SLs, WH: 14s\n",
    "# 8760, RTP, Battery, SLs, WH, HP/AC: 15s"
   ]
  },
  {
   "cell_type": "markdown",
   "metadata": {},
   "source": [
    "##Reporting"
   ]
  },
  {
   "cell_type": "code",
   "execution_count": 23,
   "metadata": {
    "collapsed": false
   },
   "outputs": [
    {
     "data": {
      "text/plain": [
       "write_outputs (generic function with 1 method)"
      ]
     },
     "execution_count": 23,
     "metadata": {},
     "output_type": "execute_result"
    }
   ],
   "source": [
    "function write_outputs()\n",
    "    \n",
    "aTemp = hcat(pMonth[1:T],\n",
    "        pWeek[1:T],\n",
    "        pHour[1:T],\n",
    "        pBuyEnergy[1:T],\n",
    "        pSellEnergy[1:T],\n",
    "        getValue(vPowerConsumed[1:T]),\n",
    "        getValue(sPowerProduced[1:T]),\n",
    "        getValue(vPowerPurchased[1:T]),\n",
    "        getValue(sPowerExport[1:T]),\n",
    "        getValue(vBattDischarge[1:T]),\n",
    "        getValue(vBattCharge[1:T]),\n",
    "        pSetpoint[1:T],\n",
    "        pOutdoorTemp[1:T],\n",
    "        getValue(sTempInt[1:T]),\n",
    "        getValue(vBattSOC[1:T]),\n",
    "        getValue(vBattSOH[1:T]),\n",
    "        getValue(vPowerHP[1:T]),\n",
    "        getValue(vScheduledLoads[1:T]),\n",
    "        getValue(vPowerWH[1:T]),\n",
    "        getValue(vPowerAC[1:T]),\n",
    "        pNonControllableLoad[1:T],\n",
    "        getValue(EndUseLoads[1:T])\n",
    "        )\n",
    "\n",
    "aTemp = convert(Array, aTemp)\n",
    "\n",
    "dfUsage = convert(DataFrame, aTemp)\n",
    "\n",
    "rename!(dfUsage, {:x1=>:Month,\n",
    "            :x2=>:Week, \n",
    "            :x3=>:Hour, \n",
    "            :x4=>:Buy_Energy, \n",
    "            :x5=>:Sell_Energy, \n",
    "            :x6=>:Power_Consumed,\n",
    "            :x7=>:Power_Produced,\n",
    "            :x8=>:Power_Purchased,\n",
    "            :x9=>:Power_Export,\n",
    "            :x10=>:Batt_Discharge,\n",
    "            :x11=>:Batt_Charge,\n",
    "            :x12=>:Set_point,\n",
    "            :x13=>:Outdoor_temp,\n",
    "            :x14=>:Indoor_temp,\n",
    "            :x15=>:Battery_SOC,\n",
    "            :x16=>:Battery_SOH,\n",
    "            :x17=>:HP_kW,\n",
    "            :x18=>:Scheduled_Loads_kW,\n",
    "            :x19=>:WH_kW,\n",
    "            :x20=>:AC_kW,\n",
    "            :x21=>:NonControllableLoads_kW,\n",
    "            :x22=>:EndUseLoads_kW\n",
    "            })\n",
    "\n",
    "writetable(\"outputs.csv\",dfUsage)\n",
    "    \n",
    "end"
   ]
  }
 ],
 "metadata": {
  "kernelspec": {
   "display_name": "Julia 0.3.11",
   "language": "julia",
   "name": "julia-0.3"
  },
  "language_info": {
   "file_extension": ".jl",
   "mimetype": "application/julia",
   "name": "julia",
   "version": "0.3.11"
  }
 },
 "nbformat": 4,
 "nbformat_minor": 0
}
