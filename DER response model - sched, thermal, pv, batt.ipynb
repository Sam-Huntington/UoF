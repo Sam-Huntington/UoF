{
 "cells": [
  {
   "cell_type": "markdown",
   "metadata": {
    "collapsed": false
   },
   "source": [
    "##Packages"
   ]
  },
  {
   "cell_type": "code",
   "execution_count": 35,
   "metadata": {
    "collapsed": false
   },
   "outputs": [],
   "source": [
    "using DataFrames\n",
    "using JuMP, Gurobi\n",
    "using Gadfly"
   ]
  },
  {
   "cell_type": "markdown",
   "metadata": {},
   "source": [
    "To Do:\n",
    "- fix battery code\n",
    "- piecewise linear battery\n",
    "- piecewise linear COP of hp\n",
    "- water heater\n",
    "- network charge\n",
    "    - input system peak (coincident hour)\n",
    "    - charged based on coincidence with system peak\n",
    "    - $/kW for power purchased at 7pm july 15 (i.e. system peak)\n",
    "    - corresponds to local peak - possibly also regional and system peaks\n",
    "\n",
    "Data:\n",
    "- ny rtp\n",
    "- loads\n",
    "- capacity prices\n"
   ]
  },
  {
   "cell_type": "markdown",
   "metadata": {},
   "source": [
    "##Initiate Model, Load Data and Define General Parameters"
   ]
  },
  {
   "cell_type": "code",
   "execution_count": 55,
   "metadata": {
    "collapsed": false
   },
   "outputs": [],
   "source": [
    "m = Model(solver=GurobiSolver())\n",
    "\n",
    "\n",
    "iGenLoad = readtable(\"BatteryModel_GenLoad.csv\",header=true)\n",
    "iPrices = readtable(\"BatteryModel_Prices.csv\",header=true)\n",
    "iParameters = readtable(\"BatteryModel_Parameters.csv\",header=true)\n",
    "iScheduledLoadsData = readtable(\"SchedulableLoads_Parameters.csv\", header=true) \n",
    "iThermalParameters = readtable(\"Thermal_Parameters.csv\", header=true) \n",
    "\n",
    "T = length(iPrices[:pHour]) \n",
    "pMonth = iPrices[:pMonth][1:T]\n",
    "pWeek = iPrices[:pWeek][1:T]\n",
    "pHour = iPrices[:pHour][1:T]\n",
    "\n",
    "pBuyEnergy = iPrices[:pBuy_Energy][1:T]\n",
    "pSellEnergy = iPrices[:pSell_Energy][1:T]\n",
    "pNonControllableLoad = iGenLoad[:pNonControllableLoad][1:T]\n",
    "\n",
    "pNetworkPeakHour = 117\n",
    "pNetworkCostperkW = 30\n",
    "pDelta = 1 #duration of time period (hr)\n",
    "pCCurtail = 0.25 #cost of curtailment - will depend on the scenario ($/KWH)\n",
    "pGenAssets = [5 5 2.5 2.5] # this is where you specify the technology choices; will ultimately take this from dataframes\n",
    "#genAssets = [pPVbank pBatt_NominalE pBatt_DischargeCapacity pBatt_ChargeCapacity]\n",
    "#pGenAssets = [15 5 2.5 2.5]\n",
    "\n",
    "#NON-CONTROLLABLE GEN PARAMETERS\n",
    "pPV_Capacity = pGenAssets[1] #this is the total capacity of the PV panels \n",
    "pPV_Generation = pGenAssets[1]*iGenLoad[:pPV_Generation][1:T]\n",
    "pOtherNonControllableGen = iGenLoad[:pOtherNonControllableGen][1:T]  # declaring non-PV based non-controllable generation\n",
    "@defExpr(pTotalNonControllableGen[t=1:T], pPV_Generation[t]+pOtherNonControllableGen[t]) #total non-controllable generation = PV + other\n",
    "\n",
    "\n",
    "#SCHEDULABLE LOADS PARAMETERS\n",
    "pLoadTime_CW = iScheduledLoadsData[1,:pLoadTime_CW]\n",
    "pFinishTime_CW = iScheduledLoadsData[1,:pFinishTime_CW]\n",
    "pkWh_CW = iScheduledLoadsData[1,:pkWh_CW]\n",
    "pMaxLoad_CW = iScheduledLoadsData[1,:pMaxLoad_CW]\n",
    "\n",
    "pLoadTime_CD = iScheduledLoadsData[1,:pLoadTime_CD]\n",
    "pFinishTime_CD = iScheduledLoadsData[1,:pFinishTime_CD]\n",
    "pkWh_CD = iScheduledLoadsData[1,:pkWh_CD]\n",
    "pMaxLoad_CD = iScheduledLoadsData[1,:pMaxLoad_CD]\n",
    "\n",
    "pLoadTime_DW = iScheduledLoadsData[1,:pLoadTime_DW]\n",
    "pFinishTime_DW = iScheduledLoadsData[1,:pFinishTime_DW]\n",
    "pkWh_DW = iScheduledLoadsData[1,:pkWh_DW]\n",
    "pMaxLoad_DW = iScheduledLoadsData[1,:pMaxLoad_DW]\n",
    "\n",
    "\n",
    "#THERMAL PARAMETERS\n",
    "pOutdoorTemp = iGenLoad[:pOutdoorTemp][1:T]\n",
    "pSetpoint = iGenLoad[:pSetPoint][1:T]\n",
    "pDeadband = iThermalParameters[1,:pDeadband]\n",
    "pCapacitance = iThermalParameters[1,:pCapacitance]              #heat capacity of building interior (kWh/C) \n",
    "pResistance = iThermalParameters[1,:pResistance]                #thermal resistance of between interior and exterior (C/kWh) \n",
    "pCOP = iThermalParameters[1,:pCOP]                              #COP of heat pump (eventually convert to piecewise linear)\n",
    "pMaxPower = iThermalParameters[1,:pMaxPower]\n",
    "pTempDevPenalty = iThermalParameters[1,:pTempDevPenalty]        #temperature deviation penalty ($/deg C)\n",
    "\n",
    "\n",
    "#BATTERY PARAMETERS\n",
    "pBattNominalE = pGenAssets[2]\n",
    "pBattDischargeCapacity = pGenAssets[3] #installed battery discharge power capacity (KW)\n",
    "pBattChargeCapacity = pGenAssets[4] #installed battery charge power capacity (KW)\n",
    "\n",
    "pBattDischargeEff = iParameters[1,:pBatt_DischargeEff] #pBatt_DischargeEff Efficiency of battery discharge\n",
    "pBattChargeEff = iParameters[1,:pBatt_ChargeEff] #pBattChargeEff Efficiency of battery charge\n",
    "pBattCDeg = iParameters[1,:pBatt_CDeg] #pBattCDeg battery degradation cost ($) \n",
    "pBattInitialSOC = iParameters[1,:pBatt_InitialSOC] #pBatt_InitialSOC initial state of charge \n",
    "pBattSOCMax = iParameters[1,:pBatt_SOCMax] #pBatt_SOCMax maximum SOC\n",
    "pBattSOCMin = iParameters[1,:pBatt_SOCMin] #pBatt_SOCMin minimum SOC\n",
    ";"
   ]
  },
  {
   "cell_type": "markdown",
   "metadata": {},
   "source": [
    "###Variable Declarations"
   ]
  },
  {
   "cell_type": "code",
   "execution_count": 56,
   "metadata": {
    "collapsed": false
   },
   "outputs": [],
   "source": [
    "#SCHEDULABLE LOADS\n",
    "@defVar(m, 0<=vCW[t=1:T]<=pMaxLoad_CW)\n",
    "@defVar(m, 0<=vCD[t=1:T]<=pMaxLoad_CD)\n",
    "@defVar(m, 0<=vDW[t=1:T]<=pMaxLoad_DW)\n",
    "\n",
    "#THERMAL LOADS\n",
    "@defVar(m, sTempInt[t=1:T] >=0)                 # internal home temp (state variable)\n",
    "@defVar(m, sExtLosses[t=1:T])                   # losses/gains from thermal leakage through building shell\n",
    "@defVar(m, sIntGains[t=1:T])                    # internal gains\n",
    "@defVar(m, 0 <= vPowerHVAC[t=1:T] <= pMaxPower)         # HVAC power draw (continuous, 5kW max) | allow negative values = cooling???\n",
    "@defVar(m, vTempLow[t=1:T]>=0)                                       # penalty for temp deviations\n",
    "@defVar(m, vTempHigh[t=1:T]>=0) \n",
    "\n",
    "#BATTERY\n",
    "@defVar(m, pBattSOCMin <= vBattSOC[t=1:T] <= pBattSOCMax) # SOC of battery ----- SB!!! Maybe make this a state variable, not a decision variable.\n",
    "@defVar(m, vBattSOH[t=1:T] >= 0) #State of health of battery (degradation costs)\n",
    "@defVar(m, vBattCharge[t=1:T] >= 0) #battery charging power\n",
    "@defVar(m, vBattDischarge[t=1:T] >= 0) #battery discharging power\n",
    "@defVar(m, vBattCorD[t=1:T], Bin) #batt charging or discharging binary variable. \n",
    "\n",
    "#DEMAND BALANCE\n",
    "@defVar(m, vPowerCurtail[t=1:T] >= 0) #curtailed power\n",
    "@defVar(m, vPowerConsumed[t=1:T] >=0) # consumed power\n",
    "@defVar(m, vPowerImportorExport[t=1:T], Bin)\n",
    "@defVar(m, vPowerPurchased[t=1:T] >=0) # power ultimately purchased from utility\n",
    "@defVar(m, sPowerExport[t=1:T] >= 0)\n",
    ";"
   ]
  },
  {
   "cell_type": "markdown",
   "metadata": {},
   "source": [
    "###Constraint Declarations"
   ]
  },
  {
   "cell_type": "code",
   "execution_count": 57,
   "metadata": {
    "collapsed": false
   },
   "outputs": [],
   "source": [
    "#SCHEDULABLE LOADS\n",
    "@addConstraint(m, pkWh_CW==sum{vCW[t],t=pLoadTime_CW:pFinishTime_CW}) \n",
    "@addConstraint(m, pkWh_CD==sum{vCD[t],t=pLoadTime_CD:pFinishTime_CD}) \n",
    "@addConstraint(m, pkWh_DW==sum{vDW[t],t=pLoadTime_DW:pFinishTime_DW}) \n",
    "@defExpr(vScheduledLoads[t=1:T], vCW[t]+vCD[t]+vDW[t])\n",
    "\n",
    "#THERMAL LOADS\n",
    "for t = 1\n",
    "    @addConstraint(m, sTempInt[t]==pSetpoint[t])                         #starting temp\n",
    "end\n",
    "\n",
    "for t = 2:T\n",
    "    @addConstraint(m,sTempInt[t-1]+((sExtLosses[t-1]+sIntGains[t-1])/pCapacitance)==sTempInt[t]) # temp evolution | temp(t) = temp(t-1) + (gains - losses)/heat capacity    \n",
    "end\n",
    "\n",
    "for t = 1:T\n",
    "    @addConstraint(m, ((pOutdoorTemp[t] - sTempInt[t])/(pCapacitance*pResistance))==sExtLosses[t])   #losses from thermal leakage\n",
    "    @addConstraint(m, ((pCOP*vPowerHVAC[t])/pCapacitance)==sIntGains[t])                         #interanl temp gain from heat pump\n",
    "    @addConstraint(m, (pSetpoint[t]-pDeadband)-vTempLow[t]<=sTempInt[t])\n",
    "    @addConstraint(m, (pSetpoint[t]+pDeadband)+vTempHigh[t]>=sTempInt[t])\n",
    "end\n",
    "@defExpr(vThermalLoad[t=1:T], vPowerHVAC[t])\n",
    "@defExpr(vTotalTempDev[t=1:T],vTempHigh[t]+vTempLow[t])"
   ]
  },
  {
   "cell_type": "code",
   "execution_count": 58,
   "metadata": {
    "collapsed": true
   },
   "outputs": [],
   "source": [
    "#BATTERY\n",
    "\n",
    "#constraining state of charge to appropriate limits\n",
    "@addConstraint(m, vBattSOC[1] == pBattInitialSOC)\n",
    "\n",
    "\n",
    "# defining charging losses and efficiency\n",
    "@defExpr(sBattDischargeLosses[t=1:T], pBattDischargeEff*vBattDischarge[t])\n",
    "@defExpr(sBattChargeLosses[t=1:T], pBattChargeEff*vBattCharge[t])\n",
    "@defExpr(sBattLosses[t=1:T], sBattChargeLosses[t] + sBattDischargeLosses[t])\n",
    "\n",
    "@defExpr(sBattOutput[t=1:T], vBattDischarge[t] - sBattDischargeLosses[t])\n",
    "@defExpr(sBattInput[t=1:T], vBattCharge[t] + sBattChargeLosses[t])\n",
    "\n",
    "if pBattNominalE > 0\n",
    "    for t=1:T\n",
    "        @addConstraint(m, vBattCharge[t]<=pBattChargeCapacity)\n",
    "        @addConstraint(m, vBattDischarge[t]<=pBattDischargeCapacity)\n",
    "    end\n",
    "else\n",
    "    for t=1:T\n",
    "        @addConstraint(m, vBattCharge[t]==0)\n",
    "        @addConstraint(m, vBattDischarge[t]==0)\n",
    "    end\n",
    "end\n",
    "    \n",
    "if pBattNominalE > 0\n",
    "    for t = 2:T  \n",
    "        @addConstraint(m, vBattSOC[t-1] - (pDelta/pBattNominalE)*(sBattOutput[t-1] - sBattInput[t-1] + sBattLosses[t-1]) == vBattSOC[t])\n",
    "    end \n",
    "else \n",
    "    for t = 2:T\n",
    "        @addConstraint(m, vBattSOC[t] == vBattSOC[1])\n",
    "    end \n",
    "end \n",
    "\n",
    "#define charge or discharge constraint\n",
    "for t=1:T\n",
    "    @addConstraint(m, vBattCharge[t] <= 1000000*vBattCorD[t])\n",
    "    @addConstraint(m, vBattDischarge[t] <= 1000000*(1-vBattCorD[t]))\n",
    "end\n"
   ]
  },
  {
   "cell_type": "code",
   "execution_count": 59,
   "metadata": {
    "collapsed": false
   },
   "outputs": [],
   "source": [
    "#DEMAND BALANCE\n",
    "\n",
    "@defExpr(sPowerProduced[t=1:T], pTotalNonControllableGen[t] + vBattDischarge[t])\n",
    "\n",
    "for t=1:T\n",
    "    \n",
    "    @addConstraint(m, pNonControllableLoad[t]+vScheduledLoads[t]+vThermalLoad[t]+vBattCharge[t]==vPowerConsumed[t])     \n",
    "    @addConstraint(m, vPowerConsumed[t]+sPowerExport[t]==vPowerPurchased[t]+sPowerProduced[t])\n",
    "    \n",
    "    #cannot import and export at the same time\n",
    "    @addConstraint(m, sPowerExport[t] <= 10000000*(1-vPowerImportorExport[t]))\n",
    "    @addConstraint(m, vPowerPurchased[t] <= 10000000*(vPowerImportorExport[t]))\n",
    "\n",
    "end"
   ]
  },
  {
   "cell_type": "markdown",
   "metadata": {},
   "source": [
    "##Objective Function"
   ]
  },
  {
   "cell_type": "code",
   "execution_count": 60,
   "metadata": {
    "collapsed": false
   },
   "outputs": [],
   "source": [
    "#@defExpr(TotalCost,sum{pDelta*pBuyEnergy[t]*sPowerPurchase[t] + pDelta*pSellEnergy[t]*sPowerExport[t],t=1:T})\n",
    "#@defExpr(TotalCost, sum{pBuyEnergy[t]*vPowerConsumed[t],t=1:T}+pTempDevPenalty*sum{vTotalTempDev[t],t=1:T}) #WORKS!\n",
    "@defExpr(NetworkCost, pNetworkCostperkW*vPowerPurchased[pNetworkPeakHour])\n",
    "@defExpr(EnergyCost, sum{pBuyEnergy[t]*vPowerPurchased[t],t=1:T}+pTempDevPenalty*sum{vTotalTempDev[t],t=1:T})\n",
    "@defExpr(TotalCost, EnergyCost+NetworkCost)\n",
    "@defExpr(TotalRevenue, sum{pSellEnergy[t]*sPowerExport[t],t=1:T})\n",
    "@defExpr(TotalPowerProvided[t=1:T],vPowerConsumed[t]+sPowerExport[t])\n",
    "@setObjective(m, Min, TotalCost - TotalRevenue);\n",
    ";"
   ]
  },
  {
   "cell_type": "code",
   "execution_count": 61,
   "metadata": {
    "collapsed": false,
    "scrolled": true
   },
   "outputs": [
    {
     "name": "stdout",
     "output_type": "stream",
     "text": [
      "Optimize a model with 122643 rows, 166440 columns and 315377 nonzeros\n",
      "Coefficient statistics:\n",
      "  Matrix range    [2e-01, 1e+07]\n",
      "  Objective range [1e-01, 3e+01]\n",
      "  Bounds range    [1e-01, 5e+00]\n",
      "  RHS range       [4e-05, 1e+07]\n",
      "Presolve removed 62965 rows and 84119 columns\n",
      "Presolve time: 0.92s\n",
      "Presolved: 59678 rows, 82321 columns, 174055 nonzeros\n",
      "Variable types: 68452 continuous, 13869 integer (13869 binary)\n",
      "\n",
      "Root relaxation: objective 3.618029e+04, 26545 iterations, 1.31 seconds\n",
      "\n",
      "    Nodes    |    Current Node    |     Objective Bounds      |     Work\n",
      " Expl Unexpl |  Obj  Depth IntInf | Incumbent    BestBd   Gap | It/Node Time\n",
      "\n",
      "*    0     0               0    36180.288616 36180.2886  0.00%     -    4s\n",
      "\n",
      "Explored 0 nodes (34206 simplex iterations) in 4.18 seconds\n",
      "Thread count was 2 (of 4 available processors)\n",
      "\n",
      "Optimal solution found (tolerance 1.00e-04)\n",
      "Best objective 3.618028861594e+04, best bound 3.618028861594e+04, gap 0.0%\n",
      "Objective value: 36180.28861594044\n"
     ]
    }
   ],
   "source": [
    "# Print outputs\n",
    "status = solve(m)\n",
    "status\n",
    "println(\"Objective value: \", getObjectiveValue(m))"
   ]
  },
  {
   "cell_type": "markdown",
   "metadata": {},
   "source": [
    "##Reporting"
   ]
  },
  {
   "cell_type": "code",
   "execution_count": 63,
   "metadata": {
    "collapsed": false
   },
   "outputs": [],
   "source": [
    "# Build output array\n",
    "aTemp = hcat(pMonth[1:T],\n",
    "        pWeek[1:T],\n",
    "        pHour[1:T],\n",
    "        pBuyEnergy[1:T],\n",
    "        pSellEnergy[1:T],\n",
    "        getValue(vPowerConsumed[1:T]),\n",
    "        getValue(sPowerProduced[1:T]),\n",
    "        getValue(vPowerPurchased[1:T]),\n",
    "        getValue(sPowerExport[1:T]),\n",
    "        getValue(vBattDischarge[1:T]),\n",
    "        getValue(vBattCharge[1:T]),\n",
    "        pSetpoint[1:T],\n",
    "        pOutdoorTemp[1:T],\n",
    "        getValue(sTempInt[1:T]),\n",
    "        getValue(vPowerHVAC[1:T]),\n",
    "        getValue(vBattSOC[1:T]),\n",
    "        getValue(vBattSOH[1:T]),\n",
    "        )\n",
    "\n",
    "aTemp = convert(Array, aTemp)\n",
    "\n",
    "dfUsage = convert(DataFrame, aTemp)\n",
    "\n",
    "rename!(dfUsage, {:x1=>:Month,\n",
    "            :x2=>:Week, \n",
    "            :x3=>:Hour, \n",
    "            :x4=>:Buy_Energy, \n",
    "            :x5=>:Sell_Energy, \n",
    "            :x6=>:Power_Consumed,\n",
    "            :x7=>:Power_Produced,\n",
    "            :x8=>:Power_Purchased,\n",
    "            :x9=>:Power_Export,\n",
    "            :x10=>:Batt_Discharge,\n",
    "            :x11=>:Batt_Charge,\n",
    "            :x12=>:Set_point,\n",
    "            :x13=>:Outdoor_temp,\n",
    "            :x14=>:Indoor_temp,\n",
    "            :x15=>:HVAC_kW,\n",
    "            :x16=>:Battery_SOC,\n",
    "            :x17=>:Battery_SOH\n",
    "            })\n",
    "\n",
    "writetable(\"outputs.csv\",dfUsage)"
   ]
  },
  {
   "cell_type": "code",
   "execution_count": 47,
   "metadata": {
    "collapsed": false
   },
   "outputs": [
    {
     "data": {
      "text/plain": [
       "true"
      ]
     },
     "execution_count": 47,
     "metadata": {},
     "output_type": "execute_result"
    }
   ],
   "source": [
    "# Check if file is open and close it so it can be updated\n",
    "\n",
    "    #f = open(\"outputs2.csv\")\n",
    "    #isopen(f)"
   ]
  },
  {
   "cell_type": "code",
   "execution_count": 63,
   "metadata": {
    "collapsed": false
   },
   "outputs": [
    {
     "ename": "ErrorException",
     "evalue": "The following aesthetics are required by Geom.point to be of equal length: x, y\n",
     "output_type": "error",
     "traceback": [
      "The following aesthetics are required by Geom.point to be of equal length: x, y\n",
      "",
      " in error at error.jl:21 (repeats 2 times)"
     ]
    }
   ],
   "source": [
    "plot(layer(x=1:24,y=getValue(sPowerProduced[1:T]) ,Geom.point, Geom.line, Theme(default_color=colorant\"yellow\")),\n",
    "layer(x=1:24,y=getValue(vPowerConsumed[1:T]) ,Geom.point, Geom.line, Theme(default_color=colorant\"blue\")),\n",
    "layer(x=1:24,y=getValue(sPowerExport[1:T]) ,Geom.point, Geom.line, Theme(default_color=colorant\"orange\")),\n",
    "layer(x=1:24,y=getValue(vBattCharge[1:T]) ,Geom.point, Geom.line, Theme(default_color=colorant\"green\")),\n",
    "layer(x=1:24,y=getValue(vBattDischarge[1:T]) ,Geom.point, Geom.line, Theme(default_color=colorant\"red\")))\n"
   ]
  },
  {
   "cell_type": "code",
   "execution_count": 1,
   "metadata": {
    "collapsed": false
   },
   "outputs": [
    {
     "ename": "LoadError",
     "evalue": "@colorant_str not defined\nwhile loading In[1], in expression starting on line 4",
     "output_type": "error",
     "traceback": [
      "@colorant_str not defined\nwhile loading In[1], in expression starting on line 4",
      ""
     ]
    }
   ],
   "source": [
    "plot(layer(x=1:24,y=getValue(sPowerProduced[1:24]) ,Geom.point, Geom.line, Theme(default_color=colorant\"yellow\")),\n",
    "layer(x=1:24,y=getValue(TotalPowerProvided[1:24]) ,Geom.point, Geom.line, Theme(default_color=colorant\"blue\")),\n",
    "layer(x=1:24,y=getValue(vPowerHVAC[1:24]) ,Geom.point, Geom.line, Theme(default_color=colorant\"orange\")))\n"
   ]
  },
  {
   "cell_type": "code",
   "execution_count": 49,
   "metadata": {
    "collapsed": false
   },
   "outputs": [
    {
     "ename": "LoadError",
     "evalue": "syntax: extra token \"status\" after end of expression\nwhile loading In[49], in expression starting on line 1",
     "output_type": "error",
     "traceback": [
      "syntax: extra token \"status\" after end of expression\nwhile loading In[49], in expression starting on line 1",
      ""
     ]
    }
   ],
   "source": []
  },
  {
   "cell_type": "markdown",
   "metadata": {
    "collapsed": true
   },
   "source": [
    "To do in Gadfly:\n",
    "    - plot on two y-axes\n",
    "    - extend width "
   ]
  }
 ],
 "metadata": {
  "kernelspec": {
   "display_name": "Julia 0.3.11",
   "language": "julia",
   "name": "julia-0.3"
  },
  "language_info": {
   "file_extension": ".jl",
   "mimetype": "application/julia",
   "name": "julia",
   "version": "0.3.11"
  }
 },
 "nbformat": 4,
 "nbformat_minor": 0
}
